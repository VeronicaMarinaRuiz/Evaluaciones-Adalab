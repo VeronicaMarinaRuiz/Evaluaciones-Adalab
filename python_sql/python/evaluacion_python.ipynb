{
 "cells": [
  {
   "attachments": {},
   "cell_type": "markdown",
   "metadata": {},
   "source": [
    "**Métodos de *strings***\n",
    "\n",
    "Dado el siguiente *string*. Contesta a las siguientes preguntas: \n"
   ]
  },
  {
   "cell_type": "code",
   "execution_count": 1,
   "metadata": {},
   "outputs": [],
   "source": [
    "string = \"\"\"Hoy estamos en una clase de repaso,\n",
    "el objetivo es intentar solucionar todas vuestras dudas, \n",
    "preguntad todo lo que queráis! \n",
    "\"\"\""
   ]
  },
  {
   "cell_type": "markdown",
   "metadata": {},
   "source": [
    "1️⃣ Crea dos variables nuevas: \n",
    "\n",
    "- Una con el *string* en mayúsculas\n",
    "\n",
    "- Otra con las letras en minúsculas"
   ]
  },
  {
   "cell_type": "code",
   "execution_count": 2,
   "metadata": {},
   "outputs": [
    {
     "name": "stdout",
     "output_type": "stream",
     "text": [
      "HOY ESTAMOS EN UNA CLASE DE REPASO,\n",
      "EL OBJETIVO ES INTENTAR SOLUCIONAR TODAS VUESTRAS DUDAS, \n",
      "PREGUNTAD TODO LO QUE QUERÁIS! \n",
      "\n",
      "hoy estamos en una clase de repaso,\n",
      "el objetivo es intentar solucionar todas vuestras dudas, \n",
      "preguntad todo lo que queráis! \n",
      "\n"
     ]
    }
   ],
   "source": [
    "# Utilizo los dos métodos que modifican la cadena de texto (string) que tengo en mayúsculas .upper() y minúsculas .lower().\n",
    "string_mayus = string.upper()\n",
    "print(string_mayus)\n",
    "\n",
    "string_minus = string.lower()\n",
    "print(string_minus)"
   ]
  },
  {
   "cell_type": "markdown",
   "metadata": {},
   "source": [
    "2️⃣ Pon todas las primeras letras del *string* en mayúscula"
   ]
  },
  {
   "cell_type": "code",
   "execution_count": 3,
   "metadata": {},
   "outputs": [
    {
     "name": "stdout",
     "output_type": "stream",
     "text": [
      "Hoy Estamos En Una Clase De Repaso,\n",
      "El Objetivo Es Intentar Solucionar Todas Vuestras Dudas, \n",
      "Preguntad Todo Lo Que Queráis! \n",
      "\n"
     ]
    }
   ],
   "source": [
    "# Utilizo el método .title() para poner la primera letra de cada palabra en mayúscula.\n",
    "string_primeras_mayus = string.title()\n",
    "print(string_primeras_mayus)"
   ]
  },
  {
   "cell_type": "markdown",
   "metadata": {},
   "source": [
    "3️⃣ Separa el *string*  por los espacios y almacena el resultado en una lista llamanda `texto_lista`"
   ]
  },
  {
   "cell_type": "code",
   "execution_count": 4,
   "metadata": {},
   "outputs": [
    {
     "name": "stdout",
     "output_type": "stream",
     "text": [
      "['Hoy', 'estamos', 'en', 'una', 'clase', 'de', 'repaso,', 'el', 'objetivo', 'es', 'intentar', 'solucionar', 'todas', 'vuestras', 'dudas,', 'preguntad', 'todo', 'lo', 'que', 'queráis!']\n"
     ]
    }
   ],
   "source": [
    "# Utilizo el método .split que da como resultado cada palabra del string separada por los espacios.\n",
    "texto_lista = string.split()\n",
    "print(texto_lista)"
   ]
  },
  {
   "cell_type": "markdown",
   "metadata": {},
   "source": [
    "4️⃣ De la lista obtenida en el ejercicio anterior, selecciona solo los 5 primero elementos y almacena los resultados en una variable que se llame `texto_lista_corta` "
   ]
  },
  {
   "cell_type": "code",
   "execution_count": 5,
   "metadata": {},
   "outputs": [
    {
     "name": "stdout",
     "output_type": "stream",
     "text": [
      "['Hoy', 'estamos', 'en', 'una', 'clase']\n"
     ]
    }
   ],
   "source": [
    "# Accedo a los 5 primeros elementos con el índice hasta el quinto elemento y los almaceno en la lista indicada. Se puede poner tambien [:5] y es el mismo resultado.\n",
    "texto_lista_corta = texto_lista[0:5]\n",
    "print(texto_lista_corta)"
   ]
  },
  {
   "cell_type": "markdown",
   "metadata": {},
   "source": [
    "5️⃣ De la lista obtenida en el ejercicio 5. Vuelve a convertirlo en *string* "
   ]
  },
  {
   "cell_type": "code",
   "execution_count": 6,
   "metadata": {},
   "outputs": [
    {
     "name": "stdout",
     "output_type": "stream",
     "text": [
      "Hoy estamos en una clase\n"
     ]
    },
    {
     "data": {
      "text/plain": [
       "str"
      ]
     },
     "execution_count": 6,
     "metadata": {},
     "output_type": "execute_result"
    }
   ],
   "source": [
    "# Utilizo el método .join() para que una los valores de la lista en un texto(string). Entre las ' ' hay un espacio para que separe cada palabra y compruebo con type si es un string.\n",
    "texto_lista_corta = ' '.join(texto_lista_corta)\n",
    "print(texto_lista_corta)\n",
    "type(texto_lista_corta)"
   ]
  },
  {
   "cell_type": "markdown",
   "metadata": {},
   "source": [
    "6️⃣ Con el *string* obtenido en el paso anterior: \n",
    "\n",
    "- Esta la palabra \"el\" en el *string* \n"
   ]
  },
  {
   "cell_type": "code",
   "execution_count": 7,
   "metadata": {},
   "outputs": [
    {
     "name": "stdout",
     "output_type": "stream",
     "text": [
      "No está\n"
     ]
    }
   ],
   "source": [
    "# Utilizo el bucle for para indicar una condición y que me la busque. Como NO se da la condición del if, imprime el else. Con find() también me encuentra este 'el'\n",
    "if 'el' in texto_lista_corta:\n",
    "    print ('Si está')\n",
    "else:\n",
    "    print('No está')"
   ]
  },
  {
   "cell_type": "code",
   "execution_count": 30,
   "metadata": {},
   "outputs": [
    {
     "data": {
      "text/plain": [
       "-1"
      ]
     },
     "execution_count": 30,
     "metadata": {},
     "output_type": "execute_result"
    }
   ],
   "source": [
    "# Otra manera: como devuelve el valor -1, significa que no lo encuentra.\n",
    "texto_lista_corta.find('el')"
   ]
  },
  {
   "cell_type": "markdown",
   "metadata": {},
   "source": [
    " - Reemplaza \"Hoy\" por nada"
   ]
  },
  {
   "cell_type": "code",
   "execution_count": 8,
   "metadata": {},
   "outputs": [
    {
     "name": "stdout",
     "output_type": "stream",
     "text": [
      "  estamos en una clase\n"
     ]
    }
   ],
   "source": [
    "# Utilizo el método .replace() que reemplaza una palabra indicada por lo que le indiquemos, en este caso no indicamos nada, por lo que pongo un espacio entre las comas.\n",
    "texto_sinhoy = texto_lista_corta.replace('Hoy', ' ')\n",
    "print(texto_sinhoy)"
   ]
  },
  {
   "cell_type": "markdown",
   "metadata": {},
   "source": [
    "- El ejercicio anterior nos ha dejado espacios al inicio del string, eliminalos"
   ]
  },
  {
   "cell_type": "code",
   "execution_count": 9,
   "metadata": {},
   "outputs": [
    {
     "name": "stdout",
     "output_type": "stream",
     "text": [
      "estamos en una clase\n"
     ]
    }
   ],
   "source": [
    "# Utilizo el método strip() que quita los espacios que haya al principio o al final de la variable, en este caso lo había al principio y lo elimina. IMPORTANTE rstrip() y lstrip().\n",
    "texto_final_unido = texto_sinhoy.strip()\n",
    "print(texto_final_unido)"
   ]
  },
  {
   "attachments": {},
   "cell_type": "markdown",
   "metadata": {},
   "source": [
    "**Encuentra el número que no está en la lista**\n",
    "\n",
    "Tenemos una lista desordenada con números positivos de 1 a n. Siempre faltará un sólo número de esta lista aleatoria, ¿cómo identifico cuál falta? Cread un programa para que este código devuelva los resultados deseados:\n",
    "\n",
    "```python\n",
    "lista1 = [3,7,1,2,8,4,5] # nos tiene que devolver 6\n",
    "lista2 = [4,6,1,3,5] #  nos tiene que devolver 2\n",
    "lista3 = [34,35,36,38,39,40] # nos tiene que devolver 37\n",
    "```\n",
    "\n",
    "BONUS: Introduce los resultados obtenidos en un diccionario, indicando que numero falta para cada una de las listas:\n",
    "```python\n",
    "# por ejemplo\n",
    "\n",
    "resultados = {'falta_lista_1': valor_numerico_1, 'falta_lista_2': valor_numerico_2, 'falta_lista_3': valor_numerico_3}\n",
    "```"
   ]
  },
  {
   "cell_type": "code",
   "execution_count": 10,
   "metadata": {},
   "outputs": [],
   "source": [
    "lista1 = [3,7,1,2,8,4,5]\n",
    "lista2 = [4,6,1,3,5] \n",
    "lista3 = [34,35,36,38,39,40]\n",
    "\n",
    "# Creo el diccionario vacío del bonus\n",
    "resultados = {}"
   ]
  },
  {
   "cell_type": "code",
   "execution_count": 11,
   "metadata": {},
   "outputs": [
    {
     "name": "stdout",
     "output_type": "stream",
     "text": [
      "[1, 2, 3, 4, 5, 7, 8]\n",
      "[1, 3, 4, 5, 6]\n",
      "[34, 35, 36, 38, 39, 40]\n"
     ]
    }
   ],
   "source": [
    "# Ordeno las listas con .sort() para tener los números de menor a mayor. sobreescribe, tenía que haber utilizado sorted() alomejor.\n",
    "lista1.sort()\n",
    "print(lista1)\n",
    "\n",
    "lista2.sort()\n",
    "print(lista2)\n",
    "\n",
    "lista3.sort()\n",
    "print(lista3)"
   ]
  },
  {
   "cell_type": "code",
   "execution_count": 12,
   "metadata": {},
   "outputs": [
    {
     "name": "stdout",
     "output_type": "stream",
     "text": [
      "El número que falta es el: 6\n"
     ]
    }
   ],
   "source": [
    "# Utilizo el for con las 3 listas y pongo en el range de qué numero a qué numero tiene que ir pasando y, si no encuentra ese número, que lo imprima porque es el que estamos\n",
    "# buscando. Al final, indicamos que ese número que falta lo incluya en la variable resultados, que es el diccionario que pide el bonus.\n",
    "\n",
    "# range(min(lista), max(lista))\n",
    "# crear una lista de listas.\n",
    "\n",
    "for num in range(1,8):\n",
    "    if num in lista1:\n",
    "        pass\n",
    "    else:\n",
    "        print(f'El número que falta es el: {num}')\n",
    "        resultados.update({'falta_lista_1': num})"
   ]
  },
  {
   "cell_type": "code",
   "execution_count": 13,
   "metadata": {},
   "outputs": [
    {
     "name": "stdout",
     "output_type": "stream",
     "text": [
      "El número que falta es el: 2\n"
     ]
    }
   ],
   "source": [
    "for num in range(1,6):\n",
    "    if num in lista2:\n",
    "        pass\n",
    "    else:\n",
    "        print(f'El número que falta es el: {num}')\n",
    "        resultados.update({'falta_lista_2': num})"
   ]
  },
  {
   "cell_type": "code",
   "execution_count": 14,
   "metadata": {},
   "outputs": [
    {
     "name": "stdout",
     "output_type": "stream",
     "text": [
      "El número que falta es el: 37\n"
     ]
    }
   ],
   "source": [
    "for num in range(34,40):\n",
    "    if num in lista3:\n",
    "        pass\n",
    "    else:\n",
    "        print(f'El número que falta es el: {num}')\n",
    "        resultados.update({'falta_lista_3': num})"
   ]
  },
  {
   "cell_type": "code",
   "execution_count": 15,
   "metadata": {},
   "outputs": [
    {
     "name": "stdout",
     "output_type": "stream",
     "text": [
      "{'falta_lista_1': 6, 'falta_lista_2': 2, 'falta_lista_3': 37}\n"
     ]
    }
   ],
   "source": [
    "# Bonus: Teníamos definido un diccionario vacío y con los update() inserto los key:value obtenidos.\n",
    "print(resultados)"
   ]
  },
  {
   "attachments": {},
   "cell_type": "markdown",
   "metadata": {},
   "source": [
    "**Mover los ceros a la izquierda**\n",
    "\n",
    "Nos dan un *string* con números aleatorios. Algunos de ellos son 0. Encuentra todos los ceros y ponlos al principio de la lista, manteniendo el orden de los demás números.\n",
    "\n",
    "Ejemplo:\n",
    "\n",
    "```python\n",
    "A = [1,10,88,0,59,63,0,20,0]\n",
    "\n",
    "# tiene que devolver\n",
    "[0, 0, 0, 1, 10, 88, 59, 63, 20]\n",
    "```"
   ]
  },
  {
   "cell_type": "code",
   "execution_count": 16,
   "metadata": {},
   "outputs": [],
   "source": [
    "# Defino una variable nueva y creo una lista vacía, en dónde insertar los resultados.\n",
    "A = [1,10,88,0,59,63,0,20,0]\n",
    "B = []"
   ]
  },
  {
   "cell_type": "code",
   "execution_count": 17,
   "metadata": {},
   "outputs": [
    {
     "name": "stdout",
     "output_type": "stream",
     "text": [
      "[0, 0, 0, 1, 10, 88, 59, 63, 20]\n"
     ]
    }
   ],
   "source": [
    "# Con el for le digo que si los elementos son distintos a 0, los añada con append() y este método los añade al final de la lista B.\n",
    "#Y si no lo son, con insert() le indicamos dónde queremos que inserte ese valor: en el índice que le indicamos, el 0(al principio) en la lista B.\n",
    "for num in A:\n",
    "    if num != 0: \n",
    "        B.append(num)\n",
    "    elif num == 0:\n",
    "        B.insert(0, num)\n",
    "print(B)"
   ]
  },
  {
   "attachments": {},
   "cell_type": "markdown",
   "metadata": {},
   "source": [
    "**Invertir palabras de una frase**\n",
    "\n",
    "Nos dan una frase en que quieren que las letras de cada palabra acaben teniendo el orden invertido, manteniendo el orden de las palabras.\n",
    "\n",
    "```python\n",
    "frase = 'Hola Ada'\n",
    "print(frase) # nos daría 'aloH adA'\n",
    "```"
   ]
  },
  {
   "cell_type": "code",
   "execution_count": 18,
   "metadata": {},
   "outputs": [
    {
     "name": "stdout",
     "output_type": "stream",
     "text": [
      "['H', 'o', 'l', 'a', ' ', 'A', 'd', 'a']\n"
     ]
    }
   ],
   "source": [
    "# Primero convierto el string en lista\n",
    "frase = 'Hola Ada'\n",
    "lista_frase = list(frase)\n",
    "print(lista_frase)"
   ]
  },
  {
   "cell_type": "code",
   "execution_count": 19,
   "metadata": {},
   "outputs": [
    {
     "name": "stdout",
     "output_type": "stream",
     "text": [
      "['a', 'd', 'A', ' ', 'a', 'l', 'o', 'H']\n"
     ]
    }
   ],
   "source": [
    "# Aplico el método .reverse() que cambia el orden de la lista, le da la vuelta a los valores.\n",
    "lista_frase.reverse()\n",
    "print(lista_frase)"
   ]
  },
  {
   "cell_type": "code",
   "execution_count": 20,
   "metadata": {},
   "outputs": [
    {
     "name": "stdout",
     "output_type": "stream",
     "text": [
      "a d A   a l o H\n"
     ]
    }
   ],
   "source": [
    "# Después igualo a la variable principal al join() para que una, en una única cadena de texto, todos los valores de esa lista que está al revés. El elemento por el que se van\n",
    "# a unir es ese espacio ' '. Tengo dos espacios\n",
    "frase = ' '.join(lista_frase)\n",
    "print(frase)"
   ]
  },
  {
   "attachments": {},
   "cell_type": "markdown",
   "metadata": {},
   "source": [
    "###  ¿Es un DNI valido?\n",
    "\n",
    "Los DNI españoles pueden ser:\n",
    "\n",
    "- NIF (Numero de Identificación Fiscal) - 8 numeros y una letra, o\n",
    "- NIE (Numero de Identificación de Extranjeros) - 1 letra, 7 numeros y 1 letra."
   ]
  },
  {
   "cell_type": "code",
   "execution_count": 36,
   "metadata": {},
   "outputs": [
    {
     "name": "stdout",
     "output_type": "stream",
     "text": [
      "Este DNI X-1234567-Z es válido\n",
      "Este NIE X-1234567 es válido\n",
      "Este 12345678-M no es válido\n",
      "Este 1234567-T no es válido\n",
      "Este 12345677 no es válido\n"
     ]
    }
   ],
   "source": [
    "lista_dni = ['X-1234567-Z', 'X-1234567', '12345678-M', '1234567-T', '12345677']\n",
    "\n",
    "# Con el for le indico que el DNI o NIE es válido si cumple dos condiciones: primero verificamos que el DNI tiene tres partes (dos letras y un número) y que las letras sean letras \n",
    "# y el número sea un número Luego, verificamos si el NIE tiene dos partes (una letra y un número) y que la letra es realmente una letra y el número es un número. \n",
    "for dni in lista_dni:\n",
    "    dni = dni.split('-')\n",
    "    \n",
    "    if len(dni) == 3 and dni[0].isalpha() and dni[1].isdigit() and dni[2].isalpha():\n",
    "        dni_str = f'{dni[0]}-{dni[1]}-{dni[2]}'\n",
    "        print(f'Este DNI {dni_str} es válido')\n",
    "    \n",
    "    elif len(dni) == 2 and dni[0].isalpha() and dni[1].isdigit() and len(dni[0]) == 1:\n",
    "        dni_str = f'{dni[0]}-{dni[1]}'\n",
    "        print(f'Este NIE {dni_str} es válido')\n",
    "    \n",
    "    else:\n",
    "        print(f'Este {\"-\".join(dni)} no es válido')"
   ]
  },
  {
   "attachments": {},
   "cell_type": "markdown",
   "metadata": {},
   "source": [
    "**BONUS: Encuentra los k números más cerca a X**\n",
    "\n",
    "\n",
    "Haz una programa que compare los contenidos de una lista a un número dado X. Queremos que nos devuelva los k números que son más parecidos al número dado.\n",
    "\n",
    "Ejemplo:\n",
    "```python\n",
    "L = [4, 19, -5, 100, 53, 43, 74, -83, 13.5, 26]\n",
    "# Dados los siguientes valores \n",
    "x =30\n",
    "k = 3 # el número de números que tendremos que buscar en la lista que se parecen a 30 \n",
    "# El output debería ser igual a [26, 19, 43]\n",
    "```"
   ]
  },
  {
   "cell_type": "code",
   "execution_count": 23,
   "metadata": {},
   "outputs": [],
   "source": [
    "# La lista y las variables indicadas.\n",
    "L = [4, 19, -5, 100, 53, 43, 74, -83, 13.5, 26]\n",
    "x = 30\n",
    "k = 3 "
   ]
  },
  {
   "cell_type": "code",
   "execution_count": 40,
   "metadata": {},
   "outputs": [
    {
     "name": "stdout",
     "output_type": "stream",
     "text": [
      "[26, 19, 43]\n"
     ]
    }
   ],
   "source": [
    "# Calcula la distancia entre x y cada elemento en la lista, luego se crea un diccionario donde la key es la distancia y el valor es el número correspondiente. Luego, ordenamos\n",
    "# las keys y cogemos los primeros valores del diccionario.\n",
    "diccionario = {}\n",
    "\n",
    "for elemento in L:\n",
    "    distancia = x - elemento\n",
    "    if distancia < 0:\n",
    "        distancia = distancia * -1\n",
    "    diccionario.update({distancia:elemento})\n",
    "\n",
    "keys_diccionario = sorted(diccionario)\n",
    "lista_parecidos = []\n",
    "\n",
    "for elemento in range(0, k):\n",
    "    lista_parecidos.append(diccionario.get(keys_diccionario[elemento]))\n",
    "    \n",
    "print(lista_parecidos)"
   ]
  }
 ],
 "metadata": {
  "kernelspec": {
   "display_name": "Python 3",
   "language": "python",
   "name": "python3"
  },
  "language_info": {
   "codemirror_mode": {
    "name": "ipython",
    "version": 3
   },
   "file_extension": ".py",
   "mimetype": "text/x-python",
   "name": "python",
   "nbconvert_exporter": "python",
   "pygments_lexer": "ipython3",
   "version": "3.9.7"
  },
  "orig_nbformat": 4,
  "vscode": {
   "interpreter": {
    "hash": "31f2aee4e71d21fbe5cf8b01ff0e069b9275f58929596ceb00d14d90e3e16cd6"
   }
  }
 },
 "nbformat": 4,
 "nbformat_minor": 2
}
