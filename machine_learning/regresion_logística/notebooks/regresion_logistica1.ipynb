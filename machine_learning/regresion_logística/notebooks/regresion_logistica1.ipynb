{
 "cells": [
  {
   "cell_type": "code",
   "execution_count": 173,
   "metadata": {},
   "outputs": [],
   "source": [
    "# Tratamiento de datos\n",
    "# -----------------------------------------------------------------------\n",
    "import numpy as np\n",
    "import pandas as pd\n",
    "pd.options.display.max_columns = None \n",
    "import sidetable\n",
    "\n",
    "# Gráficos\n",
    "# ------------------------------------------------------------------------------\n",
    "import matplotlib.pyplot as plt\n",
    "import seaborn as sns\n",
    "\n",
    "# Estandarización variables numéricas y Codificación variables categóricas\n",
    "# ------------------------------------------------------------------------------\n",
    "from sklearn.preprocessing import RobustScaler\n",
    "\n",
    "# Gestión datos desbalanceados\n",
    "# ------------------------------------------------------------------------------\n",
    "from imblearn.under_sampling import RandomUnderSampler\n",
    "from imblearn.over_sampling import RandomOverSampler\n",
    "from imblearn.combine import SMOTETomek\n",
    "\n",
    "# Para separar los datos en train y test\n",
    "# ------------------------------------------------------------------------------\n",
    "from sklearn.model_selection import train_test_split\n",
    "\n",
    "#  Gestión de warnings\n",
    "# ------------------------------------------------------------------------------\n",
    "import warnings\n",
    "warnings.filterwarnings(\"ignore\")\n"
   ]
  },
  {
   "cell_type": "markdown",
   "metadata": {},
   "source": [
    "# Regresión Logística I. EDA."
   ]
  },
  {
   "cell_type": "markdown",
   "metadata": {},
   "source": [
    "1. Buscar un conjunto de datos a analizar. Se recomienda que el conjunto de datos a analizar tenga variables numéricas y categóricas, primando que haya más de una variable de tipo numérico.\n"
   ]
  },
  {
   "cell_type": "code",
   "execution_count": 174,
   "metadata": {},
   "outputs": [
    {
     "data": {
      "text/html": [
       "<div>\n",
       "<style scoped>\n",
       "    .dataframe tbody tr th:only-of-type {\n",
       "        vertical-align: middle;\n",
       "    }\n",
       "\n",
       "    .dataframe tbody tr th {\n",
       "        vertical-align: top;\n",
       "    }\n",
       "\n",
       "    .dataframe thead th {\n",
       "        text-align: right;\n",
       "    }\n",
       "</style>\n",
       "<table border=\"1\" class=\"dataframe\">\n",
       "  <thead>\n",
       "    <tr style=\"text-align: right;\">\n",
       "      <th></th>\n",
       "      <th>satisfaction</th>\n",
       "      <th>Gender</th>\n",
       "      <th>Customer Type</th>\n",
       "      <th>Age</th>\n",
       "      <th>Type of Travel</th>\n",
       "      <th>Class</th>\n",
       "      <th>Flight Distance</th>\n",
       "      <th>Seat comfort</th>\n",
       "      <th>Departure/Arrival time convenient</th>\n",
       "      <th>Food and drink</th>\n",
       "      <th>Gate location</th>\n",
       "      <th>Inflight wifi service</th>\n",
       "      <th>Inflight entertainment</th>\n",
       "      <th>Online support</th>\n",
       "      <th>Ease of Online booking</th>\n",
       "      <th>On-board service</th>\n",
       "      <th>Leg room service</th>\n",
       "      <th>Baggage handling</th>\n",
       "      <th>Checkin service</th>\n",
       "      <th>Cleanliness</th>\n",
       "      <th>Online boarding</th>\n",
       "      <th>Departure Delay in Minutes</th>\n",
       "      <th>Arrival Delay in Minutes</th>\n",
       "    </tr>\n",
       "  </thead>\n",
       "  <tbody>\n",
       "    <tr>\n",
       "      <th>0</th>\n",
       "      <td>satisfied</td>\n",
       "      <td>Female</td>\n",
       "      <td>Loyal Customer</td>\n",
       "      <td>65</td>\n",
       "      <td>Personal Travel</td>\n",
       "      <td>Eco</td>\n",
       "      <td>265</td>\n",
       "      <td>0</td>\n",
       "      <td>0</td>\n",
       "      <td>0</td>\n",
       "      <td>2</td>\n",
       "      <td>2</td>\n",
       "      <td>4</td>\n",
       "      <td>2</td>\n",
       "      <td>3</td>\n",
       "      <td>3</td>\n",
       "      <td>0</td>\n",
       "      <td>3</td>\n",
       "      <td>5</td>\n",
       "      <td>3</td>\n",
       "      <td>2</td>\n",
       "      <td>0</td>\n",
       "      <td>0.0</td>\n",
       "    </tr>\n",
       "    <tr>\n",
       "      <th>1</th>\n",
       "      <td>satisfied</td>\n",
       "      <td>Male</td>\n",
       "      <td>Loyal Customer</td>\n",
       "      <td>47</td>\n",
       "      <td>Personal Travel</td>\n",
       "      <td>Business</td>\n",
       "      <td>2464</td>\n",
       "      <td>0</td>\n",
       "      <td>0</td>\n",
       "      <td>0</td>\n",
       "      <td>3</td>\n",
       "      <td>0</td>\n",
       "      <td>2</td>\n",
       "      <td>2</td>\n",
       "      <td>3</td>\n",
       "      <td>4</td>\n",
       "      <td>4</td>\n",
       "      <td>4</td>\n",
       "      <td>2</td>\n",
       "      <td>3</td>\n",
       "      <td>2</td>\n",
       "      <td>310</td>\n",
       "      <td>305.0</td>\n",
       "    </tr>\n",
       "    <tr>\n",
       "      <th>2</th>\n",
       "      <td>satisfied</td>\n",
       "      <td>Female</td>\n",
       "      <td>Loyal Customer</td>\n",
       "      <td>15</td>\n",
       "      <td>Personal Travel</td>\n",
       "      <td>Eco</td>\n",
       "      <td>2138</td>\n",
       "      <td>0</td>\n",
       "      <td>0</td>\n",
       "      <td>0</td>\n",
       "      <td>3</td>\n",
       "      <td>2</td>\n",
       "      <td>0</td>\n",
       "      <td>2</td>\n",
       "      <td>2</td>\n",
       "      <td>3</td>\n",
       "      <td>3</td>\n",
       "      <td>4</td>\n",
       "      <td>4</td>\n",
       "      <td>4</td>\n",
       "      <td>2</td>\n",
       "      <td>0</td>\n",
       "      <td>0.0</td>\n",
       "    </tr>\n",
       "    <tr>\n",
       "      <th>3</th>\n",
       "      <td>satisfied</td>\n",
       "      <td>Female</td>\n",
       "      <td>Loyal Customer</td>\n",
       "      <td>60</td>\n",
       "      <td>Personal Travel</td>\n",
       "      <td>Eco</td>\n",
       "      <td>623</td>\n",
       "      <td>0</td>\n",
       "      <td>0</td>\n",
       "      <td>0</td>\n",
       "      <td>3</td>\n",
       "      <td>3</td>\n",
       "      <td>4</td>\n",
       "      <td>3</td>\n",
       "      <td>1</td>\n",
       "      <td>1</td>\n",
       "      <td>0</td>\n",
       "      <td>1</td>\n",
       "      <td>4</td>\n",
       "      <td>1</td>\n",
       "      <td>3</td>\n",
       "      <td>0</td>\n",
       "      <td>0.0</td>\n",
       "    </tr>\n",
       "    <tr>\n",
       "      <th>4</th>\n",
       "      <td>satisfied</td>\n",
       "      <td>Female</td>\n",
       "      <td>Loyal Customer</td>\n",
       "      <td>70</td>\n",
       "      <td>Personal Travel</td>\n",
       "      <td>Eco</td>\n",
       "      <td>354</td>\n",
       "      <td>0</td>\n",
       "      <td>0</td>\n",
       "      <td>0</td>\n",
       "      <td>3</td>\n",
       "      <td>4</td>\n",
       "      <td>3</td>\n",
       "      <td>4</td>\n",
       "      <td>2</td>\n",
       "      <td>2</td>\n",
       "      <td>0</td>\n",
       "      <td>2</td>\n",
       "      <td>4</td>\n",
       "      <td>2</td>\n",
       "      <td>5</td>\n",
       "      <td>0</td>\n",
       "      <td>0.0</td>\n",
       "    </tr>\n",
       "  </tbody>\n",
       "</table>\n",
       "</div>"
      ],
      "text/plain": [
       "  satisfaction  Gender   Customer Type  Age   Type of Travel     Class  \\\n",
       "0    satisfied  Female  Loyal Customer   65  Personal Travel       Eco   \n",
       "1    satisfied    Male  Loyal Customer   47  Personal Travel  Business   \n",
       "2    satisfied  Female  Loyal Customer   15  Personal Travel       Eco   \n",
       "3    satisfied  Female  Loyal Customer   60  Personal Travel       Eco   \n",
       "4    satisfied  Female  Loyal Customer   70  Personal Travel       Eco   \n",
       "\n",
       "   Flight Distance  Seat comfort  Departure/Arrival time convenient  \\\n",
       "0              265             0                                  0   \n",
       "1             2464             0                                  0   \n",
       "2             2138             0                                  0   \n",
       "3              623             0                                  0   \n",
       "4              354             0                                  0   \n",
       "\n",
       "   Food and drink  Gate location  Inflight wifi service  \\\n",
       "0               0              2                      2   \n",
       "1               0              3                      0   \n",
       "2               0              3                      2   \n",
       "3               0              3                      3   \n",
       "4               0              3                      4   \n",
       "\n",
       "   Inflight entertainment  Online support  Ease of Online booking  \\\n",
       "0                       4               2                       3   \n",
       "1                       2               2                       3   \n",
       "2                       0               2                       2   \n",
       "3                       4               3                       1   \n",
       "4                       3               4                       2   \n",
       "\n",
       "   On-board service  Leg room service  Baggage handling  Checkin service  \\\n",
       "0                 3                 0                 3                5   \n",
       "1                 4                 4                 4                2   \n",
       "2                 3                 3                 4                4   \n",
       "3                 1                 0                 1                4   \n",
       "4                 2                 0                 2                4   \n",
       "\n",
       "   Cleanliness  Online boarding  Departure Delay in Minutes  \\\n",
       "0            3                2                           0   \n",
       "1            3                2                         310   \n",
       "2            4                2                           0   \n",
       "3            1                3                           0   \n",
       "4            2                5                           0   \n",
       "\n",
       "   Arrival Delay in Minutes  \n",
       "0                       0.0  \n",
       "1                     305.0  \n",
       "2                       0.0  \n",
       "3                       0.0  \n",
       "4                       0.0  "
      ]
     },
     "execution_count": 174,
     "metadata": {},
     "output_type": "execute_result"
    }
   ],
   "source": [
    "df = pd.read_csv(\"../data/airlines.csv\")\n",
    "df.head()"
   ]
  },
  {
   "cell_type": "markdown",
   "metadata": {},
   "source": [
    "2. Explicar los datos y las variables disponibles en el conjunto de datos seleccionado\n"
   ]
  },
  {
   "cell_type": "markdown",
   "metadata": {},
   "source": [
    "- `satisfaction` (*object*): Si el cliente está satisfecho o no. **Será nuestra variable respuesta**.\n",
    "\n",
    "- `Gender` (*object*): El género del cliente. \n",
    "\n",
    "- `Customer Type` (*object*): Indica si el cliente es Loyal Customer (cliente recurrente) u otro tipo. \n",
    "\n",
    "- `Age` (*int64*): Edad del cliente.\n",
    "\n",
    "- `Type of Travel` (*object*): Tipo de viaje realizado.\n",
    "\n",
    "- `Class` (*object*): Clase en la que viaja el cliente.\n",
    "\n",
    "- `Flight Distance` (*int64*): Distancia  del viaje.\n",
    "\n",
    "- `Seat comfort` (*int64*): Comodidad del asiento.\n",
    "\n",
    "- `Departure/Arrival time convenient`(*int64*): La conveniencia de los horarios de salida/llegada.\n",
    "\n",
    "- `Food and drink` (*int64*): La satisfacción con la comida y la bebida.\n",
    "\n",
    "- `Gate location` (*int64*): Ubicación de la puerta de embarque.\n",
    "\n",
    "- `Inflight wifi service`(*int65*): La puntuación del wi-fi en el vuelo.\n",
    "\n",
    "- `Inflight entertainment`(*int64*):La puntuación de los servicios de entretenimiento en el vuelo.\n",
    "\n",
    "- `Online support`: La puntuación del soporte online de la compañía.\n",
    "\n",
    "- `Ease of Online booking`(*int64*): Puntuación sobre la facilidad de reservar un vuelo.\n",
    "\n",
    "- `On-board service` (*int64*): Puntuación del servicio a bordo.\n",
    "\n",
    "- `Leg room service` (*int64*): Puntuación sobre el espacio de las piernas. \n",
    "\n",
    "- `Baggage handling`: Puntuación de la gestión del equipaje. \n",
    "\n",
    "- `Checkin service`(*int64*): Puntuación sobre el servicio de *check-in* de la aerolinea.\n",
    "\n",
    "- `Cleanliness` (*int64*): Puntuación sobre la limpieza.\n",
    "\n",
    "- `Online boarding`(*int64*): Puntuación sobre el servicio de embarque. \n",
    "\n",
    "- `Departure Delay in Minutes` (*int64*): Minutos de retraso de la salida vuelo.\n",
    "\n",
    "- `Arrival Delay in Minutes` (*float64*): Minutos de retraso del aterrizaje vuelo."
   ]
  },
  {
   "cell_type": "markdown",
   "metadata": {},
   "source": [
    "3. Realizar un EDA sencillo poniendo en práctica los conocimientos adquiridos hasta el momento.\n"
   ]
  },
  {
   "cell_type": "markdown",
   "metadata": {},
   "source": [
    "4. Interpretación de los resultados."
   ]
  },
  {
   "cell_type": "code",
   "execution_count": 175,
   "metadata": {},
   "outputs": [
    {
     "name": "stdout",
     "output_type": "stream",
     "text": [
      "Tenemos 129880 filas en nuestro dataframe y 23 columnas.\n"
     ]
    }
   ],
   "source": [
    "# Comprobamos el nº de filas y columnas. \n",
    "print(f\"Tenemos {df.shape[0]} filas en nuestro dataframe y {df.shape[1]} columnas.\")"
   ]
  },
  {
   "cell_type": "code",
   "execution_count": 176,
   "metadata": {},
   "outputs": [
    {
     "data": {
      "text/plain": [
       "Index(['satisfaction', 'Gender', 'Customer Type', 'Age', 'Type of Travel',\n",
       "       'Class', 'Flight Distance', 'Seat comfort',\n",
       "       'Departure/Arrival time convenient', 'Food and drink', 'Gate location',\n",
       "       'Inflight wifi service', 'Inflight entertainment', 'Online support',\n",
       "       'Ease of Online booking', 'On-board service', 'Leg room service',\n",
       "       'Baggage handling', 'Checkin service', 'Cleanliness', 'Online boarding',\n",
       "       'Departure Delay in Minutes', 'Arrival Delay in Minutes'],\n",
       "      dtype='object')"
      ]
     },
     "execution_count": 176,
     "metadata": {},
     "output_type": "execute_result"
    }
   ],
   "source": [
    "# Comprobamos el nombre de las columnas.\n",
    "df.columns"
   ]
  },
  {
   "cell_type": "code",
   "execution_count": 177,
   "metadata": {},
   "outputs": [
    {
     "data": {
      "text/html": [
       "<div>\n",
       "<style scoped>\n",
       "    .dataframe tbody tr th:only-of-type {\n",
       "        vertical-align: middle;\n",
       "    }\n",
       "\n",
       "    .dataframe tbody tr th {\n",
       "        vertical-align: top;\n",
       "    }\n",
       "\n",
       "    .dataframe thead th {\n",
       "        text-align: right;\n",
       "    }\n",
       "</style>\n",
       "<table border=\"1\" class=\"dataframe\">\n",
       "  <thead>\n",
       "    <tr style=\"text-align: right;\">\n",
       "      <th></th>\n",
       "      <th>satisfaction</th>\n",
       "      <th>gender</th>\n",
       "      <th>customer_type</th>\n",
       "      <th>age</th>\n",
       "      <th>type_of_travel</th>\n",
       "      <th>class</th>\n",
       "      <th>flight_distance</th>\n",
       "      <th>seat_comfort</th>\n",
       "      <th>departure/arrival_time_convenient</th>\n",
       "      <th>food_and_drink</th>\n",
       "      <th>gate_location</th>\n",
       "      <th>inflight_wifi_service</th>\n",
       "      <th>inflight_entertainment</th>\n",
       "      <th>online_support</th>\n",
       "      <th>ease_of_online_booking</th>\n",
       "      <th>on-board_service</th>\n",
       "      <th>leg_room_service</th>\n",
       "      <th>baggage_handling</th>\n",
       "      <th>checkin_service</th>\n",
       "      <th>cleanliness</th>\n",
       "      <th>online_boarding</th>\n",
       "      <th>departure_delay_in_minutes</th>\n",
       "      <th>arrival_delay_in_minutes</th>\n",
       "    </tr>\n",
       "  </thead>\n",
       "  <tbody>\n",
       "    <tr>\n",
       "      <th>0</th>\n",
       "      <td>satisfied</td>\n",
       "      <td>Female</td>\n",
       "      <td>Loyal Customer</td>\n",
       "      <td>65</td>\n",
       "      <td>Personal Travel</td>\n",
       "      <td>Eco</td>\n",
       "      <td>265</td>\n",
       "      <td>0</td>\n",
       "      <td>0</td>\n",
       "      <td>0</td>\n",
       "      <td>2</td>\n",
       "      <td>2</td>\n",
       "      <td>4</td>\n",
       "      <td>2</td>\n",
       "      <td>3</td>\n",
       "      <td>3</td>\n",
       "      <td>0</td>\n",
       "      <td>3</td>\n",
       "      <td>5</td>\n",
       "      <td>3</td>\n",
       "      <td>2</td>\n",
       "      <td>0</td>\n",
       "      <td>0.0</td>\n",
       "    </tr>\n",
       "  </tbody>\n",
       "</table>\n",
       "</div>"
      ],
      "text/plain": [
       "  satisfaction  gender   customer_type  age   type_of_travel class  \\\n",
       "0    satisfied  Female  Loyal Customer   65  Personal Travel   Eco   \n",
       "\n",
       "   flight_distance  seat_comfort  departure/arrival_time_convenient  \\\n",
       "0              265             0                                  0   \n",
       "\n",
       "   food_and_drink  gate_location  inflight_wifi_service  \\\n",
       "0               0              2                      2   \n",
       "\n",
       "   inflight_entertainment  online_support  ease_of_online_booking  \\\n",
       "0                       4               2                       3   \n",
       "\n",
       "   on-board_service  leg_room_service  baggage_handling  checkin_service  \\\n",
       "0                 3                 0                 3                5   \n",
       "\n",
       "   cleanliness  online_boarding  departure_delay_in_minutes  \\\n",
       "0            3                2                           0   \n",
       "\n",
       "   arrival_delay_in_minutes  \n",
       "0                       0.0  "
      ]
     },
     "execution_count": 177,
     "metadata": {},
     "output_type": "execute_result"
    }
   ],
   "source": [
    "# Unificamos los nombres de las columnas para que sea más fácil trabajar con ellas.\n",
    "columnas = {columna : columna.replace(\" \", \"_\").lower() for columna in df.columns}\n",
    "df.rename(columns=columnas, inplace = True)\n",
    "df.head(1)"
   ]
  },
  {
   "cell_type": "code",
   "execution_count": 178,
   "metadata": {},
   "outputs": [
    {
     "data": {
      "text/html": [
       "<div>\n",
       "<style scoped>\n",
       "    .dataframe tbody tr th:only-of-type {\n",
       "        vertical-align: middle;\n",
       "    }\n",
       "\n",
       "    .dataframe tbody tr th {\n",
       "        vertical-align: top;\n",
       "    }\n",
       "\n",
       "    .dataframe thead th {\n",
       "        text-align: right;\n",
       "    }\n",
       "</style>\n",
       "<table border=\"1\" class=\"dataframe\">\n",
       "  <thead>\n",
       "    <tr style=\"text-align: right;\">\n",
       "      <th></th>\n",
       "      <th>satisfaction</th>\n",
       "      <th>gender</th>\n",
       "      <th>customer_type</th>\n",
       "      <th>age</th>\n",
       "      <th>type_of_travel</th>\n",
       "      <th>class</th>\n",
       "      <th>flight_distance</th>\n",
       "      <th>seat_comfort</th>\n",
       "      <th>time_convenient</th>\n",
       "      <th>food_and_drink</th>\n",
       "      <th>gate_location</th>\n",
       "      <th>wifi</th>\n",
       "      <th>entertainment</th>\n",
       "      <th>online_support</th>\n",
       "      <th>online_booking</th>\n",
       "      <th>on-board_service</th>\n",
       "      <th>leg_room_service</th>\n",
       "      <th>baggage_handling</th>\n",
       "      <th>checkin_service</th>\n",
       "      <th>cleanliness</th>\n",
       "      <th>online_boarding</th>\n",
       "      <th>departure_delay</th>\n",
       "      <th>arrival_delay</th>\n",
       "    </tr>\n",
       "  </thead>\n",
       "  <tbody>\n",
       "    <tr>\n",
       "      <th>0</th>\n",
       "      <td>satisfied</td>\n",
       "      <td>Female</td>\n",
       "      <td>Loyal Customer</td>\n",
       "      <td>65</td>\n",
       "      <td>Personal Travel</td>\n",
       "      <td>Eco</td>\n",
       "      <td>265</td>\n",
       "      <td>0</td>\n",
       "      <td>0</td>\n",
       "      <td>0</td>\n",
       "      <td>2</td>\n",
       "      <td>2</td>\n",
       "      <td>4</td>\n",
       "      <td>2</td>\n",
       "      <td>3</td>\n",
       "      <td>3</td>\n",
       "      <td>0</td>\n",
       "      <td>3</td>\n",
       "      <td>5</td>\n",
       "      <td>3</td>\n",
       "      <td>2</td>\n",
       "      <td>0</td>\n",
       "      <td>0.0</td>\n",
       "    </tr>\n",
       "  </tbody>\n",
       "</table>\n",
       "</div>"
      ],
      "text/plain": [
       "  satisfaction  gender   customer_type  age   type_of_travel class  \\\n",
       "0    satisfied  Female  Loyal Customer   65  Personal Travel   Eco   \n",
       "\n",
       "   flight_distance  seat_comfort  time_convenient  food_and_drink  \\\n",
       "0              265             0                0               0   \n",
       "\n",
       "   gate_location  wifi  entertainment  online_support  online_booking  \\\n",
       "0              2     2              4               2               3   \n",
       "\n",
       "   on-board_service  leg_room_service  baggage_handling  checkin_service  \\\n",
       "0                 3                 0                 3                5   \n",
       "\n",
       "   cleanliness  online_boarding  departure_delay  arrival_delay  \n",
       "0            3                2                0            0.0  "
      ]
     },
     "execution_count": 178,
     "metadata": {},
     "output_type": "execute_result"
    }
   ],
   "source": [
    "# Cambiamos algunos nombres por otros más concisos.\n",
    "columnas2 = {\"departure/arrival_time_convenient\" : \"time_convenient\",\n",
    "             \"inflight_wifi_service\" : \"wifi\", \"inflight_entertainment\" : \"entertainment\",\n",
    "            \"ease_of_online_booking\" : \"online_booking\", \"departure_delay_in_minutes\" : \"departure_delay\",\n",
    "            \"arrival_delay_in_minutes\" : \"arrival_delay\"}\n",
    "\n",
    "df.rename(columns=columnas2, inplace = True)\n",
    "df.head(1)"
   ]
  },
  {
   "cell_type": "code",
   "execution_count": 179,
   "metadata": {},
   "outputs": [
    {
     "data": {
      "text/html": [
       "<div>\n",
       "<style scoped>\n",
       "    .dataframe tbody tr th:only-of-type {\n",
       "        vertical-align: middle;\n",
       "    }\n",
       "\n",
       "    .dataframe tbody tr th {\n",
       "        vertical-align: top;\n",
       "    }\n",
       "\n",
       "    .dataframe thead th {\n",
       "        text-align: right;\n",
       "    }\n",
       "</style>\n",
       "<table border=\"1\" class=\"dataframe\">\n",
       "  <thead>\n",
       "    <tr style=\"text-align: right;\">\n",
       "      <th></th>\n",
       "      <th>missing</th>\n",
       "      <th>total</th>\n",
       "      <th>percent</th>\n",
       "    </tr>\n",
       "  </thead>\n",
       "  <tbody>\n",
       "    <tr>\n",
       "      <th>arrival_delay</th>\n",
       "      <td>393</td>\n",
       "      <td>129880</td>\n",
       "      <td>0.302587</td>\n",
       "    </tr>\n",
       "    <tr>\n",
       "      <th>entertainment</th>\n",
       "      <td>0</td>\n",
       "      <td>129880</td>\n",
       "      <td>0.000000</td>\n",
       "    </tr>\n",
       "    <tr>\n",
       "      <th>departure_delay</th>\n",
       "      <td>0</td>\n",
       "      <td>129880</td>\n",
       "      <td>0.000000</td>\n",
       "    </tr>\n",
       "    <tr>\n",
       "      <th>online_boarding</th>\n",
       "      <td>0</td>\n",
       "      <td>129880</td>\n",
       "      <td>0.000000</td>\n",
       "    </tr>\n",
       "    <tr>\n",
       "      <th>cleanliness</th>\n",
       "      <td>0</td>\n",
       "      <td>129880</td>\n",
       "      <td>0.000000</td>\n",
       "    </tr>\n",
       "    <tr>\n",
       "      <th>checkin_service</th>\n",
       "      <td>0</td>\n",
       "      <td>129880</td>\n",
       "      <td>0.000000</td>\n",
       "    </tr>\n",
       "    <tr>\n",
       "      <th>baggage_handling</th>\n",
       "      <td>0</td>\n",
       "      <td>129880</td>\n",
       "      <td>0.000000</td>\n",
       "    </tr>\n",
       "    <tr>\n",
       "      <th>leg_room_service</th>\n",
       "      <td>0</td>\n",
       "      <td>129880</td>\n",
       "      <td>0.000000</td>\n",
       "    </tr>\n",
       "    <tr>\n",
       "      <th>on-board_service</th>\n",
       "      <td>0</td>\n",
       "      <td>129880</td>\n",
       "      <td>0.000000</td>\n",
       "    </tr>\n",
       "    <tr>\n",
       "      <th>online_booking</th>\n",
       "      <td>0</td>\n",
       "      <td>129880</td>\n",
       "      <td>0.000000</td>\n",
       "    </tr>\n",
       "    <tr>\n",
       "      <th>online_support</th>\n",
       "      <td>0</td>\n",
       "      <td>129880</td>\n",
       "      <td>0.000000</td>\n",
       "    </tr>\n",
       "    <tr>\n",
       "      <th>satisfaction</th>\n",
       "      <td>0</td>\n",
       "      <td>129880</td>\n",
       "      <td>0.000000</td>\n",
       "    </tr>\n",
       "    <tr>\n",
       "      <th>gender</th>\n",
       "      <td>0</td>\n",
       "      <td>129880</td>\n",
       "      <td>0.000000</td>\n",
       "    </tr>\n",
       "    <tr>\n",
       "      <th>gate_location</th>\n",
       "      <td>0</td>\n",
       "      <td>129880</td>\n",
       "      <td>0.000000</td>\n",
       "    </tr>\n",
       "    <tr>\n",
       "      <th>food_and_drink</th>\n",
       "      <td>0</td>\n",
       "      <td>129880</td>\n",
       "      <td>0.000000</td>\n",
       "    </tr>\n",
       "    <tr>\n",
       "      <th>time_convenient</th>\n",
       "      <td>0</td>\n",
       "      <td>129880</td>\n",
       "      <td>0.000000</td>\n",
       "    </tr>\n",
       "    <tr>\n",
       "      <th>seat_comfort</th>\n",
       "      <td>0</td>\n",
       "      <td>129880</td>\n",
       "      <td>0.000000</td>\n",
       "    </tr>\n",
       "    <tr>\n",
       "      <th>flight_distance</th>\n",
       "      <td>0</td>\n",
       "      <td>129880</td>\n",
       "      <td>0.000000</td>\n",
       "    </tr>\n",
       "    <tr>\n",
       "      <th>class</th>\n",
       "      <td>0</td>\n",
       "      <td>129880</td>\n",
       "      <td>0.000000</td>\n",
       "    </tr>\n",
       "    <tr>\n",
       "      <th>type_of_travel</th>\n",
       "      <td>0</td>\n",
       "      <td>129880</td>\n",
       "      <td>0.000000</td>\n",
       "    </tr>\n",
       "    <tr>\n",
       "      <th>age</th>\n",
       "      <td>0</td>\n",
       "      <td>129880</td>\n",
       "      <td>0.000000</td>\n",
       "    </tr>\n",
       "    <tr>\n",
       "      <th>customer_type</th>\n",
       "      <td>0</td>\n",
       "      <td>129880</td>\n",
       "      <td>0.000000</td>\n",
       "    </tr>\n",
       "    <tr>\n",
       "      <th>wifi</th>\n",
       "      <td>0</td>\n",
       "      <td>129880</td>\n",
       "      <td>0.000000</td>\n",
       "    </tr>\n",
       "  </tbody>\n",
       "</table>\n",
       "</div>"
      ],
      "text/plain": [
       "                  missing   total   percent\n",
       "arrival_delay         393  129880  0.302587\n",
       "entertainment           0  129880  0.000000\n",
       "departure_delay         0  129880  0.000000\n",
       "online_boarding         0  129880  0.000000\n",
       "cleanliness             0  129880  0.000000\n",
       "checkin_service         0  129880  0.000000\n",
       "baggage_handling        0  129880  0.000000\n",
       "leg_room_service        0  129880  0.000000\n",
       "on-board_service        0  129880  0.000000\n",
       "online_booking          0  129880  0.000000\n",
       "online_support          0  129880  0.000000\n",
       "satisfaction            0  129880  0.000000\n",
       "gender                  0  129880  0.000000\n",
       "gate_location           0  129880  0.000000\n",
       "food_and_drink          0  129880  0.000000\n",
       "time_convenient         0  129880  0.000000\n",
       "seat_comfort            0  129880  0.000000\n",
       "flight_distance         0  129880  0.000000\n",
       "class                   0  129880  0.000000\n",
       "type_of_travel          0  129880  0.000000\n",
       "age                     0  129880  0.000000\n",
       "customer_type           0  129880  0.000000\n",
       "wifi                    0  129880  0.000000"
      ]
     },
     "execution_count": 179,
     "metadata": {},
     "output_type": "execute_result"
    }
   ],
   "source": [
    "# Comprobamos si tenemos nulos y, como podemos ver, sólo tenemos en \"arrival_delay\".\n",
    "df.stb.missing()"
   ]
  },
  {
   "cell_type": "code",
   "execution_count": 180,
   "metadata": {},
   "outputs": [],
   "source": [
    "# Vamos a sustituir los nulos por la mediana. \n",
    "df[\"arrival_delay\"].fillna(df[\"arrival_delay\"].median(), inplace = True)"
   ]
  },
  {
   "cell_type": "code",
   "execution_count": 181,
   "metadata": {},
   "outputs": [
    {
     "data": {
      "text/plain": [
       "0"
      ]
     },
     "execution_count": 181,
     "metadata": {},
     "output_type": "execute_result"
    }
   ],
   "source": [
    "# Comprobamos si tenemos duplicados y no tenemos.\n",
    "df.duplicated().sum()"
   ]
  },
  {
   "cell_type": "code",
   "execution_count": 182,
   "metadata": {},
   "outputs": [],
   "source": [
    "# Cambiamos el tipo de columna de la variable respuesta, falsas numéricas y otras a \"category\".\n",
    "columnas_categoria = [\"satisfaction\", \"gender\", \"customer_type\", \"type_of_travel\",\n",
    "        \"class\", \"seat_comfort\", \"time_convenient\", \"food_and_drink\", \"gate_location\", \"wifi\", \"entertainment\",\n",
    "        \"online_support\", \"online_booking\", \"on-board_service\",\n",
    "        \"leg_room_service\", \"baggage_handling\", \"checkin_service\",\n",
    "        \"cleanliness\", \"online_boarding\"]\n",
    "\n",
    "for i in columnas_categoria:\n",
    "    df[i] = df[i].astype(\"category\")"
   ]
  },
  {
   "cell_type": "code",
   "execution_count": 183,
   "metadata": {},
   "outputs": [
    {
     "data": {
      "text/html": [
       "<div>\n",
       "<style scoped>\n",
       "    .dataframe tbody tr th:only-of-type {\n",
       "        vertical-align: middle;\n",
       "    }\n",
       "\n",
       "    .dataframe tbody tr th {\n",
       "        vertical-align: top;\n",
       "    }\n",
       "\n",
       "    .dataframe thead th {\n",
       "        text-align: right;\n",
       "    }\n",
       "</style>\n",
       "<table border=\"1\" class=\"dataframe\">\n",
       "  <thead>\n",
       "    <tr style=\"text-align: right;\">\n",
       "      <th></th>\n",
       "      <th>count</th>\n",
       "      <th>mean</th>\n",
       "      <th>std</th>\n",
       "      <th>min</th>\n",
       "      <th>25%</th>\n",
       "      <th>50%</th>\n",
       "      <th>75%</th>\n",
       "      <th>max</th>\n",
       "    </tr>\n",
       "  </thead>\n",
       "  <tbody>\n",
       "    <tr>\n",
       "      <th>age</th>\n",
       "      <td>129880.0</td>\n",
       "      <td>39.427957</td>\n",
       "      <td>15.119360</td>\n",
       "      <td>7.0</td>\n",
       "      <td>27.0</td>\n",
       "      <td>40.0</td>\n",
       "      <td>51.0</td>\n",
       "      <td>85.0</td>\n",
       "    </tr>\n",
       "    <tr>\n",
       "      <th>flight_distance</th>\n",
       "      <td>129880.0</td>\n",
       "      <td>1981.409055</td>\n",
       "      <td>1027.115606</td>\n",
       "      <td>50.0</td>\n",
       "      <td>1359.0</td>\n",
       "      <td>1925.0</td>\n",
       "      <td>2544.0</td>\n",
       "      <td>6951.0</td>\n",
       "    </tr>\n",
       "    <tr>\n",
       "      <th>departure_delay</th>\n",
       "      <td>129880.0</td>\n",
       "      <td>14.713713</td>\n",
       "      <td>38.071126</td>\n",
       "      <td>0.0</td>\n",
       "      <td>0.0</td>\n",
       "      <td>0.0</td>\n",
       "      <td>12.0</td>\n",
       "      <td>1592.0</td>\n",
       "    </tr>\n",
       "    <tr>\n",
       "      <th>arrival_delay</th>\n",
       "      <td>129880.0</td>\n",
       "      <td>15.045465</td>\n",
       "      <td>38.416353</td>\n",
       "      <td>0.0</td>\n",
       "      <td>0.0</td>\n",
       "      <td>0.0</td>\n",
       "      <td>13.0</td>\n",
       "      <td>1584.0</td>\n",
       "    </tr>\n",
       "  </tbody>\n",
       "</table>\n",
       "</div>"
      ],
      "text/plain": [
       "                    count         mean          std   min     25%     50%  \\\n",
       "age              129880.0    39.427957    15.119360   7.0    27.0    40.0   \n",
       "flight_distance  129880.0  1981.409055  1027.115606  50.0  1359.0  1925.0   \n",
       "departure_delay  129880.0    14.713713    38.071126   0.0     0.0     0.0   \n",
       "arrival_delay    129880.0    15.045465    38.416353   0.0     0.0     0.0   \n",
       "\n",
       "                    75%     max  \n",
       "age                51.0    85.0  \n",
       "flight_distance  2544.0  6951.0  \n",
       "departure_delay    12.0  1592.0  \n",
       "arrival_delay      13.0  1584.0  "
      ]
     },
     "execution_count": 183,
     "metadata": {},
     "output_type": "execute_result"
    }
   ],
   "source": [
    "# Comprobamos los estadísticos de las variables numéricas.\n",
    "df.describe().T"
   ]
  },
  {
   "cell_type": "code",
   "execution_count": 184,
   "metadata": {},
   "outputs": [
    {
     "data": {
      "text/html": [
       "<div>\n",
       "<style scoped>\n",
       "    .dataframe tbody tr th:only-of-type {\n",
       "        vertical-align: middle;\n",
       "    }\n",
       "\n",
       "    .dataframe tbody tr th {\n",
       "        vertical-align: top;\n",
       "    }\n",
       "\n",
       "    .dataframe thead th {\n",
       "        text-align: right;\n",
       "    }\n",
       "</style>\n",
       "<table border=\"1\" class=\"dataframe\">\n",
       "  <thead>\n",
       "    <tr style=\"text-align: right;\">\n",
       "      <th></th>\n",
       "      <th>age</th>\n",
       "      <th>flight_distance</th>\n",
       "      <th>departure_delay</th>\n",
       "      <th>arrival_delay</th>\n",
       "    </tr>\n",
       "  </thead>\n",
       "  <tbody>\n",
       "    <tr>\n",
       "      <th>0</th>\n",
       "      <td>65</td>\n",
       "      <td>265</td>\n",
       "      <td>0</td>\n",
       "      <td>0.0</td>\n",
       "    </tr>\n",
       "    <tr>\n",
       "      <th>1</th>\n",
       "      <td>47</td>\n",
       "      <td>2464</td>\n",
       "      <td>310</td>\n",
       "      <td>305.0</td>\n",
       "    </tr>\n",
       "    <tr>\n",
       "      <th>2</th>\n",
       "      <td>15</td>\n",
       "      <td>2138</td>\n",
       "      <td>0</td>\n",
       "      <td>0.0</td>\n",
       "    </tr>\n",
       "    <tr>\n",
       "      <th>3</th>\n",
       "      <td>60</td>\n",
       "      <td>623</td>\n",
       "      <td>0</td>\n",
       "      <td>0.0</td>\n",
       "    </tr>\n",
       "    <tr>\n",
       "      <th>4</th>\n",
       "      <td>70</td>\n",
       "      <td>354</td>\n",
       "      <td>0</td>\n",
       "      <td>0.0</td>\n",
       "    </tr>\n",
       "  </tbody>\n",
       "</table>\n",
       "</div>"
      ],
      "text/plain": [
       "   age  flight_distance  departure_delay  arrival_delay\n",
       "0   65              265                0            0.0\n",
       "1   47             2464              310          305.0\n",
       "2   15             2138                0            0.0\n",
       "3   60              623                0            0.0\n",
       "4   70              354                0            0.0"
      ]
     },
     "execution_count": 184,
     "metadata": {},
     "output_type": "execute_result"
    }
   ],
   "source": [
    "# Creamos un dataframe solo con las variables numéricas.\n",
    "numericas = df.select_dtypes(include = np.number)\n",
    "numericas.head()"
   ]
  },
  {
   "cell_type": "code",
   "execution_count": 185,
   "metadata": {},
   "outputs": [
    {
     "data": {
      "image/png": "[encoded data removed]",
      "text/plain": [
       "<Figure size 720x360 with 4 Axes>"
      ]
     },
     "metadata": {
      "needs_background": "light"
     },
     "output_type": "display_data"
    }
   ],
   "source": [
    "# Vamos a sacar los outliers\n",
    "fig, axes = plt.subplots(1, 4, figsize=(10, 5))\n",
    "\n",
    "for indice, columna in enumerate(numericas.columns):\n",
    "    sns.boxplot(x = numericas[columna], data = df, ax=axes[indice], color = \"cornflowerblue\"); \n",
    "    \n",
    "plt.tight_layout()\n",
    "plt.show()"
   ]
  },
  {
   "cell_type": "markdown",
   "metadata": {},
   "source": [
    "Tenemos muchísimos outliers en columnas como \"flight_distance\", \"departure_delay\" y \"arrival_delay\". No obstante, decidimos no gestionarlos, ya que consideramos que realmente son situaciones que pueden ocurrir. "
   ]
  },
  {
   "cell_type": "code",
   "execution_count": 186,
   "metadata": {},
   "outputs": [
    {
     "data": {
      "image/png": "[encoded data removed]",
      "text/plain": [
       "<Figure size 360x360 with 2 Axes>"
      ]
     },
     "metadata": {
      "needs_background": "light"
     },
     "output_type": "display_data"
    }
   ],
   "source": [
    "# Realizamos un heatmap para ver las correlaciones entre variables numéricas.\n",
    "plt.figure(figsize = (5, 5))\n",
    "\n",
    "mask = np.triu(np.ones_like(numericas.corr(), dtype = np.bool_))\n",
    "\n",
    "sns.heatmap(numericas.corr(),\n",
    "            vmin = -1, \n",
    "            vmax = 1,\n",
    "            annot = True,\n",
    "            mask = mask,\n",
    "            cmap = \"mako\");"
   ]
  },
  {
   "cell_type": "markdown",
   "metadata": {},
   "source": [
    "Como podemos ver, no hay apenas columnas que estén altamente correlacionadas. Solamente se encuentra una alta correlación positiva entre \"departure_delay\" y \"arrival_delay\", lo cual tiene sentido, ya que si un vuelo sale tarde, llegará tarde. Por tanto, decidimos eliminar \"arrival_delay\", puesto que no aporta nueva información. "
   ]
  },
  {
   "cell_type": "code",
   "execution_count": 187,
   "metadata": {},
   "outputs": [
    {
     "data": {
      "text/html": [
       "<div>\n",
       "<style scoped>\n",
       "    .dataframe tbody tr th:only-of-type {\n",
       "        vertical-align: middle;\n",
       "    }\n",
       "\n",
       "    .dataframe tbody tr th {\n",
       "        vertical-align: top;\n",
       "    }\n",
       "\n",
       "    .dataframe thead th {\n",
       "        text-align: right;\n",
       "    }\n",
       "</style>\n",
       "<table border=\"1\" class=\"dataframe\">\n",
       "  <thead>\n",
       "    <tr style=\"text-align: right;\">\n",
       "      <th></th>\n",
       "      <th>satisfaction</th>\n",
       "      <th>gender</th>\n",
       "      <th>customer_type</th>\n",
       "      <th>age</th>\n",
       "      <th>type_of_travel</th>\n",
       "      <th>class</th>\n",
       "      <th>flight_distance</th>\n",
       "      <th>seat_comfort</th>\n",
       "      <th>time_convenient</th>\n",
       "      <th>food_and_drink</th>\n",
       "      <th>gate_location</th>\n",
       "      <th>wifi</th>\n",
       "      <th>entertainment</th>\n",
       "      <th>online_support</th>\n",
       "      <th>online_booking</th>\n",
       "      <th>on-board_service</th>\n",
       "      <th>leg_room_service</th>\n",
       "      <th>baggage_handling</th>\n",
       "      <th>checkin_service</th>\n",
       "      <th>cleanliness</th>\n",
       "      <th>online_boarding</th>\n",
       "      <th>departure_delay</th>\n",
       "    </tr>\n",
       "  </thead>\n",
       "  <tbody>\n",
       "    <tr>\n",
       "      <th>0</th>\n",
       "      <td>satisfied</td>\n",
       "      <td>Female</td>\n",
       "      <td>Loyal Customer</td>\n",
       "      <td>65</td>\n",
       "      <td>Personal Travel</td>\n",
       "      <td>Eco</td>\n",
       "      <td>265</td>\n",
       "      <td>0</td>\n",
       "      <td>0</td>\n",
       "      <td>0</td>\n",
       "      <td>2</td>\n",
       "      <td>2</td>\n",
       "      <td>4</td>\n",
       "      <td>2</td>\n",
       "      <td>3</td>\n",
       "      <td>3</td>\n",
       "      <td>0</td>\n",
       "      <td>3</td>\n",
       "      <td>5</td>\n",
       "      <td>3</td>\n",
       "      <td>2</td>\n",
       "      <td>0</td>\n",
       "    </tr>\n",
       "  </tbody>\n",
       "</table>\n",
       "</div>"
      ],
      "text/plain": [
       "  satisfaction  gender   customer_type  age   type_of_travel class  \\\n",
       "0    satisfied  Female  Loyal Customer   65  Personal Travel   Eco   \n",
       "\n",
       "   flight_distance seat_comfort time_convenient food_and_drink gate_location  \\\n",
       "0              265            0               0              0             2   \n",
       "\n",
       "  wifi entertainment online_support online_booking on-board_service  \\\n",
       "0    2             4              2              3                3   \n",
       "\n",
       "  leg_room_service baggage_handling checkin_service cleanliness  \\\n",
       "0                0                3               5           3   \n",
       "\n",
       "  online_boarding  departure_delay  \n",
       "0               2                0  "
      ]
     },
     "execution_count": 187,
     "metadata": {},
     "output_type": "execute_result"
    }
   ],
   "source": [
    "# Borramos la columna mencionada.\n",
    "df.drop(\"arrival_delay\", axis = 1, inplace = True)\n",
    "df.head(1)"
   ]
  },
  {
   "cell_type": "code",
   "execution_count": 188,
   "metadata": {},
   "outputs": [
    {
     "data": {
      "image/png": "[encoded data removed]",
      "text/plain": [
       "<Figure size 432x288 with 1 Axes>"
      ]
     },
     "metadata": {
      "needs_background": "light"
     },
     "output_type": "display_data"
    }
   ],
   "source": [
    "# Comprobamos la información que nos da la variable respuesta.\n",
    "sns.countplot(x = \"satisfaction\", data = df, color = \"cornflowerblue\");"
   ]
  },
  {
   "cell_type": "markdown",
   "metadata": {},
   "source": [
    "Hemos elegido la columna \"satisfaction\" como nuestra variable respuesta. Como se puede ver, es dicotómica, por lo que es perfecta para realizar una regresión logística. No obstante, vamos a tener que comprobar si hay problemas de balanceo, ya que podemos ver que no hay el mismo número de datos para cada una de las categorías. "
   ]
  },
  {
   "cell_type": "code",
   "execution_count": 189,
   "metadata": {},
   "outputs": [
    {
     "data": {
      "image/png": "[encoded data removed]",
      "text/plain": [
       "<Figure size 2160x1440 with 19 Axes>"
      ]
     },
     "metadata": {
      "needs_background": "light"
     },
     "output_type": "display_data"
    }
   ],
   "source": [
    "# Comprobamos la relación de las variables categóricas con nuestra variable respuesta.\n",
    "fig, axes = plt.subplots(5, 4, figsize = (30, 20))\n",
    "\n",
    "axes = axes.flat\n",
    "categoricas = df.select_dtypes(include = \"category\").columns\n",
    "\n",
    "for i, columna in enumerate(categoricas): \n",
    "    sns.countplot(\n",
    "        data = df,\n",
    "        x = columna,\n",
    "        hue = \"satisfaction\",\n",
    "        alpha = 0.2, \n",
    "        ax = axes[i])\n",
    "    \n",
    "    \n",
    "    axes[i].set_title(columna, fontsize = 15, fontweight = \"bold\")\n",
    "    axes[i].tick_params(labelsize = 20)\n",
    "    axes[i].set_xlabel(\"\")\n",
    "    axes[i].legend(loc = \"upper left\")\n",
    "\n",
    "\n",
    "fig.delaxes(axes[-1])\n",
    "fig.tight_layout();"
   ]
  },
  {
   "cell_type": "markdown",
   "metadata": {},
   "source": [
    "Se puede ver que las mujeres suelen estar más satisfechas que los hombres. Por otro lado, los clientes recurrentes suelen estar más satisfechos que los no recurrentes, aparte de que son más. Además, cuando se realiza un viaje de negocios, las personas parecen estar más satisfechas que cuando el viaje es por motivos personales. Por último, las personas que viajan en *business* están más satisfechas que cuando viajan en *economy*. Por lo general, se puede apreciar que la mayoría de las puntuaciones en relación al viaje están entre 4 y 5, salvo en \"gate_location\", \"checkin_service\", \"food_and_drinks\" y \"seat_comfort\", ya que la mayoría está entre dos y tres. Se puede ver que, en la mayoría de las columnas que implican puntuaciones, estas parece estar relacionadas con si un pasajero está satisfecho o no con la experiencia en general. Por ejemplo, en \"seat_comfort\", cuando la puntación es de 5, no hay personas insatisfechas, mientras que si la puntuación es de 2 y 3, hay más personas insatisfechas. "
   ]
  },
  {
   "cell_type": "code",
   "execution_count": 190,
   "metadata": {},
   "outputs": [
    {
     "data": {
      "image/png": "[encoded data removed]",
      "text/plain": [
       "<Figure size 1800x360 with 3 Axes>"
      ]
     },
     "metadata": {
      "needs_background": "light"
     },
     "output_type": "display_data"
    }
   ],
   "source": [
    "# Comprobamos la distribución de las variables numéricas.\n",
    "fig, axes = plt.subplots(1, 4, figsize = (25, 5))\n",
    "\n",
    "axes = axes.flat\n",
    "\n",
    "for i, columna in enumerate(numericas): \n",
    "    sns.histplot(\n",
    "        data = numericas,\n",
    "        x = columna,\n",
    "        kde = True,  \n",
    "        line_kws = {\"linewidth\": 2}, \n",
    "        alpha = 0.2, \n",
    "        ax = axes[i])\n",
    "    \n",
    "    axes[i].set_title(columna, fontsize = 15, fontweight = \"bold\")\n",
    "    axes[i].tick_params(labelsize = 20)\n",
    "    axes[i].set_xlabel(\"\")\n",
    "\n",
    "fig.delaxes(axes[-1]) # Quitamos la última porque es \"delay_arrival\" y la hemos borrado del dataframe original. \n",
    "fig.tight_layout();"
   ]
  },
  {
   "cell_type": "markdown",
   "metadata": {},
   "source": [
    "Como se puede comprobar, el grueso de las edades está entre los 20 y los 50, aunque hay una bajada en torno a los 30 que puede coincidir con que las personas sobre esta edad suelen tener hijos pequeños o con que están empezando sus carreras profesionales, lo que limita su capacidad de viajar.\n",
    "\n",
    "En cuanto a la distancia de los viajes, podemos diferenciar dos grupos que pueden ser viajes nacionales y viajes internacionales. \n",
    "\n",
    "En referente al retraso de salida de los vuelos, hay más vuelos que tienen 0 min de retraso, aunque se puede ver el resto de vuelos está muy repartido entre los que si tienen retraso."
   ]
  },
  {
   "cell_type": "code",
   "execution_count": 191,
   "metadata": {},
   "outputs": [],
   "source": [
    "# Guardamos el dataframe limpio.\n",
    "df.to_csv(\"../data/airlines_limpio.csv\")"
   ]
  },
  {
   "cell_type": "markdown",
   "metadata": {},
   "source": [
    "# Regresión Lineal II. Preprocesado."
   ]
  },
  {
   "cell_type": "markdown",
   "metadata": {},
   "source": [
    "Usando el mismo dataset, los objetivos son:\n",
    "\n",
    "1. Estandarizar las variables numéricas de vuestro set de datos\n"
   ]
  },
  {
   "cell_type": "code",
   "execution_count": 192,
   "metadata": {},
   "outputs": [
    {
     "data": {
      "text/html": [
       "<div>\n",
       "<style scoped>\n",
       "    .dataframe tbody tr th:only-of-type {\n",
       "        vertical-align: middle;\n",
       "    }\n",
       "\n",
       "    .dataframe tbody tr th {\n",
       "        vertical-align: top;\n",
       "    }\n",
       "\n",
       "    .dataframe thead th {\n",
       "        text-align: right;\n",
       "    }\n",
       "</style>\n",
       "<table border=\"1\" class=\"dataframe\">\n",
       "  <thead>\n",
       "    <tr style=\"text-align: right;\">\n",
       "      <th></th>\n",
       "      <th>age</th>\n",
       "      <th>flight_distance</th>\n",
       "      <th>departure_delay</th>\n",
       "    </tr>\n",
       "  </thead>\n",
       "  <tbody>\n",
       "    <tr>\n",
       "      <th>0</th>\n",
       "      <td>65</td>\n",
       "      <td>265</td>\n",
       "      <td>0</td>\n",
       "    </tr>\n",
       "  </tbody>\n",
       "</table>\n",
       "</div>"
      ],
      "text/plain": [
       "   age  flight_distance  departure_delay\n",
       "0   65              265                0"
      ]
     },
     "execution_count": 192,
     "metadata": {},
     "output_type": "execute_result"
    }
   ],
   "source": [
    "# Seleccionamos únicamente las variables predictoras numéricas.\n",
    "numericas2 = df.select_dtypes(include = np.number)\n",
    "numericas2.head(1)"
   ]
  },
  {
   "cell_type": "code",
   "execution_count": 193,
   "metadata": {},
   "outputs": [
    {
     "name": "stdout",
     "output_type": "stream",
     "text": [
      "La media de la columna age es: 39.42795657530028\n",
      "La desviación estándar de la columna age es: 15.119359950371694\n",
      "La media de la columna flight_distance es: 1981.409054511857\n",
      "La desviación estándar de la columna flight_distance es: 1027.115605613398\n",
      "La media de la columna departure_delay es: 14.713712657838004\n",
      "La desviación estándar de la columna departure_delay es: 38.07112621501086\n"
     ]
    }
   ],
   "source": [
    "# Decidimos estandarizar nuestras variables numéricas con un RobustScaler porque no hemos tratado outliers.\n",
    "robust = RobustScaler()\n",
    "\n",
    "numericas3 = pd.DataFrame(robust.fit_transform(numericas2), columns = numericas2.columns)\n",
    "\n",
    "for columna in numericas2.columns:\n",
    "    print(f'La media de la columna {columna} es: {numericas2[columna].mean()}')\n",
    "    print(f'La desviación estándar de la columna {columna} es: {numericas2[columna].std()}')"
   ]
  },
  {
   "cell_type": "code",
   "execution_count": 194,
   "metadata": {},
   "outputs": [
    {
     "data": {
      "text/html": [
       "<div>\n",
       "<style scoped>\n",
       "    .dataframe tbody tr th:only-of-type {\n",
       "        vertical-align: middle;\n",
       "    }\n",
       "\n",
       "    .dataframe tbody tr th {\n",
       "        vertical-align: top;\n",
       "    }\n",
       "\n",
       "    .dataframe thead th {\n",
       "        text-align: right;\n",
       "    }\n",
       "</style>\n",
       "<table border=\"1\" class=\"dataframe\">\n",
       "  <thead>\n",
       "    <tr style=\"text-align: right;\">\n",
       "      <th></th>\n",
       "      <th>satisfaction</th>\n",
       "      <th>gender</th>\n",
       "      <th>customer_type</th>\n",
       "      <th>age</th>\n",
       "      <th>type_of_travel</th>\n",
       "      <th>class</th>\n",
       "      <th>flight_distance</th>\n",
       "      <th>seat_comfort</th>\n",
       "      <th>time_convenient</th>\n",
       "      <th>food_and_drink</th>\n",
       "      <th>gate_location</th>\n",
       "      <th>wifi</th>\n",
       "      <th>entertainment</th>\n",
       "      <th>online_support</th>\n",
       "      <th>online_booking</th>\n",
       "      <th>on-board_service</th>\n",
       "      <th>leg_room_service</th>\n",
       "      <th>baggage_handling</th>\n",
       "      <th>checkin_service</th>\n",
       "      <th>cleanliness</th>\n",
       "      <th>online_boarding</th>\n",
       "      <th>departure_delay</th>\n",
       "    </tr>\n",
       "  </thead>\n",
       "  <tbody>\n",
       "    <tr>\n",
       "      <th>0</th>\n",
       "      <td>satisfied</td>\n",
       "      <td>Female</td>\n",
       "      <td>Loyal Customer</td>\n",
       "      <td>1.041667</td>\n",
       "      <td>Personal Travel</td>\n",
       "      <td>Eco</td>\n",
       "      <td>-1.400844</td>\n",
       "      <td>0</td>\n",
       "      <td>0</td>\n",
       "      <td>0</td>\n",
       "      <td>2</td>\n",
       "      <td>2</td>\n",
       "      <td>4</td>\n",
       "      <td>2</td>\n",
       "      <td>3</td>\n",
       "      <td>3</td>\n",
       "      <td>0</td>\n",
       "      <td>3</td>\n",
       "      <td>5</td>\n",
       "      <td>3</td>\n",
       "      <td>2</td>\n",
       "      <td>0.0</td>\n",
       "    </tr>\n",
       "  </tbody>\n",
       "</table>\n",
       "</div>"
      ],
      "text/plain": [
       "  satisfaction  gender   customer_type       age   type_of_travel class  \\\n",
       "0    satisfied  Female  Loyal Customer  1.041667  Personal Travel   Eco   \n",
       "\n",
       "   flight_distance seat_comfort time_convenient food_and_drink gate_location  \\\n",
       "0        -1.400844            0               0              0             2   \n",
       "\n",
       "  wifi entertainment online_support online_booking on-board_service  \\\n",
       "0    2             4              2              3                3   \n",
       "\n",
       "  leg_room_service baggage_handling checkin_service cleanliness  \\\n",
       "0                0                3               5           3   \n",
       "\n",
       "  online_boarding  departure_delay  \n",
       "0               2              0.0  "
      ]
     },
     "execution_count": 194,
     "metadata": {},
     "output_type": "execute_result"
    }
   ],
   "source": [
    "# Unificamos los datos estandarizados en el dataframe.\n",
    "df_robust = df.copy()\n",
    "\n",
    "df_robust[numericas3.columns] = numericas3\n",
    "\n",
    "df_robust.head(1)"
   ]
  },
  {
   "cell_type": "markdown",
   "metadata": {},
   "source": [
    "2. Codificar las variables categóricas. Recordad que tendréis que tener en cuenta si vuestras variables tienen orden o no.\n"
   ]
  },
  {
   "cell_type": "markdown",
   "metadata": {},
   "source": [
    "Hemos visto que todas nuestras variables predictoras categóricas tienen orden y, a continuación, vamos a codificarlas en base a ese orden."
   ]
  },
  {
   "cell_type": "code",
   "execution_count": 195,
   "metadata": {},
   "outputs": [],
   "source": [
    "orden_satisfaction = {\"satisfied\": 0, \"dissatisfied\": 1}\n",
    "\n",
    "orden_gender = {\"Female\" : 0, \"Male\" : 1}\n",
    "\n",
    "orden_cust_type = {\"Loyal Customer\" : 0, \"disloyal Customer\" : 1}\n",
    "\n",
    "orden_travel = {\"Business travel\" : 0, \"Personal Travel\" : 1}\n",
    "\n",
    "orden_class =  {\"Business\" : 0, \"Eco Plus\" : 1, \"Eco\" : 2}\n",
    "\n",
    "orden_seat = {0 : 0,  5 : 0, 4 : 1, 1 : 2, 2 : 3, 3 : 3}\n",
    "\n",
    "orden_convenient = {0 : 0, 1: 1, 2 : 2, 3 : 2, 4 : 3, 5 : 3}\n",
    "\n",
    "orden_food = {0 : 0, 5 : 1, 4: 2, 1 : 3, 2 : 4, 3 : 4}\n",
    "\n",
    "orden_gate = {0 : 0, 1: 1, 2 : 1, 5 : 1, 4 : 2, 3 : 3}\n",
    "\n",
    "orden_wifi = {0 : 0, 4 : 1, 5 : 1, 2 : 2, 3 : 2, 1 : 3}\n",
    "\n",
    "orden_entertainment = {5 : 0, 4 : 1, 0 : 2, 1 : 2, 2 : 2, 3 : 2}\n",
    "\n",
    "orden_support = {0 : 0, 4 : 1, 5 : 1, 1: 2, 2 : 2, 3 : 2}\n",
    "\n",
    "orden_baggage = {4 : 0, 5 : 0, 1 : 1, 2 : 2, 3 : 2}\n",
    "\n",
    "orden_checkin = {0: 0, 3 : 1, 4 :1 , 5 : 1, 1 : 2, 2 : 2}"
   ]
  },
  {
   "cell_type": "code",
   "execution_count": 196,
   "metadata": {},
   "outputs": [],
   "source": [
    "# Creamos un diccionario con cada una de las variables categóricas para realizar la codificación de manera más automatizada.\n",
    "diccionario_map = {\n",
    "    \"satisfaction\": orden_satisfaction,\n",
    "    \"gender\": orden_gender,\n",
    "    \"customer_type\": orden_cust_type,\n",
    "    \"type_of_travel\": orden_travel,\n",
    "    \"class\": orden_class,\n",
    "    \"seat_comfort\": orden_seat,\n",
    "    \"time_convenient\": orden_convenient,\n",
    "    \"food_and_drink\": orden_food,\n",
    "    \"gate_location\": orden_gate,\n",
    "    \"wifi\": orden_wifi,\n",
    "    \"entertainment\": orden_entertainment,\n",
    "    \"online_support\": orden_support,\n",
    "    \"online_booking\": orden_support,\n",
    "    \"on-board_service\": orden_support,\n",
    "    \"leg_room_service\": orden_support,\n",
    "    \"cleanliness\": orden_support,\n",
    "    \"baggage_handling\": orden_baggage,\n",
    "    \"checkin_service\": orden_checkin,\n",
    "    \"online_boarding\": orden_checkin}\n",
    "\n",
    "for columna, orden in diccionario_map.items():\n",
    "    df_robust[columna] = df_robust[columna].map(orden)"
   ]
  },
  {
   "cell_type": "code",
   "execution_count": 197,
   "metadata": {},
   "outputs": [],
   "source": [
    "# Codificamos también el dataframe sin estandarizar.\n",
    "for columna, orden in diccionario_map.items():\n",
    "    df[columna] = df[columna].map(orden)"
   ]
  },
  {
   "cell_type": "markdown",
   "metadata": {},
   "source": [
    "3. Chequear si vuestros datos están balanceados. En caso de que no lo estén utilizad algunas de las herramientas aprendidas en la lección para balancearlos.\n"
   ]
  },
  {
   "cell_type": "code",
   "execution_count": 198,
   "metadata": {},
   "outputs": [
    {
     "data": {
      "text/plain": [
       "0    71087\n",
       "1    58793\n",
       "Name: satisfaction, dtype: int64"
      ]
     },
     "execution_count": 198,
     "metadata": {},
     "output_type": "execute_result"
    }
   ],
   "source": [
    "# Comprobamos el nº de datos que tenemos para cada uno de los valores de nuestra variable respuesta.\n",
    "df[\"satisfaction\"].value_counts()"
   ]
  },
  {
   "cell_type": "code",
   "execution_count": 199,
   "metadata": {},
   "outputs": [
    {
     "name": "stdout",
     "output_type": "stream",
     "text": [
      "El porcentaje de satisfechos es 54.7\n",
      "El porcentaje de no satisfechos es 45.3\n"
     ]
    }
   ],
   "source": [
    "# Comprobamos el porcentaje de cada uno de esos valores.\n",
    "print(f\"El porcentaje de satisfechos es {(df['satisfaction'].value_counts()[0] * 100 / df.shape[0]).round(1)}\")\n",
    "print(f\"El porcentaje de no satisfechos es {(df['satisfaction'].value_counts()[1] * 100 / df.shape[0]).round(1)}\")"
   ]
  },
  {
   "cell_type": "markdown",
   "metadata": {},
   "source": [
    "Al haber menos de un 10% de diferencia entre las categorías de nuestra variable respuesta, decidimos que no es necesario balancearlas. "
   ]
  },
  {
   "cell_type": "markdown",
   "metadata": {},
   "source": [
    "4. Guardad el dataframe con los cambios que habéis aplicado para utilizarlo en la siguiente lección."
   ]
  },
  {
   "cell_type": "code",
   "execution_count": 200,
   "metadata": {},
   "outputs": [],
   "source": [
    "# Guardamos ambos dataframes: el estandarizado y el sin estandarizar para poder realizar el modelo de ambos.\n",
    "df_robust.to_csv(\"../data/airlines_estand.csv\")\n",
    "df.to_csv(\"../data/airlines_no_estand.csv\")"
   ]
  }
 ],
 "metadata": {
  "kernelspec": {
   "display_name": "adalabenv",
   "language": "python",
   "name": "python3"
  },
  "language_info": {
   "codemirror_mode": {
    "name": "ipython",
    "version": 3
   },
   "file_extension": ".py",
   "mimetype": "text/x-python",
   "name": "python",
   "nbconvert_exporter": "python",
   "pygments_lexer": "ipython3",
   "version": "3.9.7"
  },
  "orig_nbformat": 4
 },
 "nbformat": 4,
 "nbformat_minor": 2
}
