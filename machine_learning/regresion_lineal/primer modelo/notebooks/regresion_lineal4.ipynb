{
 "cells": [
  {
   "cell_type": "code",
   "execution_count": 29,
   "metadata": {},
   "outputs": [],
   "source": [
    "import pandas as pd\n",
    "pd.options.display.max_columns = None\n",
    "pd.options.display.max_rows = None\n",
    "import numpy as np\n",
    "import matplotlib.pyplot as plt\n",
    "import seaborn as sns\n",
    "plt.rcParams[\"figure.figsize\"] = (10,8)\n",
    "from scipy.stats import skew\n",
    "from scipy.stats import kurtosistest\n",
    "from scipy import stats\n",
    "from scipy.stats import kstest\n",
    "from scipy.stats import levene\n",
    "from itertools import combinations\n",
    "import researchpy as rp\n",
    "from sklearn.preprocessing import MinMaxScaler\n",
    "from sklearn.preprocessing import RobustScaler\n",
    "import math\n",
    "import warnings\n",
    "import statsmodels.api as sm\n",
    "from statsmodels.formula.api import ols\n",
    "warnings.filterwarnings('ignore')"
   ]
  },
  {
   "cell_type": "markdown",
   "metadata": {},
   "source": [
    "# Regresión Lineal VII. ANOVA"
   ]
  },
  {
   "cell_type": "markdown",
   "metadata": {},
   "source": [
    "En el pair programming de hoy usaremos el set de datos que guardastéis en el pair programming de normalización y estandarización.\n",
    "\n",
    "Hasta ahora habéis estado evaluando las características de vuestro set de datos y habéis hecho una gran exploración, es el momento de hacer vuestro primer ANOVA! En el ejercicio de hoy tendréis que hacer un ANOVA con vuestro datos y hacer una interpretación de los resultados.\n",
    "\n",
    "📌 NOTA Puede que vuestros datos no se ajusten o no cumplan todas las asunciones, no pasa nada, haced el ANOVA e interpretad los resultados. En próximas lecciones aprenderemos que podemos hacer cuando nos encontramos en esta situación."
   ]
  },
  {
   "cell_type": "code",
   "execution_count": 30,
   "metadata": {},
   "outputs": [
    {
     "data": {
      "text/html": [
       "<div>\n",
       "<style scoped>\n",
       "    .dataframe tbody tr th:only-of-type {\n",
       "        vertical-align: middle;\n",
       "    }\n",
       "\n",
       "    .dataframe tbody tr th {\n",
       "        vertical-align: top;\n",
       "    }\n",
       "\n",
       "    .dataframe thead th {\n",
       "        text-align: right;\n",
       "    }\n",
       "</style>\n",
       "<table border=\"1\" class=\"dataframe\">\n",
       "  <thead>\n",
       "    <tr style=\"text-align: right;\">\n",
       "      <th></th>\n",
       "      <th>brand</th>\n",
       "      <th>category</th>\n",
       "      <th>rating</th>\n",
       "      <th>number_of_reviews</th>\n",
       "      <th>love</th>\n",
       "      <th>price</th>\n",
       "      <th>online_only</th>\n",
       "      <th>exclusive</th>\n",
       "      <th>limited_edition</th>\n",
       "      <th>price_box</th>\n",
       "    </tr>\n",
       "  </thead>\n",
       "  <tbody>\n",
       "    <tr>\n",
       "      <th>0</th>\n",
       "      <td>Acqua Di Parma</td>\n",
       "      <td>Fragrance</td>\n",
       "      <td>4.0</td>\n",
       "      <td>-0.215962</td>\n",
       "      <td>0.156305</td>\n",
       "      <td>66.0</td>\n",
       "      <td>Yes</td>\n",
       "      <td>No</td>\n",
       "      <td>No</td>\n",
       "      <td>8.343559</td>\n",
       "    </tr>\n",
       "  </tbody>\n",
       "</table>\n",
       "</div>"
      ],
      "text/plain": [
       "            brand   category  rating  number_of_reviews      love  price  \\\n",
       "0  Acqua Di Parma  Fragrance     4.0          -0.215962  0.156305   66.0   \n",
       "\n",
       "  online_only exclusive limited_edition  price_box  \n",
       "0         Yes        No              No   8.343559  "
      ]
     },
     "execution_count": 30,
     "metadata": {},
     "output_type": "execute_result"
    }
   ],
   "source": [
    "df = pd.read_csv(\"../data/sephora_estandar.csv\", index_col = 0)\n",
    "df.head(1)"
   ]
  },
  {
   "cell_type": "markdown",
   "metadata": {},
   "source": [
    "En este caso, ya hemos comprobado que nuestros datos no cumplen las asunciones para poder realizar el ANOVA, por lo que no será efectivo. No obstante, lo vamos a realizar para asentar conocimientos y poder saber como aplicarlo en futuros casos."
   ]
  },
  {
   "cell_type": "code",
   "execution_count": 31,
   "metadata": {},
   "outputs": [
    {
     "data": {
      "text/html": [
       "<div>\n",
       "<style scoped>\n",
       "    .dataframe tbody tr th:only-of-type {\n",
       "        vertical-align: middle;\n",
       "    }\n",
       "\n",
       "    .dataframe tbody tr th {\n",
       "        vertical-align: top;\n",
       "    }\n",
       "\n",
       "    .dataframe thead th {\n",
       "        text-align: right;\n",
       "    }\n",
       "</style>\n",
       "<table border=\"1\" class=\"dataframe\">\n",
       "  <thead>\n",
       "    <tr style=\"text-align: right;\">\n",
       "      <th></th>\n",
       "      <th>brand</th>\n",
       "      <th>category</th>\n",
       "      <th>rating</th>\n",
       "      <th>number_of_reviews</th>\n",
       "      <th>love</th>\n",
       "      <th>price</th>\n",
       "      <th>online_only</th>\n",
       "      <th>exclusive</th>\n",
       "      <th>limited_edition</th>\n",
       "      <th>price_box</th>\n",
       "    </tr>\n",
       "  </thead>\n",
       "  <tbody>\n",
       "    <tr>\n",
       "      <th>0</th>\n",
       "      <td>Acqua Di Parma</td>\n",
       "      <td>Fragrance</td>\n",
       "      <td>4.0</td>\n",
       "      <td>-0.215962</td>\n",
       "      <td>0.156305</td>\n",
       "      <td>66.0</td>\n",
       "      <td>Yes</td>\n",
       "      <td>No</td>\n",
       "      <td>No</td>\n",
       "      <td>8.343559</td>\n",
       "    </tr>\n",
       "  </tbody>\n",
       "</table>\n",
       "</div>"
      ],
      "text/plain": [
       "            brand   category  rating  number_of_reviews      love  price  \\\n",
       "0  Acqua Di Parma  Fragrance     4.0          -0.215962  0.156305   66.0   \n",
       "\n",
       "  online_only exclusive limited_edition  price_box  \n",
       "0         Yes        No              No   8.343559  "
      ]
     },
     "execution_count": 31,
     "metadata": {},
     "output_type": "execute_result"
    }
   ],
   "source": [
    "df.head(1)"
   ]
  },
  {
   "cell_type": "code",
   "execution_count": 32,
   "metadata": {},
   "outputs": [
    {
     "data": {
      "text/html": [
       "<div>\n",
       "<style scoped>\n",
       "    .dataframe tbody tr th:only-of-type {\n",
       "        vertical-align: middle;\n",
       "    }\n",
       "\n",
       "    .dataframe tbody tr th {\n",
       "        vertical-align: top;\n",
       "    }\n",
       "\n",
       "    .dataframe thead th {\n",
       "        text-align: right;\n",
       "    }\n",
       "</style>\n",
       "<table border=\"1\" class=\"dataframe\">\n",
       "  <thead>\n",
       "    <tr style=\"text-align: right;\">\n",
       "      <th></th>\n",
       "      <th>df</th>\n",
       "      <th>sum_sq</th>\n",
       "      <th>mean_sq</th>\n",
       "      <th>F</th>\n",
       "      <th>PR(&gt;F)</th>\n",
       "    </tr>\n",
       "  </thead>\n",
       "  <tbody>\n",
       "    <tr>\n",
       "      <th>rating</th>\n",
       "      <td>1.0</td>\n",
       "      <td>8.030573e+01</td>\n",
       "      <td>80.305730</td>\n",
       "      <td>0.027799</td>\n",
       "      <td>0.867616</td>\n",
       "    </tr>\n",
       "    <tr>\n",
       "      <th>number_of_reviews</th>\n",
       "      <td>1.0</td>\n",
       "      <td>4.466086e+03</td>\n",
       "      <td>4466.086186</td>\n",
       "      <td>1.546018</td>\n",
       "      <td>0.214020</td>\n",
       "    </tr>\n",
       "    <tr>\n",
       "      <th>love</th>\n",
       "      <td>1.0</td>\n",
       "      <td>5.852246e+03</td>\n",
       "      <td>5852.246364</td>\n",
       "      <td>2.025863</td>\n",
       "      <td>0.154957</td>\n",
       "    </tr>\n",
       "    <tr>\n",
       "      <th>Residual</th>\n",
       "      <td>987.0</td>\n",
       "      <td>2.851213e+06</td>\n",
       "      <td>2888.767252</td>\n",
       "      <td>NaN</td>\n",
       "      <td>NaN</td>\n",
       "    </tr>\n",
       "  </tbody>\n",
       "</table>\n",
       "</div>"
      ],
      "text/plain": [
       "                      df        sum_sq      mean_sq         F    PR(>F)\n",
       "rating               1.0  8.030573e+01    80.305730  0.027799  0.867616\n",
       "number_of_reviews    1.0  4.466086e+03  4466.086186  1.546018  0.214020\n",
       "love                 1.0  5.852246e+03  5852.246364  2.025863  0.154957\n",
       "Residual           987.0  2.851213e+06  2888.767252       NaN       NaN"
      ]
     },
     "execution_count": 32,
     "metadata": {},
     "output_type": "execute_result"
    }
   ],
   "source": [
    "# Además, nos quedamos únicamente con las variables numéricas.\n",
    "\n",
    "lm = ols(\"price ~ rating + number_of_reviews + love\", data = df).fit() \n",
    "sm.stats.anova_lm(lm)"
   ]
  },
  {
   "cell_type": "code",
   "execution_count": 33,
   "metadata": {},
   "outputs": [
    {
     "data": {
      "text/html": [
       "<table class=\"simpletable\">\n",
       "<caption>OLS Regression Results</caption>\n",
       "<tr>\n",
       "  <th>Dep. Variable:</th>          <td>price</td>      <th>  R-squared:         </th> <td>   0.004</td> \n",
       "</tr>\n",
       "<tr>\n",
       "  <th>Model:</th>                   <td>OLS</td>       <th>  Adj. R-squared:    </th> <td>   0.001</td> \n",
       "</tr>\n",
       "<tr>\n",
       "  <th>Method:</th>             <td>Least Squares</td>  <th>  F-statistic:       </th> <td>   1.200</td> \n",
       "</tr>\n",
       "<tr>\n",
       "  <th>Date:</th>             <td>Wed, 13 Sep 2023</td> <th>  Prob (F-statistic):</th>  <td> 0.309</td>  \n",
       "</tr>\n",
       "<tr>\n",
       "  <th>Time:</th>                 <td>16:49:40</td>     <th>  Log-Likelihood:    </th> <td> -5352.6</td> \n",
       "</tr>\n",
       "<tr>\n",
       "  <th>No. Observations:</th>      <td>   991</td>      <th>  AIC:               </th> <td>1.071e+04</td>\n",
       "</tr>\n",
       "<tr>\n",
       "  <th>Df Residuals:</th>          <td>   987</td>      <th>  BIC:               </th> <td>1.073e+04</td>\n",
       "</tr>\n",
       "<tr>\n",
       "  <th>Df Model:</th>              <td>     3</td>      <th>                     </th>     <td> </td>    \n",
       "</tr>\n",
       "<tr>\n",
       "  <th>Covariance Type:</th>      <td>nonrobust</td>    <th>                     </th>     <td> </td>    \n",
       "</tr>\n",
       "</table>\n",
       "<table class=\"simpletable\">\n",
       "<tr>\n",
       "          <td></td>             <th>coef</th>     <th>std err</th>      <th>t</th>      <th>P>|t|</th>  <th>[0.025</th>    <th>0.975]</th>  \n",
       "</tr>\n",
       "<tr>\n",
       "  <th>Intercept</th>         <td>  102.8305</td> <td>    6.262</td> <td>   16.420</td> <td> 0.000</td> <td>   90.541</td> <td>  115.120</td>\n",
       "</tr>\n",
       "<tr>\n",
       "  <th>rating</th>            <td>    0.2897</td> <td>    1.482</td> <td>    0.196</td> <td> 0.845</td> <td>   -2.618</td> <td>    3.198</td>\n",
       "</tr>\n",
       "<tr>\n",
       "  <th>number_of_reviews</th> <td>   -1.8300</td> <td>    0.969</td> <td>   -1.888</td> <td> 0.059</td> <td>   -3.732</td> <td>    0.072</td>\n",
       "</tr>\n",
       "<tr>\n",
       "  <th>love</th>              <td>    1.8494</td> <td>    1.299</td> <td>    1.423</td> <td> 0.155</td> <td>   -0.700</td> <td>    4.399</td>\n",
       "</tr>\n",
       "</table>\n",
       "<table class=\"simpletable\">\n",
       "<tr>\n",
       "  <th>Omnibus:</th>       <td>262.727</td> <th>  Durbin-Watson:     </th> <td>   1.078</td> \n",
       "</tr>\n",
       "<tr>\n",
       "  <th>Prob(Omnibus):</th> <td> 0.000</td>  <th>  Jarque-Bera (JB):  </th> <td> 657.414</td> \n",
       "</tr>\n",
       "<tr>\n",
       "  <th>Skew:</th>          <td> 1.391</td>  <th>  Prob(JB):          </th> <td>1.75e-143</td>\n",
       "</tr>\n",
       "<tr>\n",
       "  <th>Kurtosis:</th>      <td> 5.860</td>  <th>  Cond. No.          </th> <td>    17.5</td> \n",
       "</tr>\n",
       "</table><br/><br/>Notes:<br/>[1] Standard Errors assume that the covariance matrix of the errors is correctly specified."
      ],
      "text/plain": [
       "<class 'statsmodels.iolib.summary.Summary'>\n",
       "\"\"\"\n",
       "                            OLS Regression Results                            \n",
       "==============================================================================\n",
       "Dep. Variable:                  price   R-squared:                       0.004\n",
       "Model:                            OLS   Adj. R-squared:                  0.001\n",
       "Method:                 Least Squares   F-statistic:                     1.200\n",
       "Date:                Wed, 13 Sep 2023   Prob (F-statistic):              0.309\n",
       "Time:                        16:49:40   Log-Likelihood:                -5352.6\n",
       "No. Observations:                 991   AIC:                         1.071e+04\n",
       "Df Residuals:                     987   BIC:                         1.073e+04\n",
       "Df Model:                           3                                         \n",
       "Covariance Type:            nonrobust                                         \n",
       "=====================================================================================\n",
       "                        coef    std err          t      P>|t|      [0.025      0.975]\n",
       "-------------------------------------------------------------------------------------\n",
       "Intercept           102.8305      6.262     16.420      0.000      90.541     115.120\n",
       "rating                0.2897      1.482      0.196      0.845      -2.618       3.198\n",
       "number_of_reviews    -1.8300      0.969     -1.888      0.059      -3.732       0.072\n",
       "love                  1.8494      1.299      1.423      0.155      -0.700       4.399\n",
       "==============================================================================\n",
       "Omnibus:                      262.727   Durbin-Watson:                   1.078\n",
       "Prob(Omnibus):                  0.000   Jarque-Bera (JB):              657.414\n",
       "Skew:                           1.391   Prob(JB):                    1.75e-143\n",
       "Kurtosis:                       5.860   Cond. No.                         17.5\n",
       "==============================================================================\n",
       "\n",
       "Notes:\n",
       "[1] Standard Errors assume that the covariance matrix of the errors is correctly specified.\n",
       "\"\"\""
      ]
     },
     "execution_count": 33,
     "metadata": {},
     "output_type": "execute_result"
    }
   ],
   "source": [
    "# Resumen de la recta que ajusta nuestro modelo y da como resultados varias cosas. \n",
    "\n",
    "lm.summary()"
   ]
  },
  {
   "cell_type": "markdown",
   "metadata": {},
   "source": [
    "En lo que más nos fijamos es en el coeficiente que muestra cuánto cambia la variable que tratamos de predecir si una de las variables predictoras cambia una unidad manteniendo el resto igual."
   ]
  },
  {
   "cell_type": "markdown",
   "metadata": {},
   "source": [
    "#### Resultados:\n",
    "\n",
    "- Se puede ver que las columnas de \"love\" y de \"rating\" sí afectan a nuestra variable respuesta, además de manera positiva, por lo que cuando aumenta cualquiera de esas dos columnas en una unidad, el precio también lo hace.\n",
    "\n",
    "- El resto de las columnas no parecen afectar a nuestra variable respuesta. \n",
    "    \n",
    "No obstante, hay que tener en cuenta que nuestros datos **no cumplen las tres asunciones** de normalidad, homocedasticidad e independencia, por lo que este ANOVA no es nada fiable.\n"
   ]
  },
  {
   "cell_type": "code",
   "execution_count": 34,
   "metadata": {},
   "outputs": [
    {
     "data": {
      "text/html": [
       "<div>\n",
       "<style scoped>\n",
       "    .dataframe tbody tr th:only-of-type {\n",
       "        vertical-align: middle;\n",
       "    }\n",
       "\n",
       "    .dataframe tbody tr th {\n",
       "        vertical-align: top;\n",
       "    }\n",
       "\n",
       "    .dataframe thead th {\n",
       "        text-align: right;\n",
       "    }\n",
       "</style>\n",
       "<table border=\"1\" class=\"dataframe\">\n",
       "  <thead>\n",
       "    <tr style=\"text-align: right;\">\n",
       "      <th></th>\n",
       "      <th>df</th>\n",
       "      <th>sum_sq</th>\n",
       "      <th>mean_sq</th>\n",
       "      <th>F</th>\n",
       "      <th>PR(&gt;F)</th>\n",
       "    </tr>\n",
       "  </thead>\n",
       "  <tbody>\n",
       "    <tr>\n",
       "      <th>category</th>\n",
       "      <td>4.0</td>\n",
       "      <td>2.284300e+05</td>\n",
       "      <td>57107.493387</td>\n",
       "      <td>22.379672</td>\n",
       "      <td>1.047899e-17</td>\n",
       "    </tr>\n",
       "    <tr>\n",
       "      <th>online_only</th>\n",
       "      <td>1.0</td>\n",
       "      <td>9.334105e+04</td>\n",
       "      <td>93341.047599</td>\n",
       "      <td>36.579123</td>\n",
       "      <td>2.081274e-09</td>\n",
       "    </tr>\n",
       "    <tr>\n",
       "      <th>rating</th>\n",
       "      <td>1.0</td>\n",
       "      <td>1.387189e+04</td>\n",
       "      <td>13871.888663</td>\n",
       "      <td>5.436210</td>\n",
       "      <td>1.992493e-02</td>\n",
       "    </tr>\n",
       "    <tr>\n",
       "      <th>number_of_reviews</th>\n",
       "      <td>1.0</td>\n",
       "      <td>1.122170e+04</td>\n",
       "      <td>11221.704029</td>\n",
       "      <td>4.397637</td>\n",
       "      <td>3.624401e-02</td>\n",
       "    </tr>\n",
       "    <tr>\n",
       "      <th>love</th>\n",
       "      <td>1.0</td>\n",
       "      <td>8.921519e+03</td>\n",
       "      <td>8921.518855</td>\n",
       "      <td>3.496225</td>\n",
       "      <td>6.180625e-02</td>\n",
       "    </tr>\n",
       "    <tr>\n",
       "      <th>Residual</th>\n",
       "      <td>982.0</td>\n",
       "      <td>2.505826e+06</td>\n",
       "      <td>2551.757417</td>\n",
       "      <td>NaN</td>\n",
       "      <td>NaN</td>\n",
       "    </tr>\n",
       "  </tbody>\n",
       "</table>\n",
       "</div>"
      ],
      "text/plain": [
       "                      df        sum_sq       mean_sq          F        PR(>F)\n",
       "category             4.0  2.284300e+05  57107.493387  22.379672  1.047899e-17\n",
       "online_only          1.0  9.334105e+04  93341.047599  36.579123  2.081274e-09\n",
       "rating               1.0  1.387189e+04  13871.888663   5.436210  1.992493e-02\n",
       "number_of_reviews    1.0  1.122170e+04  11221.704029   4.397637  3.624401e-02\n",
       "love                 1.0  8.921519e+03   8921.518855   3.496225  6.180625e-02\n",
       "Residual           982.0  2.505826e+06   2551.757417        NaN           NaN"
      ]
     },
     "execution_count": 34,
     "metadata": {},
     "output_type": "execute_result"
    }
   ],
   "source": [
    "# Probamos con algunas categóricas, para ver también cómo éstas afectan a la variable respuesta. \n",
    "\n",
    "lm2 = ols(\"price ~ category + rating + number_of_reviews + love + online_only\", data = df).fit() \n",
    "sm.stats.anova_lm(lm2)"
   ]
  },
  {
   "cell_type": "code",
   "execution_count": 35,
   "metadata": {},
   "outputs": [
    {
     "data": {
      "text/html": [
       "<table class=\"simpletable\">\n",
       "<caption>OLS Regression Results</caption>\n",
       "<tr>\n",
       "  <th>Dep. Variable:</th>          <td>price</td>      <th>  R-squared:         </th> <td>   0.124</td> \n",
       "</tr>\n",
       "<tr>\n",
       "  <th>Model:</th>                   <td>OLS</td>       <th>  Adj. R-squared:    </th> <td>   0.117</td> \n",
       "</tr>\n",
       "<tr>\n",
       "  <th>Method:</th>             <td>Least Squares</td>  <th>  F-statistic:       </th> <td>   17.43</td> \n",
       "</tr>\n",
       "<tr>\n",
       "  <th>Date:</th>             <td>Wed, 13 Sep 2023</td> <th>  Prob (F-statistic):</th> <td>1.96e-24</td> \n",
       "</tr>\n",
       "<tr>\n",
       "  <th>Time:</th>                 <td>16:49:40</td>     <th>  Log-Likelihood:    </th> <td> -5288.6</td> \n",
       "</tr>\n",
       "<tr>\n",
       "  <th>No. Observations:</th>      <td>   991</td>      <th>  AIC:               </th> <td>1.060e+04</td>\n",
       "</tr>\n",
       "<tr>\n",
       "  <th>Df Residuals:</th>          <td>   982</td>      <th>  BIC:               </th> <td>1.064e+04</td>\n",
       "</tr>\n",
       "<tr>\n",
       "  <th>Df Model:</th>              <td>     8</td>      <th>                     </th>     <td> </td>    \n",
       "</tr>\n",
       "<tr>\n",
       "  <th>Covariance Type:</th>      <td>nonrobust</td>    <th>                     </th>     <td> </td>    \n",
       "</tr>\n",
       "</table>\n",
       "<table class=\"simpletable\">\n",
       "<tr>\n",
       "                <td></td>                   <th>coef</th>     <th>std err</th>      <th>t</th>      <th>P>|t|</th>  <th>[0.025</th>    <th>0.975]</th>  \n",
       "</tr>\n",
       "<tr>\n",
       "  <th>Intercept</th>                     <td>  114.2569</td> <td>    8.248</td> <td>   13.853</td> <td> 0.000</td> <td>   98.072</td> <td>  130.442</td>\n",
       "</tr>\n",
       "<tr>\n",
       "  <th>category[T.Cologne Gift Sets]</th> <td>   -7.9112</td> <td>   15.646</td> <td>   -0.506</td> <td> 0.613</td> <td>  -38.615</td> <td>   22.793</td>\n",
       "</tr>\n",
       "<tr>\n",
       "  <th>category[T.Fragrance]</th>         <td>  -70.7502</td> <td>   12.542</td> <td>   -5.641</td> <td> 0.000</td> <td>  -95.362</td> <td>  -46.139</td>\n",
       "</tr>\n",
       "<tr>\n",
       "  <th>category[T.Perfume]</th>           <td>   10.4842</td> <td>    4.561</td> <td>    2.299</td> <td> 0.022</td> <td>    1.535</td> <td>   19.434</td>\n",
       "</tr>\n",
       "<tr>\n",
       "  <th>category[T.Perfume Gift Sets]</th> <td>  -35.2771</td> <td>    6.300</td> <td>   -5.600</td> <td> 0.000</td> <td>  -47.640</td> <td>  -22.914</td>\n",
       "</tr>\n",
       "<tr>\n",
       "  <th>online_only[T.Yes]</th>            <td>   23.2301</td> <td>    4.201</td> <td>    5.529</td> <td> 0.000</td> <td>   14.985</td> <td>   31.475</td>\n",
       "</tr>\n",
       "<tr>\n",
       "  <th>rating</th>                        <td>   -3.7094</td> <td>    1.558</td> <td>   -2.382</td> <td> 0.017</td> <td>   -6.766</td> <td>   -0.653</td>\n",
       "</tr>\n",
       "<tr>\n",
       "  <th>number_of_reviews</th>             <td>   -2.5442</td> <td>    0.917</td> <td>   -2.774</td> <td> 0.006</td> <td>   -4.344</td> <td>   -0.744</td>\n",
       "</tr>\n",
       "<tr>\n",
       "  <th>love</th>                          <td>    2.3146</td> <td>    1.238</td> <td>    1.870</td> <td> 0.062</td> <td>   -0.115</td> <td>    4.744</td>\n",
       "</tr>\n",
       "</table>\n",
       "<table class=\"simpletable\">\n",
       "<tr>\n",
       "  <th>Omnibus:</th>       <td>272.132</td> <th>  Durbin-Watson:     </th> <td>   1.071</td> \n",
       "</tr>\n",
       "<tr>\n",
       "  <th>Prob(Omnibus):</th> <td> 0.000</td>  <th>  Jarque-Bera (JB):  </th> <td> 701.183</td> \n",
       "</tr>\n",
       "<tr>\n",
       "  <th>Skew:</th>          <td> 1.428</td>  <th>  Prob(JB):          </th> <td>5.50e-153</td>\n",
       "</tr>\n",
       "<tr>\n",
       "  <th>Kurtosis:</th>      <td> 5.970</td>  <th>  Cond. No.          </th> <td>    49.0</td> \n",
       "</tr>\n",
       "</table><br/><br/>Notes:<br/>[1] Standard Errors assume that the covariance matrix of the errors is correctly specified."
      ],
      "text/plain": [
       "<class 'statsmodels.iolib.summary.Summary'>\n",
       "\"\"\"\n",
       "                            OLS Regression Results                            \n",
       "==============================================================================\n",
       "Dep. Variable:                  price   R-squared:                       0.124\n",
       "Model:                            OLS   Adj. R-squared:                  0.117\n",
       "Method:                 Least Squares   F-statistic:                     17.43\n",
       "Date:                Wed, 13 Sep 2023   Prob (F-statistic):           1.96e-24\n",
       "Time:                        16:49:40   Log-Likelihood:                -5288.6\n",
       "No. Observations:                 991   AIC:                         1.060e+04\n",
       "Df Residuals:                     982   BIC:                         1.064e+04\n",
       "Df Model:                           8                                         \n",
       "Covariance Type:            nonrobust                                         \n",
       "=================================================================================================\n",
       "                                    coef    std err          t      P>|t|      [0.025      0.975]\n",
       "-------------------------------------------------------------------------------------------------\n",
       "Intercept                       114.2569      8.248     13.853      0.000      98.072     130.442\n",
       "category[T.Cologne Gift Sets]    -7.9112     15.646     -0.506      0.613     -38.615      22.793\n",
       "category[T.Fragrance]           -70.7502     12.542     -5.641      0.000     -95.362     -46.139\n",
       "category[T.Perfume]              10.4842      4.561      2.299      0.022       1.535      19.434\n",
       "category[T.Perfume Gift Sets]   -35.2771      6.300     -5.600      0.000     -47.640     -22.914\n",
       "online_only[T.Yes]               23.2301      4.201      5.529      0.000      14.985      31.475\n",
       "rating                           -3.7094      1.558     -2.382      0.017      -6.766      -0.653\n",
       "number_of_reviews                -2.5442      0.917     -2.774      0.006      -4.344      -0.744\n",
       "love                              2.3146      1.238      1.870      0.062      -0.115       4.744\n",
       "==============================================================================\n",
       "Omnibus:                      272.132   Durbin-Watson:                   1.071\n",
       "Prob(Omnibus):                  0.000   Jarque-Bera (JB):              701.183\n",
       "Skew:                           1.428   Prob(JB):                    5.50e-153\n",
       "Kurtosis:                       5.970   Cond. No.                         49.0\n",
       "==============================================================================\n",
       "\n",
       "Notes:\n",
       "[1] Standard Errors assume that the covariance matrix of the errors is correctly specified.\n",
       "\"\"\""
      ]
     },
     "execution_count": 35,
     "metadata": {},
     "output_type": "execute_result"
    }
   ],
   "source": [
    "# Resumen de la recta que ajusta nuestro modelo y da como resultados varias cosas. \n",
    "\n",
    "lm2.summary()"
   ]
  },
  {
   "cell_type": "markdown",
   "metadata": {},
   "source": [
    "Por lo general, algunas variables categóricas afectan y otras no de manera significativa al precio. Por ejemplo, cuando la colonia se vende en un set, el precio disminuye. No obstante, de nuevo hay que tener en cuenta que el modelo ANOVA en nuestro caso no es fiable."
   ]
  },
  {
   "cell_type": "markdown",
   "metadata": {},
   "source": [
    "# Regresión Lineal VIII. ENCODING"
   ]
  },
  {
   "cell_type": "markdown",
   "metadata": {},
   "source": [
    "En el pair programming de hoy usaremos el set de datos que guardastéis en el pair programming de normalización y estandarización.\n",
    "\n",
    "Vuestro set de datos debería tener al menos una variable categórica, el objetivo del pair programming de hoy:\n",
    "\n",
    "1. Hacer una códificación de la/las variables categóricas que tengáis en vuestro set de datos.\n",
    "\n",
    "2. Recordad que lo primero que deberéis hacer es decidir si vuestras variables tienen o no orden, para que en función de esto uséis una aproximación u otra."
   ]
  },
  {
   "cell_type": "markdown",
   "metadata": {},
   "source": [
    "### Vamos a comprobar el orden de las variables categóricas en función de su mediana con respecto a la variable predictora:"
   ]
  },
  {
   "cell_type": "markdown",
   "metadata": {},
   "source": [
    "#### Para la columna category:"
   ]
  },
  {
   "cell_type": "code",
   "execution_count": 36,
   "metadata": {},
   "outputs": [
    {
     "data": {
      "image/png": "[encoded data removed]",
      "text/plain": [
       "<Figure size 720x576 with 1 Axes>"
      ]
     },
     "metadata": {
      "needs_background": "light"
     },
     "output_type": "display_data"
    }
   ],
   "source": [
    "sns.boxplot(x = \"category\", y = \"price\", data = df);"
   ]
  },
  {
   "cell_type": "markdown",
   "metadata": {},
   "source": [
    "Con ayuda del boxplot visualizamos las diferentes categorías que tenemos en la columna 'category' y comprobamos que siguen un orden: 0 = Fragance, 1 = Perfume Gift Sets, 2 = Cologne, 3 = Perfume y 4 = Cologne Gift Sets."
   ]
  },
  {
   "cell_type": "code",
   "execution_count": 37,
   "metadata": {},
   "outputs": [],
   "source": [
    "def encoder_map(df, columna, orden_valores):\n",
    "    \"\"\"\n",
    "    Esta función realiza un encoding con el método map().\n",
    "    Args:\n",
    "    df(DataFrame): DataFrame sobre el que queremos aplicar la función.\n",
    "    columna (str): columna sobre la que queremos aplicar la función.\n",
    "    orden_valores (list): lista con los nombres de los valores.\n",
    "    Returns: Dataframe\n",
    "    \"\"\" \n",
    "    ordinal_dict = {}\n",
    "    \n",
    "    for i, valor in enumerate(orden_valores):\n",
    "        ordinal_dict[valor] = i \n",
    "\n",
    "    columna_nueva = columna + \"_map\"\n",
    "\n",
    "    df[columna_nueva] = df[columna].map(ordinal_dict)\n",
    "    return df"
   ]
  },
  {
   "cell_type": "code",
   "execution_count": 38,
   "metadata": {},
   "outputs": [],
   "source": [
    "# Orden que le damos.\n",
    "\n",
    "orden = [\"Fragrance\", \"Perfume Gift Sets\", \"Cologne\", \"Perfume\", \"Cologne Gift Sets\"]"
   ]
  },
  {
   "cell_type": "code",
   "execution_count": 39,
   "metadata": {},
   "outputs": [
    {
     "data": {
      "text/html": [
       "<div>\n",
       "<style scoped>\n",
       "    .dataframe tbody tr th:only-of-type {\n",
       "        vertical-align: middle;\n",
       "    }\n",
       "\n",
       "    .dataframe tbody tr th {\n",
       "        vertical-align: top;\n",
       "    }\n",
       "\n",
       "    .dataframe thead th {\n",
       "        text-align: right;\n",
       "    }\n",
       "</style>\n",
       "<table border=\"1\" class=\"dataframe\">\n",
       "  <thead>\n",
       "    <tr style=\"text-align: right;\">\n",
       "      <th></th>\n",
       "      <th>brand</th>\n",
       "      <th>category</th>\n",
       "      <th>rating</th>\n",
       "      <th>number_of_reviews</th>\n",
       "      <th>love</th>\n",
       "      <th>price</th>\n",
       "      <th>online_only</th>\n",
       "      <th>exclusive</th>\n",
       "      <th>limited_edition</th>\n",
       "      <th>price_box</th>\n",
       "      <th>category_map</th>\n",
       "    </tr>\n",
       "  </thead>\n",
       "  <tbody>\n",
       "    <tr>\n",
       "      <th>0</th>\n",
       "      <td>Acqua Di Parma</td>\n",
       "      <td>Fragrance</td>\n",
       "      <td>4.0</td>\n",
       "      <td>-0.215962</td>\n",
       "      <td>0.156305</td>\n",
       "      <td>66.0</td>\n",
       "      <td>Yes</td>\n",
       "      <td>No</td>\n",
       "      <td>No</td>\n",
       "      <td>8.343559</td>\n",
       "      <td>0</td>\n",
       "    </tr>\n",
       "    <tr>\n",
       "      <th>1</th>\n",
       "      <td>Acqua Di Parma</td>\n",
       "      <td>Cologne</td>\n",
       "      <td>4.5</td>\n",
       "      <td>0.460094</td>\n",
       "      <td>0.097447</td>\n",
       "      <td>66.0</td>\n",
       "      <td>Yes</td>\n",
       "      <td>No</td>\n",
       "      <td>No</td>\n",
       "      <td>8.343559</td>\n",
       "      <td>2</td>\n",
       "    </tr>\n",
       "    <tr>\n",
       "      <th>2</th>\n",
       "      <td>Acqua Di Parma</td>\n",
       "      <td>Perfume</td>\n",
       "      <td>4.5</td>\n",
       "      <td>-0.009390</td>\n",
       "      <td>0.077958</td>\n",
       "      <td>180.0</td>\n",
       "      <td>Yes</td>\n",
       "      <td>No</td>\n",
       "      <td>No</td>\n",
       "      <td>12.422912</td>\n",
       "      <td>3</td>\n",
       "    </tr>\n",
       "    <tr>\n",
       "      <th>3</th>\n",
       "      <td>Acqua Di Parma</td>\n",
       "      <td>Perfume</td>\n",
       "      <td>4.5</td>\n",
       "      <td>-0.037559</td>\n",
       "      <td>0.136426</td>\n",
       "      <td>120.0</td>\n",
       "      <td>Yes</td>\n",
       "      <td>No</td>\n",
       "      <td>No</td>\n",
       "      <td>10.626234</td>\n",
       "      <td>3</td>\n",
       "    </tr>\n",
       "    <tr>\n",
       "      <th>4</th>\n",
       "      <td>Acqua Di Parma</td>\n",
       "      <td>Fragrance</td>\n",
       "      <td>3.5</td>\n",
       "      <td>-0.234742</td>\n",
       "      <td>-0.244981</td>\n",
       "      <td>72.0</td>\n",
       "      <td>Yes</td>\n",
       "      <td>No</td>\n",
       "      <td>No</td>\n",
       "      <td>8.651025</td>\n",
       "      <td>0</td>\n",
       "    </tr>\n",
       "  </tbody>\n",
       "</table>\n",
       "</div>"
      ],
      "text/plain": [
       "            brand   category  rating  number_of_reviews      love  price  \\\n",
       "0  Acqua Di Parma  Fragrance     4.0          -0.215962  0.156305   66.0   \n",
       "1  Acqua Di Parma    Cologne     4.5           0.460094  0.097447   66.0   \n",
       "2  Acqua Di Parma    Perfume     4.5          -0.009390  0.077958  180.0   \n",
       "3  Acqua Di Parma    Perfume     4.5          -0.037559  0.136426  120.0   \n",
       "4  Acqua Di Parma  Fragrance     3.5          -0.234742 -0.244981   72.0   \n",
       "\n",
       "  online_only exclusive limited_edition  price_box  category_map  \n",
       "0         Yes        No              No   8.343559             0  \n",
       "1         Yes        No              No   8.343559             2  \n",
       "2         Yes        No              No  12.422912             3  \n",
       "3         Yes        No              No  10.626234             3  \n",
       "4         Yes        No              No   8.651025             0  "
      ]
     },
     "execution_count": 39,
     "metadata": {},
     "output_type": "execute_result"
    }
   ],
   "source": [
    "# Aplicamos la función.\n",
    "\n",
    "df = encoder_map(df, \"category\", orden)\n",
    "df.head()"
   ]
  },
  {
   "cell_type": "markdown",
   "metadata": {},
   "source": [
    "#### Para la columna brand:"
   ]
  },
  {
   "cell_type": "code",
   "execution_count": 40,
   "metadata": {},
   "outputs": [
    {
     "data": {
      "text/html": [
       "<div>\n",
       "<style scoped>\n",
       "    .dataframe tbody tr th:only-of-type {\n",
       "        vertical-align: middle;\n",
       "    }\n",
       "\n",
       "    .dataframe tbody tr th {\n",
       "        vertical-align: top;\n",
       "    }\n",
       "\n",
       "    .dataframe thead th {\n",
       "        text-align: right;\n",
       "    }\n",
       "</style>\n",
       "<table border=\"1\" class=\"dataframe\">\n",
       "  <thead>\n",
       "    <tr style=\"text-align: right;\">\n",
       "      <th></th>\n",
       "      <th>brand</th>\n",
       "      <th>price</th>\n",
       "    </tr>\n",
       "  </thead>\n",
       "  <tbody>\n",
       "    <tr>\n",
       "      <th>0</th>\n",
       "      <td>SEPHORA COLLECTION</td>\n",
       "      <td>17.0</td>\n",
       "    </tr>\n",
       "    <tr>\n",
       "      <th>1</th>\n",
       "      <td>Commodity</td>\n",
       "      <td>26.0</td>\n",
       "    </tr>\n",
       "    <tr>\n",
       "      <th>2</th>\n",
       "      <td>Pink Sugar</td>\n",
       "      <td>30.0</td>\n",
       "    </tr>\n",
       "    <tr>\n",
       "      <th>3</th>\n",
       "      <td>TokyoMilk</td>\n",
       "      <td>42.0</td>\n",
       "    </tr>\n",
       "    <tr>\n",
       "      <th>4</th>\n",
       "      <td>Comptoir Sud Pacifique</td>\n",
       "      <td>42.0</td>\n",
       "    </tr>\n",
       "  </tbody>\n",
       "</table>\n",
       "</div>"
      ],
      "text/plain": [
       "                    brand  price\n",
       "0      SEPHORA COLLECTION   17.0\n",
       "1               Commodity   26.0\n",
       "2              Pink Sugar   30.0\n",
       "3               TokyoMilk   42.0\n",
       "4  Comptoir Sud Pacifique   42.0"
      ]
     },
     "execution_count": 40,
     "metadata": {},
     "output_type": "execute_result"
    }
   ],
   "source": [
    "# Sacamos la mediana del precio en función de la marca y lo ordenamos de menor a mayor.\n",
    "\n",
    "df2 = df.groupby(\"brand\")[\"price\"].median().sort_values().reset_index()\n",
    "df2.head()"
   ]
  },
  {
   "cell_type": "code",
   "execution_count": 41,
   "metadata": {},
   "outputs": [],
   "source": [
    "# Creamos una nueva columna con el encoding dándole un nº del 0 hasta el final.\n",
    "\n",
    "df2.insert(0, \"brand_encoding\", range(0, len(df2)))"
   ]
  },
  {
   "cell_type": "code",
   "execution_count": 42,
   "metadata": {},
   "outputs": [
    {
     "data": {
      "text/html": [
       "<div>\n",
       "<style scoped>\n",
       "    .dataframe tbody tr th:only-of-type {\n",
       "        vertical-align: middle;\n",
       "    }\n",
       "\n",
       "    .dataframe tbody tr th {\n",
       "        vertical-align: top;\n",
       "    }\n",
       "\n",
       "    .dataframe thead th {\n",
       "        text-align: right;\n",
       "    }\n",
       "</style>\n",
       "<table border=\"1\" class=\"dataframe\">\n",
       "  <thead>\n",
       "    <tr style=\"text-align: right;\">\n",
       "      <th></th>\n",
       "      <th>brand_encoding</th>\n",
       "      <th>brand</th>\n",
       "      <th>price</th>\n",
       "    </tr>\n",
       "  </thead>\n",
       "  <tbody>\n",
       "    <tr>\n",
       "      <th>0</th>\n",
       "      <td>0</td>\n",
       "      <td>SEPHORA COLLECTION</td>\n",
       "      <td>17.0</td>\n",
       "    </tr>\n",
       "    <tr>\n",
       "      <th>1</th>\n",
       "      <td>1</td>\n",
       "      <td>Commodity</td>\n",
       "      <td>26.0</td>\n",
       "    </tr>\n",
       "    <tr>\n",
       "      <th>2</th>\n",
       "      <td>2</td>\n",
       "      <td>Pink Sugar</td>\n",
       "      <td>30.0</td>\n",
       "    </tr>\n",
       "    <tr>\n",
       "      <th>3</th>\n",
       "      <td>3</td>\n",
       "      <td>TokyoMilk</td>\n",
       "      <td>42.0</td>\n",
       "    </tr>\n",
       "    <tr>\n",
       "      <th>4</th>\n",
       "      <td>4</td>\n",
       "      <td>Comptoir Sud Pacifique</td>\n",
       "      <td>42.0</td>\n",
       "    </tr>\n",
       "    <tr>\n",
       "      <th>5</th>\n",
       "      <td>5</td>\n",
       "      <td>Elizabeth and James</td>\n",
       "      <td>48.0</td>\n",
       "    </tr>\n",
       "    <tr>\n",
       "      <th>6</th>\n",
       "      <td>6</td>\n",
       "      <td>Sol de Janeiro</td>\n",
       "      <td>48.5</td>\n",
       "    </tr>\n",
       "    <tr>\n",
       "      <th>7</th>\n",
       "      <td>7</td>\n",
       "      <td>Fresh</td>\n",
       "      <td>50.0</td>\n",
       "    </tr>\n",
       "    <tr>\n",
       "      <th>8</th>\n",
       "      <td>8</td>\n",
       "      <td>philosophy</td>\n",
       "      <td>50.0</td>\n",
       "    </tr>\n",
       "    <tr>\n",
       "      <th>9</th>\n",
       "      <td>9</td>\n",
       "      <td>SKYLAR</td>\n",
       "      <td>53.5</td>\n",
       "    </tr>\n",
       "  </tbody>\n",
       "</table>\n",
       "</div>"
      ],
      "text/plain": [
       "   brand_encoding                   brand  price\n",
       "0               0      SEPHORA COLLECTION   17.0\n",
       "1               1               Commodity   26.0\n",
       "2               2              Pink Sugar   30.0\n",
       "3               3               TokyoMilk   42.0\n",
       "4               4  Comptoir Sud Pacifique   42.0\n",
       "5               5     Elizabeth and James   48.0\n",
       "6               6          Sol de Janeiro   48.5\n",
       "7               7                   Fresh   50.0\n",
       "8               8              philosophy   50.0\n",
       "9               9                  SKYLAR   53.5"
      ]
     },
     "execution_count": 42,
     "metadata": {},
     "output_type": "execute_result"
    }
   ],
   "source": [
    "# Comprobamos que se ha realizado.\n",
    "\n",
    "df2.head(10)"
   ]
  },
  {
   "cell_type": "code",
   "execution_count": 43,
   "metadata": {},
   "outputs": [],
   "source": [
    "# Eliminamos la mediana para poder unirlo después.\n",
    "\n",
    "df2.drop(\"price\", axis = 1, inplace = True)"
   ]
  },
  {
   "cell_type": "code",
   "execution_count": 44,
   "metadata": {},
   "outputs": [
    {
     "data": {
      "text/html": [
       "<div>\n",
       "<style scoped>\n",
       "    .dataframe tbody tr th:only-of-type {\n",
       "        vertical-align: middle;\n",
       "    }\n",
       "\n",
       "    .dataframe tbody tr th {\n",
       "        vertical-align: top;\n",
       "    }\n",
       "\n",
       "    .dataframe thead th {\n",
       "        text-align: right;\n",
       "    }\n",
       "</style>\n",
       "<table border=\"1\" class=\"dataframe\">\n",
       "  <thead>\n",
       "    <tr style=\"text-align: right;\">\n",
       "      <th></th>\n",
       "      <th>brand</th>\n",
       "      <th>category</th>\n",
       "      <th>rating</th>\n",
       "      <th>number_of_reviews</th>\n",
       "      <th>love</th>\n",
       "      <th>price</th>\n",
       "      <th>online_only</th>\n",
       "      <th>exclusive</th>\n",
       "      <th>limited_edition</th>\n",
       "      <th>price_box</th>\n",
       "      <th>category_map</th>\n",
       "      <th>brand_encoding</th>\n",
       "    </tr>\n",
       "  </thead>\n",
       "  <tbody>\n",
       "    <tr>\n",
       "      <th>0</th>\n",
       "      <td>Acqua Di Parma</td>\n",
       "      <td>Fragrance</td>\n",
       "      <td>4.0</td>\n",
       "      <td>-0.215962</td>\n",
       "      <td>0.156305</td>\n",
       "      <td>66.0</td>\n",
       "      <td>Yes</td>\n",
       "      <td>No</td>\n",
       "      <td>No</td>\n",
       "      <td>8.343559</td>\n",
       "      <td>0</td>\n",
       "      <td>63</td>\n",
       "    </tr>\n",
       "    <tr>\n",
       "      <th>1</th>\n",
       "      <td>Acqua Di Parma</td>\n",
       "      <td>Cologne</td>\n",
       "      <td>4.5</td>\n",
       "      <td>0.460094</td>\n",
       "      <td>0.097447</td>\n",
       "      <td>66.0</td>\n",
       "      <td>Yes</td>\n",
       "      <td>No</td>\n",
       "      <td>No</td>\n",
       "      <td>8.343559</td>\n",
       "      <td>2</td>\n",
       "      <td>63</td>\n",
       "    </tr>\n",
       "    <tr>\n",
       "      <th>2</th>\n",
       "      <td>Acqua Di Parma</td>\n",
       "      <td>Perfume</td>\n",
       "      <td>4.5</td>\n",
       "      <td>-0.009390</td>\n",
       "      <td>0.077958</td>\n",
       "      <td>180.0</td>\n",
       "      <td>Yes</td>\n",
       "      <td>No</td>\n",
       "      <td>No</td>\n",
       "      <td>12.422912</td>\n",
       "      <td>3</td>\n",
       "      <td>63</td>\n",
       "    </tr>\n",
       "    <tr>\n",
       "      <th>3</th>\n",
       "      <td>Acqua Di Parma</td>\n",
       "      <td>Perfume</td>\n",
       "      <td>4.5</td>\n",
       "      <td>-0.037559</td>\n",
       "      <td>0.136426</td>\n",
       "      <td>120.0</td>\n",
       "      <td>Yes</td>\n",
       "      <td>No</td>\n",
       "      <td>No</td>\n",
       "      <td>10.626234</td>\n",
       "      <td>3</td>\n",
       "      <td>63</td>\n",
       "    </tr>\n",
       "    <tr>\n",
       "      <th>4</th>\n",
       "      <td>Acqua Di Parma</td>\n",
       "      <td>Fragrance</td>\n",
       "      <td>3.5</td>\n",
       "      <td>-0.234742</td>\n",
       "      <td>-0.244981</td>\n",
       "      <td>72.0</td>\n",
       "      <td>Yes</td>\n",
       "      <td>No</td>\n",
       "      <td>No</td>\n",
       "      <td>8.651025</td>\n",
       "      <td>0</td>\n",
       "      <td>63</td>\n",
       "    </tr>\n",
       "  </tbody>\n",
       "</table>\n",
       "</div>"
      ],
      "text/plain": [
       "            brand   category  rating  number_of_reviews      love  price  \\\n",
       "0  Acqua Di Parma  Fragrance     4.0          -0.215962  0.156305   66.0   \n",
       "1  Acqua Di Parma    Cologne     4.5           0.460094  0.097447   66.0   \n",
       "2  Acqua Di Parma    Perfume     4.5          -0.009390  0.077958  180.0   \n",
       "3  Acqua Di Parma    Perfume     4.5          -0.037559  0.136426  120.0   \n",
       "4  Acqua Di Parma  Fragrance     3.5          -0.234742 -0.244981   72.0   \n",
       "\n",
       "  online_only exclusive limited_edition  price_box  category_map  \\\n",
       "0         Yes        No              No   8.343559             0   \n",
       "1         Yes        No              No   8.343559             2   \n",
       "2         Yes        No              No  12.422912             3   \n",
       "3         Yes        No              No  10.626234             3   \n",
       "4         Yes        No              No   8.651025             0   \n",
       "\n",
       "   brand_encoding  \n",
       "0              63  \n",
       "1              63  \n",
       "2              63  \n",
       "3              63  \n",
       "4              63  "
      ]
     },
     "execution_count": 44,
     "metadata": {},
     "output_type": "execute_result"
    }
   ],
   "source": [
    "# Unimos ambos DataFrames por la columan \"brand\".\n",
    "\n",
    "df = pd.merge(df, df2, on = \"brand\", how = \"left\")\n",
    "df.head()"
   ]
  },
  {
   "cell_type": "markdown",
   "metadata": {},
   "source": [
    "Hemos sacado la mediana de cada una de las categorías de la columna \"brand\" en función del precio(\"price\"), y en función del valor de cada una hemos realizado el encoding de menor a mayor, dándoles un número del 0 al 76."
   ]
  },
  {
   "cell_type": "markdown",
   "metadata": {},
   "source": [
    "#### Para la columna online_only:"
   ]
  },
  {
   "cell_type": "code",
   "execution_count": 45,
   "metadata": {},
   "outputs": [
    {
     "data": {
      "image/png": "[encoded data removed]",
      "text/plain": [
       "<Figure size 720x576 with 1 Axes>"
      ]
     },
     "metadata": {
      "needs_background": "light"
     },
     "output_type": "display_data"
    }
   ],
   "source": [
    "sns.boxplot(x = \"online_only\", y = \"price\", data = df, palette = \"mako\");"
   ]
  },
  {
   "cell_type": "markdown",
   "metadata": {},
   "source": [
    "Hemos sacado la mediana de la columna \"online_only\" y comprobamos que afecta al precio muy ligeramente, por lo que consideramos que no tiene orden. "
   ]
  },
  {
   "cell_type": "code",
   "execution_count": 46,
   "metadata": {},
   "outputs": [],
   "source": [
    "# Aplicamos el método getdummies. \n",
    "\n",
    "dummies = pd.get_dummies(df[\"online_only\"], prefix = \"online_only\", prefix_sep = \"_\", dtype = int)"
   ]
  },
  {
   "cell_type": "code",
   "execution_count": 47,
   "metadata": {},
   "outputs": [
    {
     "data": {
      "text/html": [
       "<div>\n",
       "<style scoped>\n",
       "    .dataframe tbody tr th:only-of-type {\n",
       "        vertical-align: middle;\n",
       "    }\n",
       "\n",
       "    .dataframe tbody tr th {\n",
       "        vertical-align: top;\n",
       "    }\n",
       "\n",
       "    .dataframe thead th {\n",
       "        text-align: right;\n",
       "    }\n",
       "</style>\n",
       "<table border=\"1\" class=\"dataframe\">\n",
       "  <thead>\n",
       "    <tr style=\"text-align: right;\">\n",
       "      <th></th>\n",
       "      <th>brand</th>\n",
       "      <th>category</th>\n",
       "      <th>rating</th>\n",
       "      <th>number_of_reviews</th>\n",
       "      <th>love</th>\n",
       "      <th>price</th>\n",
       "      <th>online_only</th>\n",
       "      <th>exclusive</th>\n",
       "      <th>limited_edition</th>\n",
       "      <th>price_box</th>\n",
       "      <th>category_map</th>\n",
       "      <th>brand_encoding</th>\n",
       "      <th>online_only_No</th>\n",
       "      <th>online_only_Yes</th>\n",
       "    </tr>\n",
       "  </thead>\n",
       "  <tbody>\n",
       "    <tr>\n",
       "      <th>0</th>\n",
       "      <td>Acqua Di Parma</td>\n",
       "      <td>Fragrance</td>\n",
       "      <td>4.0</td>\n",
       "      <td>-0.215962</td>\n",
       "      <td>0.156305</td>\n",
       "      <td>66.0</td>\n",
       "      <td>Yes</td>\n",
       "      <td>No</td>\n",
       "      <td>No</td>\n",
       "      <td>8.343559</td>\n",
       "      <td>0</td>\n",
       "      <td>63</td>\n",
       "      <td>0</td>\n",
       "      <td>1</td>\n",
       "    </tr>\n",
       "    <tr>\n",
       "      <th>1</th>\n",
       "      <td>Acqua Di Parma</td>\n",
       "      <td>Cologne</td>\n",
       "      <td>4.5</td>\n",
       "      <td>0.460094</td>\n",
       "      <td>0.097447</td>\n",
       "      <td>66.0</td>\n",
       "      <td>Yes</td>\n",
       "      <td>No</td>\n",
       "      <td>No</td>\n",
       "      <td>8.343559</td>\n",
       "      <td>2</td>\n",
       "      <td>63</td>\n",
       "      <td>0</td>\n",
       "      <td>1</td>\n",
       "    </tr>\n",
       "  </tbody>\n",
       "</table>\n",
       "</div>"
      ],
      "text/plain": [
       "            brand   category  rating  number_of_reviews      love  price  \\\n",
       "0  Acqua Di Parma  Fragrance     4.0          -0.215962  0.156305   66.0   \n",
       "1  Acqua Di Parma    Cologne     4.5           0.460094  0.097447   66.0   \n",
       "\n",
       "  online_only exclusive limited_edition  price_box  category_map  \\\n",
       "0         Yes        No              No   8.343559             0   \n",
       "1         Yes        No              No   8.343559             2   \n",
       "\n",
       "   brand_encoding  online_only_No  online_only_Yes  \n",
       "0              63               0                1  \n",
       "1              63               0                1  "
      ]
     },
     "execution_count": 47,
     "metadata": {},
     "output_type": "execute_result"
    }
   ],
   "source": [
    "# Lo unimos al DataFrame original.\n",
    "\n",
    "df = pd.concat([df, dummies], axis = 1)\n",
    "df.head(2)"
   ]
  },
  {
   "cell_type": "markdown",
   "metadata": {},
   "source": [
    "#### Para la columna exclusive:"
   ]
  },
  {
   "cell_type": "code",
   "execution_count": 48,
   "metadata": {},
   "outputs": [
    {
     "data": {
      "image/png": "[encoded data removed]",
      "text/plain": [
       "<Figure size 720x576 with 1 Axes>"
      ]
     },
     "metadata": {
      "needs_background": "light"
     },
     "output_type": "display_data"
    }
   ],
   "source": [
    "sns.boxplot(x = \"exclusive\", y = \"price\", data = df, palette = \"mako\");"
   ]
  },
  {
   "cell_type": "markdown",
   "metadata": {},
   "source": [
    "Tampoco consideramos que exclusive afecte de manera significativa al precio, por lo que tampoco tiene orden. "
   ]
  },
  {
   "cell_type": "code",
   "execution_count": 49,
   "metadata": {},
   "outputs": [
    {
     "data": {
      "text/html": [
       "<div>\n",
       "<style scoped>\n",
       "    .dataframe tbody tr th:only-of-type {\n",
       "        vertical-align: middle;\n",
       "    }\n",
       "\n",
       "    .dataframe tbody tr th {\n",
       "        vertical-align: top;\n",
       "    }\n",
       "\n",
       "    .dataframe thead th {\n",
       "        text-align: right;\n",
       "    }\n",
       "</style>\n",
       "<table border=\"1\" class=\"dataframe\">\n",
       "  <thead>\n",
       "    <tr style=\"text-align: right;\">\n",
       "      <th></th>\n",
       "      <th>brand</th>\n",
       "      <th>category</th>\n",
       "      <th>rating</th>\n",
       "      <th>number_of_reviews</th>\n",
       "      <th>love</th>\n",
       "      <th>price</th>\n",
       "      <th>online_only</th>\n",
       "      <th>exclusive</th>\n",
       "      <th>limited_edition</th>\n",
       "      <th>price_box</th>\n",
       "      <th>category_map</th>\n",
       "      <th>brand_encoding</th>\n",
       "      <th>online_only_No</th>\n",
       "      <th>online_only_Yes</th>\n",
       "      <th>exclusive_No</th>\n",
       "      <th>exclusive_Yes</th>\n",
       "    </tr>\n",
       "  </thead>\n",
       "  <tbody>\n",
       "    <tr>\n",
       "      <th>0</th>\n",
       "      <td>Acqua Di Parma</td>\n",
       "      <td>Fragrance</td>\n",
       "      <td>4.0</td>\n",
       "      <td>-0.215962</td>\n",
       "      <td>0.156305</td>\n",
       "      <td>66.0</td>\n",
       "      <td>Yes</td>\n",
       "      <td>No</td>\n",
       "      <td>No</td>\n",
       "      <td>8.343559</td>\n",
       "      <td>0</td>\n",
       "      <td>63</td>\n",
       "      <td>0</td>\n",
       "      <td>1</td>\n",
       "      <td>1</td>\n",
       "      <td>0</td>\n",
       "    </tr>\n",
       "    <tr>\n",
       "      <th>1</th>\n",
       "      <td>Acqua Di Parma</td>\n",
       "      <td>Cologne</td>\n",
       "      <td>4.5</td>\n",
       "      <td>0.460094</td>\n",
       "      <td>0.097447</td>\n",
       "      <td>66.0</td>\n",
       "      <td>Yes</td>\n",
       "      <td>No</td>\n",
       "      <td>No</td>\n",
       "      <td>8.343559</td>\n",
       "      <td>2</td>\n",
       "      <td>63</td>\n",
       "      <td>0</td>\n",
       "      <td>1</td>\n",
       "      <td>1</td>\n",
       "      <td>0</td>\n",
       "    </tr>\n",
       "  </tbody>\n",
       "</table>\n",
       "</div>"
      ],
      "text/plain": [
       "            brand   category  rating  number_of_reviews      love  price  \\\n",
       "0  Acqua Di Parma  Fragrance     4.0          -0.215962  0.156305   66.0   \n",
       "1  Acqua Di Parma    Cologne     4.5           0.460094  0.097447   66.0   \n",
       "\n",
       "  online_only exclusive limited_edition  price_box  category_map  \\\n",
       "0         Yes        No              No   8.343559             0   \n",
       "1         Yes        No              No   8.343559             2   \n",
       "\n",
       "   brand_encoding  online_only_No  online_only_Yes  exclusive_No  \\\n",
       "0              63               0                1             1   \n",
       "1              63               0                1             1   \n",
       "\n",
       "   exclusive_Yes  \n",
       "0              0  \n",
       "1              0  "
      ]
     },
     "execution_count": 49,
     "metadata": {},
     "output_type": "execute_result"
    }
   ],
   "source": [
    "# Realizamos el método getdummies y lo aplicamos.\n",
    "\n",
    "dummies2 = pd.get_dummies(df[\"exclusive\"], prefix = \"exclusive\", prefix_sep='_', dtype = int)\n",
    "df = pd.concat([df, dummies2], axis = 1)\n",
    "df.head(2)"
   ]
  },
  {
   "cell_type": "markdown",
   "metadata": {},
   "source": [
    "#### Para la columna limited_edition:"
   ]
  },
  {
   "cell_type": "code",
   "execution_count": 50,
   "metadata": {},
   "outputs": [
    {
     "data": {
      "image/png": "[encoded data removed]",
      "text/plain": [
       "<Figure size 720x576 with 1 Axes>"
      ]
     },
     "metadata": {
      "needs_background": "light"
     },
     "output_type": "display_data"
    }
   ],
   "source": [
    "sns.boxplot(x = \"limited_edition\", y = \"price\", data = df, palette = \"mako\");"
   ]
  },
  {
   "cell_type": "code",
   "execution_count": 51,
   "metadata": {},
   "outputs": [
    {
     "data": {
      "text/html": [
       "<div>\n",
       "<style scoped>\n",
       "    .dataframe tbody tr th:only-of-type {\n",
       "        vertical-align: middle;\n",
       "    }\n",
       "\n",
       "    .dataframe tbody tr th {\n",
       "        vertical-align: top;\n",
       "    }\n",
       "\n",
       "    .dataframe thead th {\n",
       "        text-align: right;\n",
       "    }\n",
       "</style>\n",
       "<table border=\"1\" class=\"dataframe\">\n",
       "  <thead>\n",
       "    <tr style=\"text-align: right;\">\n",
       "      <th></th>\n",
       "      <th>brand</th>\n",
       "      <th>category</th>\n",
       "      <th>rating</th>\n",
       "      <th>number_of_reviews</th>\n",
       "      <th>love</th>\n",
       "      <th>price</th>\n",
       "      <th>online_only</th>\n",
       "      <th>exclusive</th>\n",
       "      <th>limited_edition</th>\n",
       "      <th>price_box</th>\n",
       "      <th>category_map</th>\n",
       "      <th>brand_encoding</th>\n",
       "      <th>online_only_No</th>\n",
       "      <th>online_only_Yes</th>\n",
       "      <th>exclusive_No</th>\n",
       "      <th>exclusive_Yes</th>\n",
       "      <th>limited_edition_No</th>\n",
       "      <th>limited_edition_Yes</th>\n",
       "    </tr>\n",
       "  </thead>\n",
       "  <tbody>\n",
       "    <tr>\n",
       "      <th>0</th>\n",
       "      <td>Acqua Di Parma</td>\n",
       "      <td>Fragrance</td>\n",
       "      <td>4.0</td>\n",
       "      <td>-0.215962</td>\n",
       "      <td>0.156305</td>\n",
       "      <td>66.0</td>\n",
       "      <td>Yes</td>\n",
       "      <td>No</td>\n",
       "      <td>No</td>\n",
       "      <td>8.343559</td>\n",
       "      <td>0</td>\n",
       "      <td>63</td>\n",
       "      <td>0</td>\n",
       "      <td>1</td>\n",
       "      <td>1</td>\n",
       "      <td>0</td>\n",
       "      <td>1</td>\n",
       "      <td>0</td>\n",
       "    </tr>\n",
       "    <tr>\n",
       "      <th>1</th>\n",
       "      <td>Acqua Di Parma</td>\n",
       "      <td>Cologne</td>\n",
       "      <td>4.5</td>\n",
       "      <td>0.460094</td>\n",
       "      <td>0.097447</td>\n",
       "      <td>66.0</td>\n",
       "      <td>Yes</td>\n",
       "      <td>No</td>\n",
       "      <td>No</td>\n",
       "      <td>8.343559</td>\n",
       "      <td>2</td>\n",
       "      <td>63</td>\n",
       "      <td>0</td>\n",
       "      <td>1</td>\n",
       "      <td>1</td>\n",
       "      <td>0</td>\n",
       "      <td>1</td>\n",
       "      <td>0</td>\n",
       "    </tr>\n",
       "  </tbody>\n",
       "</table>\n",
       "</div>"
      ],
      "text/plain": [
       "            brand   category  rating  number_of_reviews      love  price  \\\n",
       "0  Acqua Di Parma  Fragrance     4.0          -0.215962  0.156305   66.0   \n",
       "1  Acqua Di Parma    Cologne     4.5           0.460094  0.097447   66.0   \n",
       "\n",
       "  online_only exclusive limited_edition  price_box  category_map  \\\n",
       "0         Yes        No              No   8.343559             0   \n",
       "1         Yes        No              No   8.343559             2   \n",
       "\n",
       "   brand_encoding  online_only_No  online_only_Yes  exclusive_No  \\\n",
       "0              63               0                1             1   \n",
       "1              63               0                1             1   \n",
       "\n",
       "   exclusive_Yes  limited_edition_No  limited_edition_Yes  \n",
       "0              0                   1                    0  \n",
       "1              0                   1                    0  "
      ]
     },
     "execution_count": 51,
     "metadata": {},
     "output_type": "execute_result"
    }
   ],
   "source": [
    "# Realizamos el método getdummies y lo aplicamos.\n",
    "\n",
    "dummies3 = pd.get_dummies(df[\"limited_edition\"], prefix = \"limited_edition\", prefix_sep='_', dtype = int)\n",
    "df = pd.concat([df, dummies3], axis = 1)\n",
    "df.head(2)"
   ]
  },
  {
   "cell_type": "markdown",
   "metadata": {},
   "source": [
    "#### Para la columna rating:"
   ]
  },
  {
   "cell_type": "code",
   "execution_count": 52,
   "metadata": {},
   "outputs": [
    {
     "data": {
      "image/png": "[encoded data removed]",
      "text/plain": [
       "<Figure size 720x576 with 1 Axes>"
      ]
     },
     "metadata": {
      "needs_background": "light"
     },
     "output_type": "display_data"
    }
   ],
   "source": [
    "sns.boxplot(x = \"rating\", y = \"price\", data = df, palette = \"mako\");"
   ]
  },
  {
   "cell_type": "markdown",
   "metadata": {},
   "source": [
    "En este caso sí que creemos que hay un orden. Por lo tanto, le daremos el siguiente encoding:\n",
    "\n",
    "2.0: 2\n",
    "\n",
    "0.0, 3.0, 3.5, 4.0, 4.5, 5.0: 1\n",
    "\n",
    "1.0, 2.5: 0\n"
   ]
  },
  {
   "cell_type": "code",
   "execution_count": 53,
   "metadata": {},
   "outputs": [],
   "source": [
    "def reseña(columna):\n",
    "    \"\"\"\n",
    "    Esta función realiza un encoding de la columna que indiquemos.\n",
    "    Args:\n",
    "        columna(Serie): columna que contiene datos de tipo float.\n",
    "    Returns: con los datos codificados.\n",
    "    \"\"\"\n",
    "    if columna == 1.0 or columna == 2.5:\n",
    "        return 0\n",
    "\n",
    "    elif columna == 0.0 or columna == 3.0 or columna == 3.5 or columna == 4.0 or columna == 4.5 or columna == 5.0:\n",
    "        return 1\n",
    "\n",
    "    elif columna == 2.0:\n",
    "        return 2"
   ]
  },
  {
   "cell_type": "code",
   "execution_count": 54,
   "metadata": {},
   "outputs": [],
   "source": [
    "# Aplicamos la función.\n",
    "\n",
    "df[\"rating_map\"] = df[\"rating\"].apply(reseña)"
   ]
  },
  {
   "cell_type": "code",
   "execution_count": 55,
   "metadata": {},
   "outputs": [
    {
     "data": {
      "text/plain": [
       "array([1, 0, 2])"
      ]
     },
     "execution_count": 55,
     "metadata": {},
     "output_type": "execute_result"
    }
   ],
   "source": [
    "# Comprobamos que se ha realizado.\n",
    "\n",
    "df[\"rating_map\"].unique()"
   ]
  },
  {
   "cell_type": "markdown",
   "metadata": {},
   "source": [
    "3. Guardad el dataframe, donde deberíais tener las variables estadandarizas, normalizadas y codificadas en un csv para usarlo en el próximo pairprogramming"
   ]
  },
  {
   "cell_type": "code",
   "execution_count": 56,
   "metadata": {},
   "outputs": [],
   "source": [
    "df.to_csv(\"../data/sephora_encoding.csv\")"
   ]
  }
 ],
 "metadata": {
  "kernelspec": {
   "display_name": "base",
   "language": "python",
   "name": "python3"
  },
  "language_info": {
   "codemirror_mode": {
    "name": "ipython",
    "version": 3
   },
   "file_extension": ".py",
   "mimetype": "text/x-python",
   "name": "python",
   "nbconvert_exporter": "python",
   "pygments_lexer": "ipython3",
   "version": "3.9.7"
  },
  "orig_nbformat": 4
 },
 "nbformat": 4,
 "nbformat_minor": 2
}
