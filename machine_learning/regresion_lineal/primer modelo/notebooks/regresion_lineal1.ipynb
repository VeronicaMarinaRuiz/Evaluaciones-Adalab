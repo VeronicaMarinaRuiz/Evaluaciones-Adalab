{
 "cells": [
  {
   "cell_type": "markdown",
   "metadata": {},
   "source": [
    "# Regresión Lineal I. EDA"
   ]
  },
  {
   "cell_type": "code",
   "execution_count": 1,
   "metadata": {},
   "outputs": [],
   "source": [
    "import pandas as pd\n",
    "pd.options.display.max_columns = None\n",
    "pd.options.display.max_rows = None\n",
    "import numpy as np\n",
    "import matplotlib.pyplot as plt\n",
    "import seaborn as sns\n",
    "plt.rcParams[\"figure.figsize\"] = (10,8)\n",
    "from scipy.stats import skew\n",
    "from scipy.stats import kurtosistest\n",
    "from scipy import stats\n",
    "from scipy.stats import kstest\n",
    "import warnings\n",
    "warnings.filterwarnings('ignore')"
   ]
  },
  {
   "cell_type": "markdown",
   "metadata": {},
   "source": [
    "1. Buscar un conjunto de datos a analizar:"
   ]
  },
  {
   "cell_type": "code",
   "execution_count": 2,
   "metadata": {},
   "outputs": [
    {
     "data": {
      "text/html": [
       "<div>\n",
       "<style scoped>\n",
       "    .dataframe tbody tr th:only-of-type {\n",
       "        vertical-align: middle;\n",
       "    }\n",
       "\n",
       "    .dataframe tbody tr th {\n",
       "        vertical-align: top;\n",
       "    }\n",
       "\n",
       "    .dataframe thead th {\n",
       "        text-align: right;\n",
       "    }\n",
       "</style>\n",
       "<table border=\"1\" class=\"dataframe\">\n",
       "  <thead>\n",
       "    <tr style=\"text-align: right;\">\n",
       "      <th></th>\n",
       "      <th>id</th>\n",
       "      <th>brand</th>\n",
       "      <th>category</th>\n",
       "      <th>name</th>\n",
       "      <th>size</th>\n",
       "      <th>rating</th>\n",
       "      <th>number_of_reviews</th>\n",
       "      <th>love</th>\n",
       "      <th>price</th>\n",
       "      <th>value_price</th>\n",
       "      <th>URL</th>\n",
       "      <th>MarketingFlags</th>\n",
       "      <th>MarketingFlags_content</th>\n",
       "      <th>options</th>\n",
       "      <th>details</th>\n",
       "      <th>how_to_use</th>\n",
       "      <th>ingredients</th>\n",
       "      <th>online_only</th>\n",
       "      <th>exclusive</th>\n",
       "      <th>limited_edition</th>\n",
       "      <th>limited_time_offer</th>\n",
       "    </tr>\n",
       "  </thead>\n",
       "  <tbody>\n",
       "    <tr>\n",
       "      <th>0</th>\n",
       "      <td>2218774</td>\n",
       "      <td>Acqua Di Parma</td>\n",
       "      <td>Fragrance</td>\n",
       "      <td>Blu Mediterraneo MINIATURE Set</td>\n",
       "      <td>5 x 0.16oz/5mL</td>\n",
       "      <td>4.0</td>\n",
       "      <td>4</td>\n",
       "      <td>3002</td>\n",
       "      <td>66.0</td>\n",
       "      <td>75.0</td>\n",
       "      <td>https://www.sephora.com/product/blu-mediterran...</td>\n",
       "      <td>True</td>\n",
       "      <td>online only</td>\n",
       "      <td>no options</td>\n",
       "      <td>This enchanting set comes in a specially handc...</td>\n",
       "      <td>Suggested Usage:-Fragrance is intensified by t...</td>\n",
       "      <td>Arancia di Capri Eau de Toilette: Alcohol Dena...</td>\n",
       "      <td>1</td>\n",
       "      <td>0</td>\n",
       "      <td>0</td>\n",
       "      <td>0</td>\n",
       "    </tr>\n",
       "  </tbody>\n",
       "</table>\n",
       "</div>"
      ],
      "text/plain": [
       "        id           brand   category                            name  \\\n",
       "0  2218774  Acqua Di Parma  Fragrance  Blu Mediterraneo MINIATURE Set   \n",
       "\n",
       "             size  rating  number_of_reviews  love  price  value_price  \\\n",
       "0  5 x 0.16oz/5mL     4.0                  4  3002   66.0         75.0   \n",
       "\n",
       "                                                 URL  MarketingFlags  \\\n",
       "0  https://www.sephora.com/product/blu-mediterran...            True   \n",
       "\n",
       "  MarketingFlags_content     options  \\\n",
       "0            online only  no options   \n",
       "\n",
       "                                             details  \\\n",
       "0  This enchanting set comes in a specially handc...   \n",
       "\n",
       "                                          how_to_use  \\\n",
       "0  Suggested Usage:-Fragrance is intensified by t...   \n",
       "\n",
       "                                         ingredients  online_only  exclusive  \\\n",
       "0  Arancia di Capri Eau de Toilette: Alcohol Dena...            1          0   \n",
       "\n",
       "   limited_edition  limited_time_offer  \n",
       "0                0                   0  "
      ]
     },
     "execution_count": 2,
     "metadata": {},
     "output_type": "execute_result"
    }
   ],
   "source": [
    "df = pd.read_csv(\"../data/sephora.csv\")\n",
    "df.head(1)"
   ]
  },
  {
   "cell_type": "markdown",
   "metadata": {},
   "source": [
    "Después de ver la información de las columnas, hemos decidido que la variable respuesta sea 'price'. La variable independiente va a ser el resto de columnas, Por tanto, queremos ver si el precio varía en función del resto de variables que hay en nuestro DataFrame. "
   ]
  },
  {
   "cell_type": "markdown",
   "metadata": {},
   "source": [
    "2. Explicar los datos y las variables disponibles en el conjunto de datos seleccionado:\n",
    "\n",
    "- Esto se hace para que comprendais mejor los datos con los que estais trabajando.\n",
    "- Realizar un EDA sencillo para la variable dependiente y la variable independiente"
   ]
  },
  {
   "cell_type": "markdown",
   "metadata": {},
   "source": [
    "Este dataset tiene las siguientes variables:\n",
    "\n",
    "- `id`: El ID del producto en la página web de Sephora.\n",
    "\n",
    "- `brand`: La marca del producto.\n",
    "\n",
    "- `category`: La categoría del producto.\n",
    "\n",
    "- `name`: El nombre del producto.\n",
    "\n",
    "- `size`: El tamaño del producto.\n",
    "\n",
    "- `rating`: La valoración del producto.\n",
    "\n",
    "- `number_of_reviews`: El número de reseñas del producto.\n",
    "\n",
    "- `love`: El número de personas a las que le gusta el producto.\n",
    "\n",
    "- `price`: El precio del producto.\n",
    "\n",
    "- `value_price`: El precio de valor del producto (para productos con descuento).\n",
    "\n",
    "- `URL`: El link al producto.\n",
    "\n",
    "- `MarketingFlags`: Si el producto es exclusivo o únicamente vendido online.\n",
    "\n",
    "- `MarketingFlags_content`: Especificaciones acerca de MarketingFlags.\n",
    "\n",
    "- `options`: Las opciones disponibles en la web para cada producto, como colores o tamaño.\n",
    "\n",
    "- `details`: Los detalles del producto disponibles en la web.\n",
    "\n",
    "- `how_to_use`: Intrucciones de uso para el producto.\n",
    "\n",
    "- `ingredients`: Ingredientes del producto.\n",
    "\n",
    "- `online_only`: Si el producto se vende exclusivamente online.\n",
    "\n",
    "- `exclusive`: Si el producto se vende únicamente en la web de Sephora.\n",
    "\n",
    "- `limited_edition`: Si el producto es edición limitada.\n",
    "\n",
    "- `limited_time_offer`: Si el producto tiene una oferta por tiempo limitado"
   ]
  },
  {
   "cell_type": "code",
   "execution_count": 3,
   "metadata": {},
   "outputs": [
    {
     "name": "stdout",
     "output_type": "stream",
     "text": [
      "Nuestro DataFrame tiene 9168 filas y 21 columnas.\n"
     ]
    }
   ],
   "source": [
    "# Miramos la forma de nuestro DataFrame.\n",
    "\n",
    "print(f\"Nuestro DataFrame tiene {df.shape[0]} filas y {df.shape[1]} columnas.\")"
   ]
  },
  {
   "cell_type": "code",
   "execution_count": 4,
   "metadata": {},
   "outputs": [
    {
     "name": "stdout",
     "output_type": "stream",
     "text": [
      "<class 'pandas.core.frame.DataFrame'>\n",
      "RangeIndex: 9168 entries, 0 to 9167\n",
      "Data columns (total 21 columns):\n",
      " #   Column                  Non-Null Count  Dtype  \n",
      "---  ------                  --------------  -----  \n",
      " 0   id                      9168 non-null   int64  \n",
      " 1   brand                   9168 non-null   object \n",
      " 2   category                9168 non-null   object \n",
      " 3   name                    9168 non-null   object \n",
      " 4   size                    9168 non-null   object \n",
      " 5   rating                  9168 non-null   float64\n",
      " 6   number_of_reviews       9168 non-null   int64  \n",
      " 7   love                    9168 non-null   int64  \n",
      " 8   price                   9168 non-null   float64\n",
      " 9   value_price             9168 non-null   float64\n",
      " 10  URL                     9168 non-null   object \n",
      " 11  MarketingFlags          9168 non-null   bool   \n",
      " 12  MarketingFlags_content  9168 non-null   object \n",
      " 13  options                 9168 non-null   object \n",
      " 14  details                 9168 non-null   object \n",
      " 15  how_to_use              9168 non-null   object \n",
      " 16  ingredients             9168 non-null   object \n",
      " 17  online_only             9168 non-null   int64  \n",
      " 18  exclusive               9168 non-null   int64  \n",
      " 19  limited_edition         9168 non-null   int64  \n",
      " 20  limited_time_offer      9168 non-null   int64  \n",
      "dtypes: bool(1), float64(3), int64(7), object(10)\n",
      "memory usage: 1.4+ MB\n"
     ]
    }
   ],
   "source": [
    "# Sacamos la información de nuestro DataFrame.\n",
    "\n",
    "df.info()"
   ]
  },
  {
   "cell_type": "code",
   "execution_count": 5,
   "metadata": {},
   "outputs": [
    {
     "data": {
      "text/plain": [
       "Index(['id', 'brand', 'category', 'name', 'size', 'rating',\n",
       "       'number_of_reviews', 'love', 'price', 'value_price', 'URL',\n",
       "       'MarketingFlags', 'MarketingFlags_content', 'options', 'details',\n",
       "       'how_to_use', 'ingredients', 'online_only', 'exclusive',\n",
       "       'limited_edition', 'limited_time_offer'],\n",
       "      dtype='object')"
      ]
     },
     "execution_count": 5,
     "metadata": {},
     "output_type": "execute_result"
    }
   ],
   "source": [
    "# Sacamos los nombres de nuestras columnas.\n",
    "\n",
    "df.columns"
   ]
  },
  {
   "cell_type": "code",
   "execution_count": 6,
   "metadata": {},
   "outputs": [
    {
     "data": {
      "text/html": [
       "<div>\n",
       "<style scoped>\n",
       "    .dataframe tbody tr th:only-of-type {\n",
       "        vertical-align: middle;\n",
       "    }\n",
       "\n",
       "    .dataframe tbody tr th {\n",
       "        vertical-align: top;\n",
       "    }\n",
       "\n",
       "    .dataframe thead th {\n",
       "        text-align: right;\n",
       "    }\n",
       "</style>\n",
       "<table border=\"1\" class=\"dataframe\">\n",
       "  <thead>\n",
       "    <tr style=\"text-align: right;\">\n",
       "      <th></th>\n",
       "      <th>count</th>\n",
       "      <th>mean</th>\n",
       "      <th>std</th>\n",
       "      <th>min</th>\n",
       "      <th>25%</th>\n",
       "      <th>50%</th>\n",
       "      <th>75%</th>\n",
       "      <th>max</th>\n",
       "    </tr>\n",
       "  </thead>\n",
       "  <tbody>\n",
       "    <tr>\n",
       "      <th>id</th>\n",
       "      <td>9168.0</td>\n",
       "      <td>1.962952e+06</td>\n",
       "      <td>385971.360901</td>\n",
       "      <td>50.0</td>\n",
       "      <td>1819453.0</td>\n",
       "      <td>2072353.5</td>\n",
       "      <td>2230591.0</td>\n",
       "      <td>2359685.0</td>\n",
       "    </tr>\n",
       "    <tr>\n",
       "      <th>rating</th>\n",
       "      <td>9168.0</td>\n",
       "      <td>3.990020e+00</td>\n",
       "      <td>1.007707</td>\n",
       "      <td>0.0</td>\n",
       "      <td>4.0</td>\n",
       "      <td>4.0</td>\n",
       "      <td>4.5</td>\n",
       "      <td>5.0</td>\n",
       "    </tr>\n",
       "    <tr>\n",
       "      <th>number_of_reviews</th>\n",
       "      <td>9168.0</td>\n",
       "      <td>2.821392e+02</td>\n",
       "      <td>890.642028</td>\n",
       "      <td>0.0</td>\n",
       "      <td>10.0</td>\n",
       "      <td>46.0</td>\n",
       "      <td>210.0</td>\n",
       "      <td>19000.0</td>\n",
       "    </tr>\n",
       "    <tr>\n",
       "      <th>love</th>\n",
       "      <td>9168.0</td>\n",
       "      <td>1.627859e+04</td>\n",
       "      <td>42606.514471</td>\n",
       "      <td>0.0</td>\n",
       "      <td>1600.0</td>\n",
       "      <td>4800.0</td>\n",
       "      <td>13800.0</td>\n",
       "      <td>1300000.0</td>\n",
       "    </tr>\n",
       "    <tr>\n",
       "      <th>price</th>\n",
       "      <td>9168.0</td>\n",
       "      <td>5.006324e+01</td>\n",
       "      <td>47.164989</td>\n",
       "      <td>2.0</td>\n",
       "      <td>24.0</td>\n",
       "      <td>35.0</td>\n",
       "      <td>59.0</td>\n",
       "      <td>549.0</td>\n",
       "    </tr>\n",
       "    <tr>\n",
       "      <th>value_price</th>\n",
       "      <td>9168.0</td>\n",
       "      <td>5.182359e+01</td>\n",
       "      <td>49.459020</td>\n",
       "      <td>2.0</td>\n",
       "      <td>25.0</td>\n",
       "      <td>35.0</td>\n",
       "      <td>60.0</td>\n",
       "      <td>549.0</td>\n",
       "    </tr>\n",
       "    <tr>\n",
       "      <th>online_only</th>\n",
       "      <td>9168.0</td>\n",
       "      <td>2.348386e-01</td>\n",
       "      <td>0.423921</td>\n",
       "      <td>0.0</td>\n",
       "      <td>0.0</td>\n",
       "      <td>0.0</td>\n",
       "      <td>0.0</td>\n",
       "      <td>1.0</td>\n",
       "    </tr>\n",
       "    <tr>\n",
       "      <th>exclusive</th>\n",
       "      <td>9168.0</td>\n",
       "      <td>2.647251e-01</td>\n",
       "      <td>0.441211</td>\n",
       "      <td>0.0</td>\n",
       "      <td>0.0</td>\n",
       "      <td>0.0</td>\n",
       "      <td>1.0</td>\n",
       "      <td>1.0</td>\n",
       "    </tr>\n",
       "    <tr>\n",
       "      <th>limited_edition</th>\n",
       "      <td>9168.0</td>\n",
       "      <td>9.184119e-02</td>\n",
       "      <td>0.288817</td>\n",
       "      <td>0.0</td>\n",
       "      <td>0.0</td>\n",
       "      <td>0.0</td>\n",
       "      <td>0.0</td>\n",
       "      <td>1.0</td>\n",
       "    </tr>\n",
       "    <tr>\n",
       "      <th>limited_time_offer</th>\n",
       "      <td>9168.0</td>\n",
       "      <td>3.272251e-04</td>\n",
       "      <td>0.018087</td>\n",
       "      <td>0.0</td>\n",
       "      <td>0.0</td>\n",
       "      <td>0.0</td>\n",
       "      <td>0.0</td>\n",
       "      <td>1.0</td>\n",
       "    </tr>\n",
       "  </tbody>\n",
       "</table>\n",
       "</div>"
      ],
      "text/plain": [
       "                     count          mean            std   min        25%  \\\n",
       "id                  9168.0  1.962952e+06  385971.360901  50.0  1819453.0   \n",
       "rating              9168.0  3.990020e+00       1.007707   0.0        4.0   \n",
       "number_of_reviews   9168.0  2.821392e+02     890.642028   0.0       10.0   \n",
       "love                9168.0  1.627859e+04   42606.514471   0.0     1600.0   \n",
       "price               9168.0  5.006324e+01      47.164989   2.0       24.0   \n",
       "value_price         9168.0  5.182359e+01      49.459020   2.0       25.0   \n",
       "online_only         9168.0  2.348386e-01       0.423921   0.0        0.0   \n",
       "exclusive           9168.0  2.647251e-01       0.441211   0.0        0.0   \n",
       "limited_edition     9168.0  9.184119e-02       0.288817   0.0        0.0   \n",
       "limited_time_offer  9168.0  3.272251e-04       0.018087   0.0        0.0   \n",
       "\n",
       "                          50%        75%        max  \n",
       "id                  2072353.5  2230591.0  2359685.0  \n",
       "rating                    4.0        4.5        5.0  \n",
       "number_of_reviews        46.0      210.0    19000.0  \n",
       "love                   4800.0    13800.0  1300000.0  \n",
       "price                    35.0       59.0      549.0  \n",
       "value_price              35.0       60.0      549.0  \n",
       "online_only               0.0        0.0        1.0  \n",
       "exclusive                 0.0        1.0        1.0  \n",
       "limited_edition           0.0        0.0        1.0  \n",
       "limited_time_offer        0.0        0.0        1.0  "
      ]
     },
     "execution_count": 6,
     "metadata": {},
     "output_type": "execute_result"
    }
   ],
   "source": [
    "# Sacamos los principales estadísticos de las variables numéricas nuestro DataFrame.\n",
    "\n",
    "df.describe().T"
   ]
  },
  {
   "cell_type": "code",
   "execution_count": 7,
   "metadata": {},
   "outputs": [
    {
     "data": {
      "text/html": [
       "<div>\n",
       "<style scoped>\n",
       "    .dataframe tbody tr th:only-of-type {\n",
       "        vertical-align: middle;\n",
       "    }\n",
       "\n",
       "    .dataframe tbody tr th {\n",
       "        vertical-align: top;\n",
       "    }\n",
       "\n",
       "    .dataframe thead th {\n",
       "        text-align: right;\n",
       "    }\n",
       "</style>\n",
       "<table border=\"1\" class=\"dataframe\">\n",
       "  <thead>\n",
       "    <tr style=\"text-align: right;\">\n",
       "      <th></th>\n",
       "      <th>count</th>\n",
       "      <th>unique</th>\n",
       "      <th>top</th>\n",
       "      <th>freq</th>\n",
       "    </tr>\n",
       "  </thead>\n",
       "  <tbody>\n",
       "    <tr>\n",
       "      <th>brand</th>\n",
       "      <td>9168</td>\n",
       "      <td>324</td>\n",
       "      <td>SEPHORA COLLECTION</td>\n",
       "      <td>496</td>\n",
       "    </tr>\n",
       "    <tr>\n",
       "      <th>category</th>\n",
       "      <td>9168</td>\n",
       "      <td>143</td>\n",
       "      <td>Perfume</td>\n",
       "      <td>665</td>\n",
       "    </tr>\n",
       "    <tr>\n",
       "      <th>name</th>\n",
       "      <td>9168</td>\n",
       "      <td>9106</td>\n",
       "      <td>Blush</td>\n",
       "      <td>4</td>\n",
       "    </tr>\n",
       "    <tr>\n",
       "      <th>size</th>\n",
       "      <td>9168</td>\n",
       "      <td>1623</td>\n",
       "      <td>no size</td>\n",
       "      <td>3161</td>\n",
       "    </tr>\n",
       "    <tr>\n",
       "      <th>URL</th>\n",
       "      <td>9168</td>\n",
       "      <td>9168</td>\n",
       "      <td>https://www.sephora.com/product/blu-mediterran...</td>\n",
       "      <td>1</td>\n",
       "    </tr>\n",
       "    <tr>\n",
       "      <th>MarketingFlags_content</th>\n",
       "      <td>9168</td>\n",
       "      <td>10</td>\n",
       "      <td>0</td>\n",
       "      <td>4786</td>\n",
       "    </tr>\n",
       "    <tr>\n",
       "      <th>options</th>\n",
       "      <td>9168</td>\n",
       "      <td>564</td>\n",
       "      <td>no options</td>\n",
       "      <td>8377</td>\n",
       "    </tr>\n",
       "    <tr>\n",
       "      <th>details</th>\n",
       "      <td>9168</td>\n",
       "      <td>8839</td>\n",
       "      <td>no details</td>\n",
       "      <td>14</td>\n",
       "    </tr>\n",
       "    <tr>\n",
       "      <th>how_to_use</th>\n",
       "      <td>9168</td>\n",
       "      <td>6497</td>\n",
       "      <td>no instructions</td>\n",
       "      <td>1573</td>\n",
       "    </tr>\n",
       "    <tr>\n",
       "      <th>ingredients</th>\n",
       "      <td>9168</td>\n",
       "      <td>6962</td>\n",
       "      <td>unknown</td>\n",
       "      <td>1630</td>\n",
       "    </tr>\n",
       "  </tbody>\n",
       "</table>\n",
       "</div>"
      ],
      "text/plain": [
       "                       count unique  \\\n",
       "brand                   9168    324   \n",
       "category                9168    143   \n",
       "name                    9168   9106   \n",
       "size                    9168   1623   \n",
       "URL                     9168   9168   \n",
       "MarketingFlags_content  9168     10   \n",
       "options                 9168    564   \n",
       "details                 9168   8839   \n",
       "how_to_use              9168   6497   \n",
       "ingredients             9168   6962   \n",
       "\n",
       "                                                                      top  \\\n",
       "brand                                                  SEPHORA COLLECTION   \n",
       "category                                                          Perfume   \n",
       "name                                                                Blush   \n",
       "size                                                              no size   \n",
       "URL                     https://www.sephora.com/product/blu-mediterran...   \n",
       "MarketingFlags_content                                                  0   \n",
       "options                                                        no options   \n",
       "details                                                        no details   \n",
       "how_to_use                                                no instructions   \n",
       "ingredients                                                       unknown   \n",
       "\n",
       "                        freq  \n",
       "brand                    496  \n",
       "category                 665  \n",
       "name                       4  \n",
       "size                    3161  \n",
       "URL                        1  \n",
       "MarketingFlags_content  4786  \n",
       "options                 8377  \n",
       "details                   14  \n",
       "how_to_use              1573  \n",
       "ingredients             1630  "
      ]
     },
     "execution_count": 7,
     "metadata": {},
     "output_type": "execute_result"
    }
   ],
   "source": [
    "# Sacamos los principales estadísticos de las variables categóricas nuestro DataFrame.\n",
    "\n",
    "df.describe(include = \"O\").T"
   ]
  },
  {
   "cell_type": "code",
   "execution_count": 8,
   "metadata": {},
   "outputs": [
    {
     "data": {
      "text/plain": [
       "id                        0\n",
       "brand                     0\n",
       "category                  0\n",
       "name                      0\n",
       "size                      0\n",
       "rating                    0\n",
       "number_of_reviews         0\n",
       "love                      0\n",
       "price                     0\n",
       "value_price               0\n",
       "URL                       0\n",
       "MarketingFlags            0\n",
       "MarketingFlags_content    0\n",
       "options                   0\n",
       "details                   0\n",
       "how_to_use                0\n",
       "ingredients               0\n",
       "online_only               0\n",
       "exclusive                 0\n",
       "limited_edition           0\n",
       "limited_time_offer        0\n",
       "dtype: int64"
      ]
     },
     "execution_count": 8,
     "metadata": {},
     "output_type": "execute_result"
    }
   ],
   "source": [
    "# Vemos los nulos que tenemos en nuestro DataFrame:\n",
    "# Como no tenemos nulos, no tenemos que imputarlos.\n",
    "\n",
    "df.isnull().sum()"
   ]
  },
  {
   "cell_type": "code",
   "execution_count": 9,
   "metadata": {},
   "outputs": [
    {
     "data": {
      "text/plain": [
       "0"
      ]
     },
     "execution_count": 9,
     "metadata": {},
     "output_type": "execute_result"
    }
   ],
   "source": [
    "# Vemos si tenemos duplicados en nuestro DataFrame:\n",
    "# Tampoco tenemos duplicados, por lo que no tenemos que hacer nada con ellos.\n",
    "\n",
    "df.duplicated().sum()"
   ]
  },
  {
   "cell_type": "code",
   "execution_count": 10,
   "metadata": {},
   "outputs": [
    {
     "data": {
      "text/html": [
       "<div>\n",
       "<style scoped>\n",
       "    .dataframe tbody tr th:only-of-type {\n",
       "        vertical-align: middle;\n",
       "    }\n",
       "\n",
       "    .dataframe tbody tr th {\n",
       "        vertical-align: top;\n",
       "    }\n",
       "\n",
       "    .dataframe thead th {\n",
       "        text-align: right;\n",
       "    }\n",
       "</style>\n",
       "<table border=\"1\" class=\"dataframe\">\n",
       "  <thead>\n",
       "    <tr style=\"text-align: right;\">\n",
       "      <th></th>\n",
       "      <th>id</th>\n",
       "      <th>rating</th>\n",
       "      <th>number_of_reviews</th>\n",
       "      <th>love</th>\n",
       "      <th>price</th>\n",
       "      <th>value_price</th>\n",
       "      <th>online_only</th>\n",
       "      <th>exclusive</th>\n",
       "      <th>limited_edition</th>\n",
       "      <th>limited_time_offer</th>\n",
       "    </tr>\n",
       "  </thead>\n",
       "  <tbody>\n",
       "    <tr>\n",
       "      <th>0</th>\n",
       "      <td>2218774</td>\n",
       "      <td>4.0</td>\n",
       "      <td>4</td>\n",
       "      <td>3002</td>\n",
       "      <td>66.0</td>\n",
       "      <td>75.0</td>\n",
       "      <td>1</td>\n",
       "      <td>0</td>\n",
       "      <td>0</td>\n",
       "      <td>0</td>\n",
       "    </tr>\n",
       "    <tr>\n",
       "      <th>1</th>\n",
       "      <td>2044816</td>\n",
       "      <td>4.5</td>\n",
       "      <td>76</td>\n",
       "      <td>2700</td>\n",
       "      <td>66.0</td>\n",
       "      <td>66.0</td>\n",
       "      <td>1</td>\n",
       "      <td>0</td>\n",
       "      <td>0</td>\n",
       "      <td>0</td>\n",
       "    </tr>\n",
       "  </tbody>\n",
       "</table>\n",
       "</div>"
      ],
      "text/plain": [
       "        id  rating  number_of_reviews  love  price  value_price  online_only  \\\n",
       "0  2218774     4.0                  4  3002   66.0         75.0            1   \n",
       "1  2044816     4.5                 76  2700   66.0         66.0            1   \n",
       "\n",
       "   exclusive  limited_edition  limited_time_offer  \n",
       "0          0                0                   0  \n",
       "1          0                0                   0  "
      ]
     },
     "execution_count": 10,
     "metadata": {},
     "output_type": "execute_result"
    }
   ],
   "source": [
    "# Creamos un DataFrame únicamente con las variables numéricas para poder trabajar con ellas.\n",
    "\n",
    "numericas = df.select_dtypes(include=['int64', 'float64'])\n",
    "numericas.head(2)"
   ]
  },
  {
   "cell_type": "code",
   "execution_count": 11,
   "metadata": {},
   "outputs": [
    {
     "data": {
      "image/png": "[encoded data removed]",
      "text/plain": [
       "<Figure size 720x1080 with 9 Axes>"
      ]
     },
     "metadata": {
      "needs_background": "light"
     },
     "output_type": "display_data"
    }
   ],
   "source": [
    "# Sacamos un boxplot para ver los outliers de nuestras variables numéricas.\n",
    "\n",
    "fig, axes = plt.subplots(5, 2, figsize=(10,15))\n",
    "\n",
    "axes = axes.flat \n",
    "\n",
    "for indice, columna in enumerate(numericas.columns):\n",
    "    sns.boxplot(x = numericas[columna], data = df, ax=axes[indice], color = \"cornflowerblue\"); \n",
    "    \n",
    "plt.tight_layout()\n",
    "fig.delaxes(axes[-1])\n",
    "plt.show()"
   ]
  },
  {
   "cell_type": "markdown",
   "metadata": {},
   "source": [
    "Hemos realizado boxplots para todas las variables numéricas y poder observar cuáles de ellas tienen outliers. \n",
    "\n",
    "- ID: Es normal que tenga outliers, porque simplemente es un número identificatorio. \n",
    "\n",
    "- Rating: Creemos que, realmente, es una variable categórica, porque los valores van desde el 0 hasta el 5. Aún así, se puede observar que la mayoría de los productos tiene una valoración de 3.5 a 5. \n",
    "\n",
    "- number_of_reviews: La mayoría de productos no tienen muchas valoraciones o incluso ninguna. No obstante, hay muchos outliers. \n",
    "\n",
    "- love: También hay muchos outliers, pero dependerá mucho de cada producto. \n",
    "\n",
    "- price: La mayoría de productos se encuentran entre 0 y 100, pero también hay muchos outliers, pero esto es lógico, ya que Sephora vende productos caros, y puede vender colonias muy caras de lujo que cuyo precio varía mucho comparado con productos individuales de marcas más baratas. \n",
    "\n",
    "- value_price: Igual que precio. \n",
    "\n",
    "- online_only, exclusive y limited_edition: Son variables categóricas."
   ]
  },
  {
   "cell_type": "code",
   "execution_count": 12,
   "metadata": {},
   "outputs": [
    {
     "data": {
      "text/plain": [
       "(9168, 10)"
      ]
     },
     "execution_count": 12,
     "metadata": {},
     "output_type": "execute_result"
    }
   ],
   "source": [
    "numericas.shape"
   ]
  },
  {
   "cell_type": "code",
   "execution_count": 13,
   "metadata": {},
   "outputs": [
    {
     "data": {
      "image/png": "[encoded data removed]",
      "text/plain": [
       "<Figure size 2160x720 with 9 Axes>"
      ]
     },
     "metadata": {
      "needs_background": "light"
     },
     "output_type": "display_data"
    }
   ],
   "source": [
    "# Sacamos los regplots de las variables numéricas predictoras para ver su relación con la variable respuesta.\n",
    "\n",
    "fig, axes = plt.subplots(3, 3, figsize = (30, 10))\n",
    "\n",
    "axes = axes.flat\n",
    "\n",
    "numericas = numericas.drop(\"price\", axis = 1)\n",
    "\n",
    "for i, columna in enumerate(numericas):\n",
    "    sns.regplot(\n",
    "        x = df[columna], \n",
    "        y = df[\"price\"], \n",
    "        color = \"cornflowerblue\", \n",
    "        marker = \".\", \n",
    "        scatter_kws = {\"alpha\": 0.4}, \n",
    "        line_kws = {\"color\": \"red\", \"alpha\": 0.7 }, \n",
    "        ax = axes[i])\n",
    "    \n",
    "    axes[i].set_title(f\"Precio vs {columna}\", fontsize = 10, fontweight = \"bold\")\n",
    "    axes[i].tick_params(labelsize = 20)\n",
    "    axes[i].set_xlabel(\"\")\n",
    "    axes[i].set_ylabel(\"\")\n",
    "    \n",
    "fig.tight_layout();"
   ]
  },
  {
   "cell_type": "markdown",
   "metadata": {},
   "source": [
    "Después de esta exploración inicial, podemos concluir que no tenemos nulos ni duplicados, que hay outliers en todas las columnas numéricas (a excepción de \"online_only\"). No obstante, hemos visto que hay falsas numéricas, como \"online_only\", \"limited_edition\", \"limited_time_offer\" y \"exclusive\", y vamos a proceder a categorizarlas para poder trabajar mejor con estos datos. En cuanto al resto de variables, decidimos no tratar los outliers, porque consideramos que pueden ser normales en este contexto. Por ejemplo, un producto puede tener muchísimas reviews y mucha gente a la que le guste por ser popular. "
   ]
  },
  {
   "cell_type": "markdown",
   "metadata": {},
   "source": [
    "Sacamos los únicos de las columnas a categorizar:"
   ]
  },
  {
   "cell_type": "code",
   "execution_count": 14,
   "metadata": {},
   "outputs": [
    {
     "data": {
      "text/plain": [
       "array([1, 0])"
      ]
     },
     "execution_count": 14,
     "metadata": {},
     "output_type": "execute_result"
    }
   ],
   "source": [
    "df[\"online_only\"].unique()"
   ]
  },
  {
   "cell_type": "code",
   "execution_count": 15,
   "metadata": {},
   "outputs": [
    {
     "data": {
      "text/plain": [
       "array([0, 1])"
      ]
     },
     "execution_count": 15,
     "metadata": {},
     "output_type": "execute_result"
    }
   ],
   "source": [
    "df[\"limited_edition\"].unique()"
   ]
  },
  {
   "cell_type": "code",
   "execution_count": 16,
   "metadata": {},
   "outputs": [
    {
     "data": {
      "text/plain": [
       "array([0, 1])"
      ]
     },
     "execution_count": 16,
     "metadata": {},
     "output_type": "execute_result"
    }
   ],
   "source": [
    "df[\"limited_time_offer\"].unique()"
   ]
  },
  {
   "cell_type": "code",
   "execution_count": 17,
   "metadata": {},
   "outputs": [
    {
     "data": {
      "text/plain": [
       "array([0, 1])"
      ]
     },
     "execution_count": 17,
     "metadata": {},
     "output_type": "execute_result"
    }
   ],
   "source": [
    "df[\"exclusive\"].unique()"
   ]
  },
  {
   "cell_type": "code",
   "execution_count": 18,
   "metadata": {},
   "outputs": [],
   "source": [
    "# Creamos una lista con las columnas: \n",
    "\n",
    "columnas_cat = [\"online_only\", \"limited_edition\", \"limited_time_offer\", \"exclusive\"]"
   ]
  },
  {
   "cell_type": "code",
   "execution_count": 19,
   "metadata": {},
   "outputs": [],
   "source": [
    "# Aplicamos una lambda para cambiar los 1 y 0 por \"Yes\" y \"No\" para que sea más sencillo trabajar con ellos y no sea una falsa numérica. \n",
    "\n",
    "for columna in columnas_cat: \n",
    "    df[columna] = df[columna].apply(lambda elemento : str(elemento).replace(\"1\", \"Yes\").replace(\"0\", \"No\"))"
   ]
  },
  {
   "cell_type": "markdown",
   "metadata": {},
   "source": [
    "Sacamos los únicos de las columnas de \"MarketingFlags\" y \"MarketingFlags_content\" para ver su contenido."
   ]
  },
  {
   "cell_type": "code",
   "execution_count": 20,
   "metadata": {},
   "outputs": [
    {
     "data": {
      "text/plain": [
       "array([ True, False])"
      ]
     },
     "execution_count": 20,
     "metadata": {},
     "output_type": "execute_result"
    }
   ],
   "source": [
    "df[\"MarketingFlags\"].unique()"
   ]
  },
  {
   "cell_type": "code",
   "execution_count": 21,
   "metadata": {},
   "outputs": [
    {
     "data": {
      "text/plain": [
       "array(['online only', 'exclusive · online only', '0',\n",
       "       'limited edition · exclusive · online only',\n",
       "       'limited edition · online only', 'exclusive',\n",
       "       'limited edition · exclusive', 'limited edition',\n",
       "       'limited time offer',\n",
       "       'limited time offer · limited edition · exclusive'], dtype=object)"
      ]
     },
     "execution_count": 21,
     "metadata": {},
     "output_type": "execute_result"
    }
   ],
   "source": [
    "# Comprobamos que ambas columnas tienen la misma información que otras columnas del DataFrame, por lo que decidimos borrar ambas.\n",
    "\n",
    "df[\"MarketingFlags_content\"].unique()"
   ]
  },
  {
   "cell_type": "code",
   "execution_count": 22,
   "metadata": {},
   "outputs": [
    {
     "data": {
      "text/html": [
       "<div>\n",
       "<style scoped>\n",
       "    .dataframe tbody tr th:only-of-type {\n",
       "        vertical-align: middle;\n",
       "    }\n",
       "\n",
       "    .dataframe tbody tr th {\n",
       "        vertical-align: top;\n",
       "    }\n",
       "\n",
       "    .dataframe thead th {\n",
       "        text-align: right;\n",
       "    }\n",
       "</style>\n",
       "<table border=\"1\" class=\"dataframe\">\n",
       "  <thead>\n",
       "    <tr style=\"text-align: right;\">\n",
       "      <th></th>\n",
       "      <th>brand</th>\n",
       "      <th>category</th>\n",
       "      <th>rating</th>\n",
       "      <th>number_of_reviews</th>\n",
       "      <th>love</th>\n",
       "      <th>price</th>\n",
       "      <th>value_price</th>\n",
       "      <th>online_only</th>\n",
       "      <th>exclusive</th>\n",
       "      <th>limited_edition</th>\n",
       "      <th>limited_time_offer</th>\n",
       "    </tr>\n",
       "  </thead>\n",
       "  <tbody>\n",
       "    <tr>\n",
       "      <th>0</th>\n",
       "      <td>Acqua Di Parma</td>\n",
       "      <td>Fragrance</td>\n",
       "      <td>4.0</td>\n",
       "      <td>4</td>\n",
       "      <td>3002</td>\n",
       "      <td>66.0</td>\n",
       "      <td>75.0</td>\n",
       "      <td>Yes</td>\n",
       "      <td>No</td>\n",
       "      <td>No</td>\n",
       "      <td>No</td>\n",
       "    </tr>\n",
       "  </tbody>\n",
       "</table>\n",
       "</div>"
      ],
      "text/plain": [
       "            brand   category  rating  number_of_reviews  love  price  \\\n",
       "0  Acqua Di Parma  Fragrance     4.0                  4  3002   66.0   \n",
       "\n",
       "   value_price online_only exclusive limited_edition limited_time_offer  \n",
       "0         75.0         Yes        No              No                 No  "
      ]
     },
     "execution_count": 22,
     "metadata": {},
     "output_type": "execute_result"
    }
   ],
   "source": [
    "# Borramos columnas con las que no vamos a trabajar.\n",
    "\n",
    "df.drop([\"MarketingFlags\", \"MarketingFlags_content\", \"id\", \"URL\", \"name\", \"size\", \"options\", \"details\", \"how_to_use\", \"ingredients\"], axis = 1, inplace = True)\n",
    "df.head(1)"
   ]
  },
  {
   "cell_type": "code",
   "execution_count": 23,
   "metadata": {},
   "outputs": [],
   "source": [
    "# Decidimos filtrar por perfumes y colonias para tener un menor número de categorías y de marcas.\n",
    "\n",
    "df = df[df[\"category\"].str.contains(\"Cologne|Perfume|Fragrance\", case = False)]"
   ]
  },
  {
   "cell_type": "code",
   "execution_count": 24,
   "metadata": {},
   "outputs": [
    {
     "name": "stdout",
     "output_type": "stream",
     "text": [
      "Nuestro DataFrame ahora tiene 991 filas y 11 columnas.\n"
     ]
    }
   ],
   "source": [
    "print(f\"Nuestro DataFrame ahora tiene {df.shape[0]} filas y {df.shape[1]} columnas.\")"
   ]
  },
  {
   "cell_type": "code",
   "execution_count": 25,
   "metadata": {},
   "outputs": [
    {
     "data": {
      "text/html": [
       "<div>\n",
       "<style scoped>\n",
       "    .dataframe tbody tr th:only-of-type {\n",
       "        vertical-align: middle;\n",
       "    }\n",
       "\n",
       "    .dataframe tbody tr th {\n",
       "        vertical-align: top;\n",
       "    }\n",
       "\n",
       "    .dataframe thead th {\n",
       "        text-align: right;\n",
       "    }\n",
       "</style>\n",
       "<table border=\"1\" class=\"dataframe\">\n",
       "  <thead>\n",
       "    <tr style=\"text-align: right;\">\n",
       "      <th></th>\n",
       "      <th>brand</th>\n",
       "      <th>category</th>\n",
       "      <th>rating</th>\n",
       "      <th>number_of_reviews</th>\n",
       "      <th>love</th>\n",
       "      <th>price</th>\n",
       "      <th>value_price</th>\n",
       "      <th>online_only</th>\n",
       "      <th>exclusive</th>\n",
       "      <th>limited_edition</th>\n",
       "      <th>limited_time_offer</th>\n",
       "    </tr>\n",
       "  </thead>\n",
       "  <tbody>\n",
       "    <tr>\n",
       "      <th>0</th>\n",
       "      <td>Acqua Di Parma</td>\n",
       "      <td>Fragrance</td>\n",
       "      <td>4.0</td>\n",
       "      <td>4</td>\n",
       "      <td>3002</td>\n",
       "      <td>66.0</td>\n",
       "      <td>75.0</td>\n",
       "      <td>Yes</td>\n",
       "      <td>No</td>\n",
       "      <td>No</td>\n",
       "      <td>No</td>\n",
       "    </tr>\n",
       "  </tbody>\n",
       "</table>\n",
       "</div>"
      ],
      "text/plain": [
       "            brand   category  rating  number_of_reviews  love  price  \\\n",
       "0  Acqua Di Parma  Fragrance     4.0                  4  3002   66.0   \n",
       "\n",
       "   value_price online_only exclusive limited_edition limited_time_offer  \n",
       "0         75.0         Yes        No              No                 No  "
      ]
     },
     "execution_count": 25,
     "metadata": {},
     "output_type": "execute_result"
    }
   ],
   "source": [
    "df.head(1)"
   ]
  },
  {
   "cell_type": "code",
   "execution_count": 26,
   "metadata": {},
   "outputs": [],
   "source": [
    "# Reseteamos el index de nuestro dataframe, ya que al filtrar éste ya no es seguido, lo que nos podría generar nulos en el futuro.\n",
    "\n",
    "df = df.reset_index()\n",
    "df.drop(\"index\", axis = 1, inplace = True) # Eliminamos la columna de index que se genera. "
   ]
  },
  {
   "cell_type": "code",
   "execution_count": 27,
   "metadata": {},
   "outputs": [
    {
     "data": {
      "text/plain": [
       "RangeIndex(start=0, stop=991, step=1)"
      ]
     },
     "execution_count": 27,
     "metadata": {},
     "output_type": "execute_result"
    }
   ],
   "source": [
    "df.index #Comprobamos que los índices están bien. "
   ]
  },
  {
   "cell_type": "code",
   "execution_count": 28,
   "metadata": {},
   "outputs": [],
   "source": [
    "# Guardamos el dataframe\n",
    "df.to_csv(\"../data/sephora2.csv\")"
   ]
  },
  {
   "cell_type": "markdown",
   "metadata": {},
   "source": [
    "# Regresión lineal II. Tests Estadísticos"
   ]
  },
  {
   "cell_type": "markdown",
   "metadata": {},
   "source": [
    "1. ¿Qué diferencia existe el error de tipo I y el error de tipo II?\n",
    "\n",
    "Nuestra hipótesis nula (H0) es que el precio no cambia.\n",
    "Nuestra hipótesis alternativa es que el precio sí cambia.\n",
    "\n",
    "Error de tipo I -> Falso positivo, es decir, el precio sí cambia cuando en realidad no lo hace. Este el error que preferimos como clientes.\n",
    "\n",
    "Error de tipo II -> Falso negativo, es decir, el precio no cambia cuando en realidad sí lo hace. Este el error que preferimos como empresa."
   ]
  },
  {
   "cell_type": "markdown",
   "metadata": {},
   "source": [
    "2. ¿Qué es la asimetría?\n",
    "\n",
    "La asimetría es la falta de simetría que presenta una distribución teniendo en cuenta la media."
   ]
  },
  {
   "cell_type": "markdown",
   "metadata": {},
   "source": [
    "3. ¿Es vuestra variable respuesta asimétrica?"
   ]
  },
  {
   "cell_type": "code",
   "execution_count": 29,
   "metadata": {},
   "outputs": [
    {
     "data": {
      "text/plain": [
       "1.4086070771518424"
      ]
     },
     "execution_count": 29,
     "metadata": {},
     "output_type": "execute_result"
    }
   ],
   "source": [
    "# Nuestra variable respuesta es asimétrica positiva, por lo que nuestros datos no son normales. \n",
    "\n",
    "skew(df[\"price\"])"
   ]
  },
  {
   "cell_type": "markdown",
   "metadata": {},
   "source": [
    "4. ¿Qué tipo de curtosis presenta vuestra variable respuesta?"
   ]
  },
  {
   "cell_type": "code",
   "execution_count": 30,
   "metadata": {},
   "outputs": [
    {
     "data": {
      "text/plain": [
       "KurtosistestResult(statistic=8.511893868093086, pvalue=1.7111516885843066e-17)"
      ]
     },
     "execution_count": 30,
     "metadata": {},
     "output_type": "execute_result"
    }
   ],
   "source": [
    "# Nuestro p-value es casi de 0.0, por lo que es de tipo mesocúrtica, es decir, tiene una morfología redondeada. \n",
    "\n",
    "kurtosistest(df[\"price\"]) "
   ]
  },
  {
   "cell_type": "markdown",
   "metadata": {},
   "source": [
    "5. ¿Es vuestra variable respuesta normal? Demostrarlo visual y analíticamente."
   ]
  },
  {
   "cell_type": "code",
   "execution_count": 31,
   "metadata": {},
   "outputs": [
    {
     "data": {
      "text/plain": [
       "KstestResult(statistic=1.0, pvalue=0.0)"
      ]
     },
     "execution_count": 31,
     "metadata": {},
     "output_type": "execute_result"
    }
   ],
   "source": [
    "# Nuestro p-value es 0.0, lo que significa que no podemos aceptar la H0 y, por tanto nuestros datos no son normales. \n",
    "\n",
    "kstest(df[\"price\"], 'norm') "
   ]
  },
  {
   "cell_type": "code",
   "execution_count": 32,
   "metadata": {},
   "outputs": [
    {
     "data": {
      "image/png": "[encoded data removed]",
      "text/plain": [
       "<Figure size 576x576 with 1 Axes>"
      ]
     },
     "metadata": {
      "needs_background": "light"
     },
     "output_type": "display_data"
    }
   ],
   "source": [
    "ax = sns.displot(df[\"price\"], kde = True, color = \"cornflowerblue\", height = 8)"
   ]
  },
  {
   "cell_type": "markdown",
   "metadata": {},
   "source": [
    "Como conclusión, como se puede observar en la gráfica, nuestros datos no son normales porque no se ajustan a un tipo de distribución de campana de Gauss."
   ]
  }
 ],
 "metadata": {
  "kernelspec": {
   "display_name": "base",
   "language": "python",
   "name": "python3"
  },
  "language_info": {
   "codemirror_mode": {
    "name": "ipython",
    "version": 3
   },
   "file_extension": ".py",
   "mimetype": "text/x-python",
   "name": "python",
   "nbconvert_exporter": "python",
   "pygments_lexer": "ipython3",
   "version": "3.9.7"
  },
  "orig_nbformat": 4
 },
 "nbformat": 4,
 "nbformat_minor": 2
}
