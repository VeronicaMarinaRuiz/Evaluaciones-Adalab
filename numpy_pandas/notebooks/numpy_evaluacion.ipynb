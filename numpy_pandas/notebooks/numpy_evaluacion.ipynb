{
 "cells": [
  {
   "cell_type": "markdown",
   "metadata": {},
   "source": [
    "## Ejercicios de NumPy"
   ]
  },
  {
   "cell_type": "markdown",
   "metadata": {},
   "source": [
    "1. Importa la librería de NumPy."
   ]
  },
  {
   "cell_type": "code",
   "execution_count": 2,
   "metadata": {},
   "outputs": [],
   "source": [
    "import numpy as np"
   ]
  },
  {
   "cell_type": "markdown",
   "metadata": {},
   "source": [
    "2. Crea un array de 1 dimension y 10 elementos."
   ]
  },
  {
   "cell_type": "code",
   "execution_count": 3,
   "metadata": {},
   "outputs": [
    {
     "data": {
      "text/plain": [
       "array([0, 1, 2, 3, 4, 5, 6, 7, 8, 9])"
      ]
     },
     "execution_count": 3,
     "metadata": {},
     "output_type": "execute_result"
    }
   ],
   "source": [
    "# Utilizo el método arange() porque me crea un array unidimensional.\n",
    "array = np.arange(10)\n",
    "array"
   ]
  },
  {
   "cell_type": "markdown",
   "metadata": {},
   "source": [
    "3. Reemplaza todos los números impares por el valor \"impar\" y los pares por \"par\". Para hacer esto os tendréis que crear un array nuevo donde vayáis añadiendo los valores nuevos."
   ]
  },
  {
   "cell_type": "code",
   "execution_count": 4,
   "metadata": {},
   "outputs": [],
   "source": [
    "# Primero creo una lista vacía donde se van a añadir los valores nuevos. \n",
    "array_nuevo = []\n",
    "\n",
    "# Después, con un for itero por cada elemento del primer array para reemplazar esos valores.\n",
    "# Si se pueden dividir entre 2 son pares y si no, son impares: con el método de listas append() añado ese valor a la lista vacía que he creado.\n",
    "for num in array:\n",
    "    if num % 2 == 0:  \n",
    "        array_nuevo.append('par')\n",
    "    else: \n",
    "        array_nuevo.append('impar')"
   ]
  },
  {
   "cell_type": "code",
   "execution_count": 5,
   "metadata": {},
   "outputs": [
    {
     "data": {
      "text/plain": [
       "array(['par', 'impar', 'par', 'impar', 'par', 'impar', 'par', 'impar',\n",
       "       'par', 'impar'], dtype='<U5')"
      ]
     },
     "execution_count": 5,
     "metadata": {},
     "output_type": "execute_result"
    }
   ],
   "source": [
    "# Convierto la lista en la que se han añadido los elementos en un array.\n",
    "np.array(array_nuevo)"
   ]
  },
  {
   "cell_type": "code",
   "execution_count": 16,
   "metadata": {},
   "outputs": [
    {
     "data": {
      "text/plain": [
       "array(['par', 'impar', 'par', 'impar', 'par', 'impar', 'par', 'impar',\n",
       "       'par', 'impar'], dtype='<U5')"
      ]
     },
     "execution_count": 16,
     "metadata": {},
     "output_type": "execute_result"
    }
   ],
   "source": [
    "# Otra forma de hacerlo con un np.where, si no se puede dividir entre 2 es impar y si no, es par.\n",
    "array_cambiado = np.where(array % 2 !=0, 'impar', 'par')\n",
    "array_cambiado"
   ]
  },
  {
   "cell_type": "markdown",
   "metadata": {},
   "source": [
    "4. Cambiad la forma del array del ejercicio 3 a un array de 2 filas y 5 columnas."
   ]
  },
  {
   "cell_type": "code",
   "execution_count": 6,
   "metadata": {},
   "outputs": [
    {
     "data": {
      "text/plain": [
       "array([['par', 'impar', 'par', 'impar', 'par'],\n",
       "       ['impar', 'par', 'impar', 'par', 'impar']], dtype='<U5')"
      ]
     },
     "execution_count": 6,
     "metadata": {},
     "output_type": "execute_result"
    }
   ],
   "source": [
    "# Con el método reshape() cambio la forma del array sin cambiar sus datos.\n",
    "array_nuevo = np.reshape(array_nuevo,(2,5))\n",
    "array_nuevo"
   ]
  },
  {
   "cell_type": "markdown",
   "metadata": {},
   "source": [
    "5. Extrae los elementos comunes de los siguientes arrays"
   ]
  },
  {
   "cell_type": "code",
   "execution_count": 7,
   "metadata": {},
   "outputs": [],
   "source": [
    "array1 = np.array([1,2,3,2,3,4,3,4,5,6])\n",
    "array2 = np.array([7,2,10,2,7,4,9,4,9,8])"
   ]
  },
  {
   "cell_type": "code",
   "execution_count": 8,
   "metadata": {},
   "outputs": [
    {
     "data": {
      "text/plain": [
       "array([2, 4])"
      ]
     },
     "execution_count": 8,
     "metadata": {},
     "output_type": "execute_result"
    }
   ],
   "source": [
    "# Utilizo el método np.intersect1d() para encontrar los elementos comunes: son el 2 y el 4.\n",
    "np.intersect1d(array1, array2)"
   ]
  },
  {
   "cell_type": "markdown",
   "metadata": {},
   "source": [
    "6. Extraed los elementos que están en el array1 pero no en el array2."
   ]
  },
  {
   "cell_type": "code",
   "execution_count": 9,
   "metadata": {},
   "outputs": [
    {
     "data": {
      "text/plain": [
       "array([1, 3, 5, 6])"
      ]
     },
     "execution_count": 9,
     "metadata": {},
     "output_type": "execute_result"
    }
   ],
   "source": [
    "# Utilizo el método np.setdiff1d() para que me encuentre cuales son los elementos que están en el array1, pero no en el array2. \n",
    "# En este caso, la posición de los arrays en la sintaxis es importante.\n",
    "np.setdiff1d(array1, array2)"
   ]
  },
  {
   "cell_type": "markdown",
   "metadata": {},
   "source": [
    "7. Extraed las posiciones donde tengamos elementos que sean iguales."
   ]
  },
  {
   "cell_type": "code",
   "execution_count": 20,
   "metadata": {},
   "outputs": [
    {
     "data": {
      "text/plain": [
       "(array([1, 3, 5, 7]),)"
      ]
     },
     "execution_count": 20,
     "metadata": {},
     "output_type": "execute_result"
    }
   ],
   "source": [
    "# Utilizo el método np.where, ya que me devuelve los índices donde los elementos son iguales, entre paréntesis pongo la condición.\n",
    "np.where(array1 == array2)\n"
   ]
  },
  {
   "cell_type": "markdown",
   "metadata": {},
   "source": [
    "- En el índice 1 encontramos el nº 2.\n",
    "- En el índice 3 encontramos el nº 2.\n",
    "- En el índice 5 encontramos el nº 4.\n",
    "- En el índice 7 encontramos el nº 4."
   ]
  },
  {
   "cell_type": "markdown",
   "metadata": {},
   "source": [
    "8. Cread un array de 3 filas y 5 columnas, con números enteros del 0 al 50. Una vez creado, extrae los valores que sean menores que 10 y mayores que 40."
   ]
  },
  {
   "cell_type": "code",
   "execution_count": 40,
   "metadata": {},
   "outputs": [
    {
     "data": {
      "text/plain": [
       "array([[ 7, 37, 30, 28, 15],\n",
       "       [40, 38, 42, 18, 23],\n",
       "       [12, 21, 31, 25,  9]])"
      ]
     },
     "execution_count": 40,
     "metadata": {},
     "output_type": "execute_result"
    }
   ],
   "source": [
    "# Utilizo el método np.random.randint() que nos devuelve un array de x dimensiones con nº enteros aleatorios porque tenemos que especificar\n",
    "# entre que números queremos que estén (0, 50).\n",
    "array3 = np.random.randint(0, 50, (3,5))\n",
    "array3"
   ]
  },
  {
   "cell_type": "markdown",
   "metadata": {},
   "source": [
    "arr3[(arr3 < 10) | (arr3 > 40)]"
   ]
  },
  {
   "cell_type": "code",
   "execution_count": 44,
   "metadata": {},
   "outputs": [
    {
     "data": {
      "text/plain": [
       "array([ 7, 42,  9])"
      ]
     },
     "execution_count": 44,
     "metadata": {},
     "output_type": "execute_result"
    }
   ],
   "source": [
    "# Utilizo el operador | para que se cumplan las condiciones.\n",
    "array3[(array3 < 10) | (array3 > 40)]"
   ]
  },
  {
   "cell_type": "markdown",
   "metadata": {},
   "source": [
    "9. Cread un array de 5x3 con números decimales aleatorios entre el 5 y el 10."
   ]
  },
  {
   "cell_type": "code",
   "execution_count": 45,
   "metadata": {},
   "outputs": [
    {
     "data": {
      "text/plain": [
       "array([[8.86, 8.99, 7.59],\n",
       "       [8.37, 7.15, 6.28],\n",
       "       [7.76, 5.04, 5.42],\n",
       "       [7.53, 5.18, 9.89],\n",
       "       [7.31, 5.21, 8.31]])"
      ]
     },
     "execution_count": 45,
     "metadata": {},
     "output_type": "execute_result"
    }
   ],
   "source": [
    "# Utilizo el método np.random.uniform() porque genera un array con valores aleatorios uniformes. En el parámetro size indico el taño del array.\n",
    "# Para que no sean números con muchos decimales, utilizo el método round() para que redondee el nº a dos decimales.\n",
    "np.random.uniform(5, 10, (5, 3)).round(2)"
   ]
  },
  {
   "cell_type": "markdown",
   "metadata": {},
   "source": [
    "10. Crea un array de tres dimensiones de 2x4x7 con números entre el 1 y el 20."
   ]
  },
  {
   "cell_type": "code",
   "execution_count": 14,
   "metadata": {},
   "outputs": [
    {
     "data": {
      "text/plain": [
       "array([[[ 8,  7,  7, 19,  4,  2, 12],\n",
       "        [ 6,  1, 15, 18,  4, 19,  2],\n",
       "        [12, 13, 17, 18, 10,  3, 18],\n",
       "        [15, 13, 18,  1,  3, 18,  8]],\n",
       "\n",
       "       [[14,  6,  3,  9, 12, 18,  8],\n",
       "        [ 1,  2, 16,  1, 14, 10, 19],\n",
       "        [15, 16, 13,  1, 12, 19, 13],\n",
       "        [10,  9, 14, 11, 13,  6,  7]]])"
      ]
     },
     "execution_count": 14,
     "metadata": {},
     "output_type": "execute_result"
    }
   ],
   "source": [
    "# Utilizo de nuevo el método np.random.randint().\n",
    "array4 = np.random.randint(1, 20, (2,4,7))\n",
    "array4"
   ]
  },
  {
   "cell_type": "markdown",
   "metadata": {},
   "source": [
    "Transponed el array para que tenga 4 matrices, 7 filas y 2 columnas"
   ]
  },
  {
   "cell_type": "code",
   "execution_count": 15,
   "metadata": {},
   "outputs": [
    {
     "data": {
      "text/plain": [
       "array([[[ 8, 14],\n",
       "        [ 7,  6],\n",
       "        [ 7,  3],\n",
       "        [19,  9],\n",
       "        [ 4, 12],\n",
       "        [ 2, 18],\n",
       "        [12,  8]],\n",
       "\n",
       "       [[ 6,  1],\n",
       "        [ 1,  2],\n",
       "        [15, 16],\n",
       "        [18,  1],\n",
       "        [ 4, 14],\n",
       "        [19, 10],\n",
       "        [ 2, 19]],\n",
       "\n",
       "       [[12, 15],\n",
       "        [13, 16],\n",
       "        [17, 13],\n",
       "        [18,  1],\n",
       "        [10, 12],\n",
       "        [ 3, 19],\n",
       "        [18, 13]],\n",
       "\n",
       "       [[15, 10],\n",
       "        [13,  9],\n",
       "        [18, 14],\n",
       "        [ 1, 11],\n",
       "        [ 3, 13],\n",
       "        [18,  6],\n",
       "        [ 8,  7]]])"
      ]
     },
     "execution_count": 15,
     "metadata": {},
     "output_type": "execute_result"
    }
   ],
   "source": [
    "# Utilizo el método np.transpose cambio las dimensiones el array. \n",
    "# Le paso una tupla indicando los ejes y la posición en la que los quiero: el 4 está en el índice 1, el 7 en el índice 2 y el 2 en el índice 0.\n",
    "array5 = np.transpose(array4, (1,2,0))\n",
    "array5"
   ]
  }
 ],
 "metadata": {
  "kernelspec": {
   "display_name": "base",
   "language": "python",
   "name": "python3"
  },
  "language_info": {
   "codemirror_mode": {
    "name": "ipython",
    "version": 3
   },
   "file_extension": ".py",
   "mimetype": "text/x-python",
   "name": "python",
   "nbconvert_exporter": "python",
   "pygments_lexer": "ipython3",
   "version": "3.9.7"
  },
  "orig_nbformat": 4
 },
 "nbformat": 4,
 "nbformat_minor": 2
}
